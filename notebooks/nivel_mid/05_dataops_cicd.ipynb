{
 "cells": [
  {
   "cell_type": "markdown",
   "id": "2e55eee6",
   "metadata": {},
   "source": [
    "# ♻️ DataOps y CI/CD para Pipelines de Datos\n",
    "\n",
    "Objetivo: implementar prácticas de DataOps con control de calidad, pruebas automatizadas, hooks de Git y pipelines de CI/CD (GitHub Actions) para flujos de datos.\n",
    "\n",
    "- Duración: 90 min\n",
    "- Dificultad: Media\n",
    "- Prerrequisitos: Pytest básico, Git y GitHub"
   ]
  },
  {
   "cell_type": "markdown",
   "id": "fda789a7",
   "metadata": {},
   "source": [
    "## 1. Pruebas de datos con Great Expectations y Pandera"
   ]
  },
  {
   "cell_type": "code",
   "execution_count": null,
   "id": "548b46a6",
   "metadata": {},
   "outputs": [],
   "source": [
    "import pandas as pd\n",
    "try:\n",
    "    import great_expectations as ge\n",
    "    from pandera import DataFrameSchema, Column, Check\n",
    "    df = pd.DataFrame({\n",
    "        'venta_id':[1,2,3],\n",
    "        'total':[100.0, 50.0, 25.5],\n",
    "        'metodo_pago':['tarjeta','cash','tarjeta']\n",
    "    })\n",
    "    # Great Expectations estilo rápido\n",
    "    gdf = ge.from_pandas(df)\n",
    "    gdf.expect_column_values_to_not_be_null('venta_id')\n",
    "    gdf.expect_column_values_to_be_between('total', 0, 10000)\n",
    "    print('GE checks:', gdf.validate().to_json_dict()['statistics'])\n",
    "    # Pandera schema\n",
    "    schema = DataFrameSchema({\n",
    "        'venta_id': Column(int, Check.gt(0)),\n",
    "        'total': Column(float, Check.ge(0)),\n",
    "        'metodo_pago': Column(str)\n",
    "    })\n",
    "    schema.validate(df)\n",
    "    print('Pandera OK')\n",
    "except Exception as e:\n",
    "    print('Instala great-expectations y pandera si deseas ejecutar este bloque:', e)"
   ]
  },
  {
   "cell_type": "markdown",
   "id": "331107e6",
   "metadata": {},
   "source": [
    "## 2. Pytest: estructura mínima"
   ]
  },
  {
   "cell_type": "code",
   "execution_count": null,
   "id": "7e608f05",
   "metadata": {},
   "outputs": [],
   "source": [
    "# tests/test_transform.py\n",
    "sample_code = r'''\n",
    "# archivo: src/transform.py\n",
    "def clean_total(x):\n",
    "    try:\n",
    "        v = float(x)\n",
    "        return max(v, 0.0)\n",
    "    except Exception:\n",
    "        return 0.0\n",
    "\n",
    "# archivo: tests/test_transform.py\n",
    "from src.transform import clean_total\n",
    "def test_clean_total():\n",
    "    assert clean_total(10) == 10.0\n",
    "    assert clean_total(-5) == 0.0\n",
    "    assert clean_total('oops') == 0.0\n",
    "'''\n",
    "print(sample_code)"
   ]
  },
  {
   "cell_type": "markdown",
   "id": "968e1144",
   "metadata": {},
   "source": [
    "## 3. Pre-commit hooks (lint, format, tests rápidos)"
   ]
  },
  {
   "cell_type": "code",
   "execution_count": null,
   "id": "820f0a09",
   "metadata": {},
   "outputs": [],
   "source": [
    "pre_commit_cfg = r'''\n",
    "repos:\n",
    "  - repo: https://github.com/psf/black\n",
    "    rev: 22.6.0\n",
    "    hooks:\n",
    "      - id: black\n",
    "  - repo: https://github.com/PyCQA/isort\n",
    "    rev: 5.10.1\n",
    "    hooks:\n",
    "      - id: isort\n",
    "  - repo: https://github.com/pycqa/flake8\n",
    "    rev: 5.0.4\n",
    "    hooks:\n",
    "      - id: flake8\n",
    "  - repo: local\n",
    "    hooks:\n",
    "      - id: pytest-quick\n",
    "        name: pytest quick\n",
    "        entry: pytest -q\n",
    "        language: system\n",
    "        types: [python]\n",
    "'''\n",
    "print(pre_commit_cfg)"
   ]
  },
  {
   "cell_type": "markdown",
   "id": "f6de1d7b",
   "metadata": {},
   "source": [
    "## 4. GitHub Actions: CI para validar el repositorio"
   ]
  },
  {
   "cell_type": "code",
   "execution_count": null,
   "id": "c82e9b5a",
   "metadata": {},
   "outputs": [],
   "source": [
    "gha_yaml = r'''\n",
    "name: ci\n",
    "on: [push, pull_request]\n",
    "jobs:\n",
    "  test:\n",
    "    runs-on: ubuntu-latest\n",
    "    steps:\n",
    "      - uses: actions/checkout@v3\n",
    "      - uses: actions/setup-python@v4\n",
    "        with:\n",
    "          python-version: '3.10'\n",
    "      - name: Install deps\n",
    "        run: |\n",
    "          pip install -r curso_ingenieria_datos/requirements.txt\n",
    "      - name: Lint & Test\n",
    "        run: |\n",
    "          pip install pytest flake8 black\n",
    "          flake8 .\n",
    "          pytest -q\n",
    "'''\n",
    "print(gha_yaml)"
   ]
  },
  {
   "cell_type": "markdown",
   "id": "81fb9d12",
   "metadata": {},
   "source": [
    "## 5. Observabilidad: logs y métricas mínimas"
   ]
  },
  {
   "cell_type": "code",
   "execution_count": null,
   "id": "a0c738f9",
   "metadata": {},
   "outputs": [],
   "source": [
    "from loguru import logger\n",
    "import time, random\n",
    "\n",
    "def process_batch(n=5):\n",
    "    for i in range(n):\n",
    "        start = time.time()\n",
    "        try:\n",
    "            if random.random() < 0.1:\n",
    "                raise ValueError('Fallo aleatorio')\n",
    "            time.sleep(0.05)\n",
    "            latency = time.time() - start\n",
    "            logger.info(f'item={i} status=ok latency={latency:.3f}s')\n",
    "        except Exception as e:\n",
    "            logger.error(f'item={i} status=error err={e}')\n",
    "process_batch(10)"
   ]
  },
  {
   "cell_type": "markdown",
   "id": "f910500e",
   "metadata": {},
   "source": [
    "## 6. Ejercicios"
   ]
  },
  {
   "cell_type": "markdown",
   "id": "6bffabc4",
   "metadata": {},
   "source": [
    "1. Agrega una regla de pre-commit que bloquee archivos > 2 MB.\n",
    "2. Crea un workflow adicional que ejecute validaciones de datos con Great Expectations.\n",
    "3. Añade cobertura de pruebas y publica un badge en el README."
   ]
  }
 ],
 "metadata": {
  "language_info": {
   "name": "python"
  }
 },
 "nbformat": 4,
 "nbformat_minor": 5
}
