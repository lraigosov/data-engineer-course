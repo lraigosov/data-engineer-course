{
 "cells": [
  {
   "cell_type": "markdown",
   "id": "b7ec1db3",
   "metadata": {},
   "source": [
    "# 🧩 Optimización SQL y Particionado de Datos\n",
    "\n",
    "Objetivo: entender y aplicar técnicas de optimización de consultas (índices, estadísticas, JOIN strategies) y estrategias de particionado (bases relacionales y data lakes) para mejorar desempeño y costos.\n",
    "\n",
    "- Duración: 90–120 min\n",
    "- Dificultad: Media\n",
    "- Prerrequisitos: SQL intermedio, nociones de modelado y almacenamiento columnar"
   ]
  },
  {
   "cell_type": "markdown",
   "id": "b058c3f1",
   "metadata": {},
   "source": [
    "## 1. EXPLAIN / EXPLAIN ANALYZE (demo con SQLite)"
   ]
  },
  {
   "cell_type": "code",
   "execution_count": null,
   "id": "df160075",
   "metadata": {},
   "outputs": [],
   "source": [
    "import sqlite3, pandas as pd\n",
    "conn = sqlite3.connect(':memory:')\n",
    "cur = conn.cursor()\n",
    "cur.executescript('''\n",
    "CREATE TABLE ventas (\n",
    " id INTEGER PRIMARY KEY, fecha TEXT, cliente_id INT, producto_id INT, cantidad INT, precio REAL, total REAL\n",
    ");\n",
    "CREATE INDEX idx_ventas_cliente_fecha ON ventas (cliente_id, fecha);\n",
    "''')\n",
    "import random, datetime as dt\n",
    "rows = [ (i, str(dt.date(2025,10,(i%28)+1)), random.randint(1,200), random.randint(100,110), random.randint(1,5), round(random.uniform(5,200),2)) for i in range(1,5001) ]\n",
    "rows = [ (*r, r[4]*r[5]) for r in rows ]\n",
    "cur.executemany('INSERT INTO ventas (id, fecha, cliente_id, producto_id, cantidad, precio, total) VALUES (?,?,?,?,?,?,?)', rows)\n",
    "conn.commit()\n",
    "list(cur.execute('EXPLAIN QUERY PLAN SELECT * FROM ventas WHERE cliente_id=10 AND fecha>=\"2025-10-10\"').fetchall())[:5]"
   ]
  },
  {
   "cell_type": "markdown",
   "id": "fe4a8519",
   "metadata": {},
   "source": [
    "### 1.1 Impacto de índices compuestos y selectividad"
   ]
  },
  {
   "cell_type": "markdown",
   "id": "b12352c7",
   "metadata": {},
   "source": [
    "- Use índices compuestos en el orden de los predicados más selectivos.\n",
    "- Evite funciones sobre columnas indexadas en filtros (rompe el índice).\n",
    "- Mantenga estadísticas actualizadas (ANALYZE)."
   ]
  },
  {
   "cell_type": "markdown",
   "id": "375d90c6",
   "metadata": {},
   "source": [
    "## 2. Particionado en PostgreSQL (DDL de referencia)"
   ]
  },
  {
   "cell_type": "code",
   "execution_count": null,
   "id": "16efa2ad",
   "metadata": {},
   "outputs": [],
   "source": [
    "ddl = '''\n",
    "-- Tabla particionada por rango de fecha\n",
    "CREATE TABLE ventas_part (\n",
    "  id BIGSERIAL PRIMARY KEY,\n",
    "  fecha DATE NOT NULL,\n",
    "  cliente_id INT,\n",
    "  producto_id INT,\n",
    "  cantidad INT,\n",
    "  total NUMERIC(12,2)\n",
    ") PARTITION BY RANGE (fecha);\n",
    "-- Particiones mensuales\n",
    "CREATE TABLE ventas_2025_10 PARTITION OF ventas_part FOR VALUES FROM ('2025-10-01') TO ('2025-11-01');\n",
    "CREATE INDEX ON ventas_2025_10 (fecha, cliente_id);\n",
    "ANALYZE ventas_2025_10;\n",
    "-- Consulta con pruning de particiones\n",
    "EXPLAIN ANALYZE SELECT SUM(total) FROM ventas_part WHERE fecha >= '2025-10-10' AND fecha < '2025-10-20';\n",
    "'''\n",
    "print(ddl)"
   ]
  },
  {
   "cell_type": "markdown",
   "id": "67c89973",
   "metadata": {},
   "source": [
    "## 3. Data Lakes: particionado y pruning (Parquet)"
   ]
  },
  {
   "cell_type": "markdown",
   "id": "c22b058c",
   "metadata": {},
   "source": [
    "- Particionar por columnas de alta cardinalidad temporal (por ejemplo, año/mes/día).\n",
    "- Ajustar tamaño de archivos (128–512 MB) para evitar small files problem.\n",
    "- Pruning: motores como Spark/Athena/Trino escanean solo particiones necesarias.\n",
    "- Usa formato columnar (Parquet) y compresión (Snappy/ZSTD)."
   ]
  },
  {
   "cell_type": "markdown",
   "id": "f8658b44",
   "metadata": {},
   "source": [
    "## 4. Window functions y agregaciones eficientes"
   ]
  },
  {
   "cell_type": "code",
   "execution_count": null,
   "id": "bd8d02e3",
   "metadata": {},
   "outputs": [],
   "source": [
    "import pandas as pd\n",
    "df = pd.read_sql_query('SELECT fecha, cliente_id, total FROM ventas', conn)\n",
    "df['fecha'] = pd.to_datetime(df['fecha'])\n",
    "df = df.sort_values(['cliente_id','fecha'])\n",
    "df['acumulado_cliente'] = df.groupby('cliente_id')['total'].cumsum()\n",
    "df.head()"
   ]
  },
  {
   "cell_type": "markdown",
   "id": "ab15028d",
   "metadata": {},
   "source": [
    "## 5. Buenas prácticas"
   ]
  },
  {
   "cell_type": "markdown",
   "id": "8f27ca25",
   "metadata": {},
   "source": [
    "- Evitar SELECT * en producción; proyectar solo columnas necesarias.\n",
    "- Usar límites de tiempo y paginación en consultas intensivas.\n",
    "- Mantener índices y particiones según patrones de acceso actuales.\n",
    "- Monitorear planes y tiempos con muestras periódicas; automatizar regresiones."
   ]
  }
 ],
 "metadata": {
  "language_info": {
   "name": "python"
  }
 },
 "nbformat": 4,
 "nbformat_minor": 5
}
