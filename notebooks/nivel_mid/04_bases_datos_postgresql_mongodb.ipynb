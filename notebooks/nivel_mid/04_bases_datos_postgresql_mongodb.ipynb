{
 "cells": [
  {
   "cell_type": "markdown",
   "id": "00b2fdba",
   "metadata": {},
   "source": [
    "# 🗄️ Bases de Datos Relacionales y NoSQL: PostgreSQL y MongoDB\n",
    "\n",
    "Objetivo: dominar la conexión, modelado básico, consultas eficientes e inserciones masivas en PostgreSQL (relacional) y MongoDB (NoSQL), con prácticas de índices, agregaciones y particionado.\n",
    "\n",
    "- Duración: 90-120 min\n",
    "- Dificultad: Media\n",
    "- Prerrequisitos: Python y SQL básicos, nociones de modelado de datos"
   ]
  },
  {
   "cell_type": "markdown",
   "id": "abb0dfd0",
   "metadata": {},
   "source": [
    "## Requisitos y entorno"
   ]
  },
  {
   "cell_type": "markdown",
   "id": "2e85f12a",
   "metadata": {},
   "source": [
    "- Este notebook incluye bloques opcionales para conectarte a PostgreSQL y MongoDB reales si tienes servicios disponibles.\n",
    "- También incluye demostraciones auto-contenidas con SQLite para la parte SQL.\n",
    "- Variables de entorno sugeridas: `POSTGRES_URI`, `MONGODB_URI`.\n",
    "- Opcional: usa Docker para levantar servicios locales de Postgres y MongoDB."
   ]
  },
  {
   "cell_type": "markdown",
   "id": "71e86621",
   "metadata": {},
   "source": [
    "## 1. SQL con SQLAlchemy (demo con SQLite)"
   ]
  },
  {
   "cell_type": "code",
   "execution_count": null,
   "id": "b3bfe8ef",
   "metadata": {},
   "outputs": [],
   "source": [
    "import os\n",
    "import pandas as pd\n",
    "from sqlalchemy import create_engine, text\n",
    "\n",
    "# Usa PostgreSQL si POSTGRES_URI está disponible; de lo contrario, SQLite en memoria\n",
    "pg_uri = os.getenv('POSTGRES_URI')\n",
    "engine = create_engine(pg_uri) if pg_uri else create_engine('sqlite+pysqlite:///:memory:', echo=False, future=True)\n",
    "\n",
    "with engine.begin() as conn:\n",
    "    conn.execute(text('''\n",
    "        CREATE TABLE IF NOT EXISTS ventas (\n",
    "          id INTEGER PRIMARY KEY,\n",
    "          fecha TEXT,\n",
    "          cliente_id INTEGER,\n",
    "          producto_id INTEGER,\n",
    "          cantidad INTEGER,\n",
    "          precio REAL,\n",
    "          total REAL\n",
    "        );\n",
    "    '''))\n",
    "\n",
    "df = pd.DataFrame({\n",
    "    'id': [1,2,3,4],\n",
    "    'fecha': ['2025-10-01','2025-10-02','2025-10-02','2025-10-03'],\n",
    "    'cliente_id': [10,10,11,12],\n",
    "    'producto_id': [101,102,101,103],\n",
    "    'cantidad': [1,2,1,3],\n",
    "    'precio': [100.0, 50.0, 100.0, 20.0]\n",
    "})\n",
    "df['total'] = df['cantidad'] * df['precio']\n",
    "df.to_sql('ventas', engine, if_exists='append', index=False)\n",
    "\n",
    "with engine.connect() as conn:\n",
    "    res = conn.execute(text('SELECT cliente_id, SUM(total) as total FROM ventas GROUP BY cliente_id ORDER BY total DESC'))\n",
    "    rows = res.fetchall()\n",
    "rows"
   ]
  },
  {
   "cell_type": "markdown",
   "id": "ee8dc762",
   "metadata": {},
   "source": [
    "### 1.1 Índices y optimización (PostgreSQL)"
   ]
  },
  {
   "cell_type": "code",
   "execution_count": null,
   "id": "c7003630",
   "metadata": {},
   "outputs": [],
   "source": [
    "# Estas sentencias funcionan si usas PostgreSQL real\n",
    "sql_index = '''\n",
    "CREATE INDEX IF NOT EXISTS idx_ventas_cliente_fecha ON ventas (cliente_id, fecha);\n",
    "ANALYZE ventas;\n",
    "EXPLAIN ANALYZE SELECT * FROM ventas WHERE cliente_id = 10 AND fecha >= '2025-10-02';\n",
    "'''\n",
    "print(sql_index)"
   ]
  },
  {
   "cell_type": "markdown",
   "id": "6a145729",
   "metadata": {},
   "source": [
    "## 2. MongoDB con PyMongo"
   ]
  },
  {
   "cell_type": "code",
   "execution_count": null,
   "id": "f2f07b64",
   "metadata": {},
   "outputs": [],
   "source": [
    "from datetime import datetime\n",
    "try:\n",
    "    import pymongo\n",
    "    MONGODB_URI = os.getenv('MONGODB_URI', 'mongodb://localhost:27017')\n",
    "    # Descomenta para usar una base real\n",
    "    # client = pymongo.MongoClient(MONGODB_URI)\n",
    "    # db = client['demo']\n",
    "    # col = db['ventas']\n",
    "    # col.insert_many([\n",
    "    #     {'_id':1,'fecha': datetime(2025,10,1), 'cliente_id':10, 'total':100.0},\n",
    "    #     {'_id':2,'fecha': datetime(2025,10,2), 'cliente_id':10, 'total':100.0},\n",
    "    #     {'_id':3,'fecha': datetime(2025,10,2), 'cliente_id':11, 'total':100.0},\n",
    "    # ])\n",
    "    # col.create_index([('cliente_id', 1), ('fecha', 1)])\n",
    "    # pipeline = [\n",
    "    #   {'$match': {'fecha': {'$gte': datetime(2025,10,2)}}},\n",
    "    #   {'$group': {'_id': '$cliente_id', 'total': {'$sum': '$total'}}},\n",
    "    #   {'$sort': {'total': -1}}\n",
    "    # ]\n",
    "    # list(col.aggregate(pipeline))\n",
    "    print('PyMongo disponible; conecta si tienes un servidor MongoDB.')\n",
    "except Exception as e:\n",
    "    print('PyMongo no disponible o sin conexión:', e)"
   ]
  },
  {
   "cell_type": "markdown",
   "id": "eb50ffc1",
   "metadata": {},
   "source": [
    "## 3. Patrones de modelado y buenas prácticas"
   ]
  },
  {
   "cell_type": "markdown",
   "id": "59f6ecc0",
   "metadata": {},
   "source": [
    "- PostgreSQL: normalización moderada, claves surrogate, índices compuestos, particionamiento por rango/fecha.\n",
    "- MongoDB: diseñar según patrones de acceso; embedding vs referencing; TTL e índices parciales.\n",
    "- Carga: upserts idempotentes, lotes (batch size) y manejo de transacciones cuando aplique.\n",
    "- Observabilidad: logging estructurado y métricas por operación."
   ]
  },
  {
   "cell_type": "markdown",
   "id": "e3b17505",
   "metadata": {},
   "source": [
    "## 4. Ejercicios"
   ]
  },
  {
   "cell_type": "markdown",
   "id": "0eabb9fd",
   "metadata": {},
   "source": [
    "1. Diseña un índice compuesto para acelerar consultas por `producto_id` y `fecha`.\n",
    "2. Escribe una consulta de ventas acumuladas por día (window function en PostgreSQL).\n",
    "3. En MongoDB, crea un pipeline para obtener el top 3 de clientes por gasto en un rango de fechas."
   ]
  }
 ],
 "metadata": {
  "language_info": {
   "name": "python"
  }
 },
 "nbformat": 4,
 "nbformat_minor": 5
}
