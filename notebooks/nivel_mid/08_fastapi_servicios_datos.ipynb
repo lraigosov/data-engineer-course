{
 "cells": [
  {
   "cell_type": "markdown",
   "id": "f94c20d2",
   "metadata": {},
   "source": [
    "# 🚀 Servicios de Datos con FastAPI\n",
    "\n",
    "Objetivo: construir un microservicio de datos con FastAPI usando modelos Pydantic, endpoints seguros y pruebas básicas, incorporando caché y límites de tasa opcionales.\n",
    "\n",
    "- Duración: 90–120 min\n",
    "- Dificultad: Media\n",
    "- Prerrequisitos: Python intermedio, HTTP básico, Pydantic"
   ]
  },
  {
   "cell_type": "markdown",
   "id": "654997a9",
   "metadata": {},
   "source": [
    "## 0. Dependencias"
   ]
  },
  {
   "cell_type": "markdown",
   "id": "224c8846",
   "metadata": {},
   "source": [
    "- Instalar para ejecutar: `fastapi`, `uvicorn`, `pydantic` (si aún no disponible).\n",
    "- Opcional: `redis` para caché externa y `slowapi` para rate limiting.\n",
    "- Este notebook muestra el código; para correr el servidor, usa Uvicorn fuera del notebook."
   ]
  },
  {
   "cell_type": "markdown",
   "id": "9cd20fe3",
   "metadata": {},
   "source": [
    "## 1. App básica de FastAPI"
   ]
  },
  {
   "cell_type": "code",
   "execution_count": null,
   "id": "9b7400fb",
   "metadata": {},
   "outputs": [],
   "source": [
    "from typing import List, Optional\n",
    "from pydantic import BaseModel, Field\n",
    "from datetime import datetime\n",
    "\n",
    "# Código en un módulo src/app.py (ilustrativo dentro del notebook)\n",
    "app_code = r'''\n",
    "from fastapi import FastAPI, HTTPException, Depends\n",
    "from pydantic import BaseModel, Field\n",
    "from typing import List\n",
    "from functools import lru_cache\n",
    "\n",
    "app = FastAPI(title='Servicio de Datos Demo')\n",
    "\n",
    "class Venta(BaseModel):\n",
    "    venta_id: int = Field(..., gt=0)\n",
    "    cliente_id: int\n",
    "    total: float = Field(..., ge=0)\n",
    "\n",
    "_DB = {1: Venta(venta_id=1, cliente_id=10, total=100.0)}\n",
    "\n",
    "@lru_cache(maxsize=1024)\n",
    "def get_precio_producto(producto_id: int) -> float:\n",
    "    return 42.0\n",
    "\n",
    "@app.get('/ventas', response_model=List[Venta])\n",
    "def listar_ventas():\n",
    "    return list(_DB.values())\n",
    "\n",
    "@app.get('/ventas/{venta_id}', response_model=Venta)\n",
    "def obtener_venta(venta_id: int):\n",
    "    v = _DB.get(venta_id)\n",
    "    if not v:\n",
    "        raise HTTPException(404, 'No existe')\n",
    "    return v\n",
    "\n",
    "@app.post('/ventas', response_model=Venta, status_code=201)\n",
    "def crear_venta(v: Venta):\n",
    "    if v.venta_id in _DB:\n",
    "        raise HTTPException(409, 'Duplicado')\n",
    "    _DB[v.venta_id] = v\n",
    "    return v\n",
    "\n",
    "'''\n",
    "print(app_code.splitlines()[:30])"
   ]
  },
  {
   "cell_type": "markdown",
   "id": "a7f8b748",
   "metadata": {},
   "source": [
    "### 1.1 Ejecutar con Uvicorn (opcional)"
   ]
  },
  {
   "cell_type": "code",
   "execution_count": null,
   "id": "89af1d36",
   "metadata": {},
   "outputs": [],
   "source": [
    "print('Para ejecutar en terminal:')\n",
    "print('uvicorn src.app:app --reload --port 8000')"
   ]
  },
  {
   "cell_type": "markdown",
   "id": "667ca3ee",
   "metadata": {},
   "source": [
    "## 2. Pruebas con requests (smoke test)"
   ]
  },
  {
   "cell_type": "code",
   "execution_count": null,
   "id": "5a003881",
   "metadata": {},
   "outputs": [],
   "source": [
    "import textwrap\n",
    "smoke_test = textwrap.dedent('''\n",
    "# Ejecutar con el servidor levantado\n",
    "import requests\n",
    "base = 'http://localhost:8000'\n",
    "print(requests.get(f'{base}/ventas').json())\n",
    "''')\n",
    "print(smoke_test)"
   ]
  },
  {
   "cell_type": "markdown",
   "id": "6e5bef6e",
   "metadata": {},
   "source": [
    "## 3. Extensiones: caché Redis y rate limit [opcional]"
   ]
  },
  {
   "cell_type": "markdown",
   "id": "004b940f",
   "metadata": {},
   "source": [
    "- Sustituir @lru_cache por Redis para cache distribuida.\n",
    "- Usar slowapi (Flask-Limiter para FastAPI) para límites por IP/endpoint.\n",
    "- Añadir autenticación JWT cuando expongas datos sensibles."
   ]
  }
 ],
 "metadata": {
  "language_info": {
   "name": "python"
  }
 },
 "nbformat": 4,
 "nbformat_minor": 5
}
