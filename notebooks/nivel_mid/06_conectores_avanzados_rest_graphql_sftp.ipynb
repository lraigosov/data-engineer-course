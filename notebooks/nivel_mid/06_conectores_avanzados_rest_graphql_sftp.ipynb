{
 "cells": [
  {
   "cell_type": "markdown",
   "id": "ebcf4e26",
   "metadata": {},
   "source": [
    "# 🌐 Conectores Avanzados: REST, GraphQL y SFTP\n",
    "\n",
    "Objetivo: dominar integración robusta con APIs REST/GraphQL y transferencia de archivos por SFTP, aplicando autenticación (API Key/OAuth2), paginación, rate limiting, reintentos exponenciales, validación de esquemas y almacenamiento seguro.\n",
    "\n",
    "- Duración: 90–120 min\n",
    "- Dificultad: Media\n",
    "- Prerrequisitos: Python, requests/httpx, fundamentos de redes"
   ]
  },
  {
   "cell_type": "markdown",
   "id": "48066010",
   "metadata": {},
   "source": [
    "## 0. Dependencias y configuración"
   ]
  },
  {
   "cell_type": "markdown",
   "id": "7f93a17d",
   "metadata": {},
   "source": [
    "- REST: `requests` (sync) o `httpx` (async).\n",
    "- GraphQL: se puede usar `requests` o `gql` (opcional).\n",
    "- SFTP: `paramiko` (opcional, no incluido por defecto).\n",
    "- Variables de entorno sugeridas: `API_BASE_URL`, `API_KEY`, `OAUTH_TOKEN_URL`, `OAUTH_CLIENT_ID`, `OAUTH_CLIENT_SECRET`, `SFTP_HOST`, `SFTP_USER`."
   ]
  },
  {
   "cell_type": "markdown",
   "id": "1a385551",
   "metadata": {},
   "source": [
    "## 1. REST con requests: paginación, backoff y validación"
   ]
  },
  {
   "cell_type": "code",
   "execution_count": null,
   "id": "4f7fbbf0",
   "metadata": {},
   "outputs": [],
   "source": [
    "import os, time, math\n",
    "import requests\n",
    "from typing import Dict, Any, List\n",
    "\n",
    "BASE_URL = os.getenv('API_BASE_URL', 'https://api.publicapis.org')\n",
    "API_KEY = os.getenv('API_KEY')  # si aplica\n",
    "\n",
    "def get_with_backoff(url: str, headers: Dict[str,str]=None, params: Dict[str,Any]=None, max_retries: int=5):\n",
    "    for i in range(max_retries):\n",
    "        resp = requests.get(url, headers=headers, params=params, timeout=30)\n",
    "        if resp.status_code == 429:  # rate limit\n",
    "            wait = 2 ** i\n",
    "            time.sleep(wait)\n",
    "            continue\n",
    "        resp.raise_for_status()\n",
    "        return resp.json()\n",
    "    raise RuntimeError('Max retries exceeded')\n",
    "\n",
    "data = get_with_backoff(f'{BASE_URL}/entries')\n",
    "len(data.get('entries', []))"
   ]
  },
  {
   "cell_type": "markdown",
   "id": "07cc28b5",
   "metadata": {},
   "source": [
    "### 1.1 Paginación cursor/offset y almacenamiento incremental"
   ]
  },
  {
   "cell_type": "code",
   "execution_count": null,
   "id": "d5f73386",
   "metadata": {},
   "outputs": [],
   "source": [
    "def fetch_paginated(base_url: str, page_param='page', per_page=50, limit=3):\n",
    "    all_items: List[Dict[str,Any]] = []\n",
    "    for p in range(1, limit+1):\n",
    "        payload = get_with_backoff(base_url, params={page_param: p, 'per_page': per_page})\n",
    "        items = payload.get('data') or payload.get('entries') or []\n",
    "        all_items.extend(items)\n",
    "        if not items:\n",
    "            break\n",
    "    return all_items\n",
    "\n",
    "items = fetch_paginated(f'{BASE_URL}/entries', page_param='page', per_page=20, limit=2)\n",
    "len(items)"
   ]
  },
  {
   "cell_type": "markdown",
   "id": "bc0b6301",
   "metadata": {},
   "source": [
    "### 1.2 Validación de esquema con Cerberus/Pandera"
   ]
  },
  {
   "cell_type": "code",
   "execution_count": null,
   "id": "c644b7dc",
   "metadata": {},
   "outputs": [],
   "source": [
    "from cerberus import Validator\n",
    "schema = {\n",
    "  'API': {'type':'string', 'required': True},\n",
    "  'Description': {'type':'string', 'nullable': True},\n",
    "  'HTTPS': {'type':'boolean'},\n",
    "}\n",
    "v = Validator(schema, allow_unknown=True)\n",
    "valid_count = sum(1 for it in items if v.validate(it))\n",
    "valid_count, len(items)"
   ]
  },
  {
   "cell_type": "markdown",
   "id": "c4e9f7cb",
   "metadata": {},
   "source": [
    "## 2. OAuth2 Client Credentials (httpx) [opcional]"
   ]
  },
  {
   "cell_type": "code",
   "execution_count": null,
   "id": "aea539b4",
   "metadata": {},
   "outputs": [],
   "source": [
    "import httpx\n",
    "async def fetch_oauth_token():\n",
    "    token_url = os.getenv('OAUTH_TOKEN_URL')\n",
    "    if not token_url:\n",
    "        return None\n",
    "    data = {\n",
    "      'grant_type':'client_credentials',\n",
    "      'client_id': os.getenv('OAUTH_CLIENT_ID'),\n",
    "      'client_secret': os.getenv('OAUTH_CLIENT_SECRET'),\n",
    "      'scope': os.getenv('OAUTH_SCOPE','')\n",
    "    }\n",
    "    async with httpx.AsyncClient(timeout=30) as client:\n",
    "        r = await client.post(token_url, data=data)\n",
    "        r.raise_for_status()\n",
    "        return r.json().get('access_token')\n",
    "\n",
    "# Uso: token = asyncio.run(fetch_oauth_token())"
   ]
  },
  {
   "cell_type": "markdown",
   "id": "d5b69180",
   "metadata": {},
   "source": [
    "## 3. GraphQL: consultas y paginación"
   ]
  },
  {
   "cell_type": "code",
   "execution_count": null,
   "id": "255ff22e",
   "metadata": {},
   "outputs": [],
   "source": [
    "GQL_URL = os.getenv('GQL_URL', 'https://countries.trevorblades.com/')\n",
    "query = \n",
    "\n",
    ",\n",
    ",\n",
    ",\n",
    ",\n",
    "\n",
    ":\n",
    ",\n",
    ":{},\n",
    ":[\n",
    "4\n",
    "]},\n",
    ":\n",
    ",\n",
    ":{},\n",
    ":[\n",
    "22\n",
    ",\n",
    ",\n",
    ",\n",
    ",\n",
    "\n",
    ":\n",
    ",\n",
    ":{},\n",
    ":[\n",
    "5\n",
    "]},\n",
    ":\n",
    ",\n",
    ":{},\n",
    ":[\n",
    ",\n",
    ",\n",
    ",\n",
    "\n",
    ": {\n",
    ": {\n",
    ": \n",
    "3\n",
    ", \n",
    ": \n",
    ", \n",
    ": \n",
    "}, \n",
    ": {\n",
    ": \n",
    ", \n",
    ": \n",
    "3.8\n",
    "}},\n",
    ": 4,\n",
    ": 4"
   ]
  }
 ],
 "metadata": {
  "language_info": {
   "name": "python"
  }
 },
 "nbformat": 4,
 "nbformat_minor": 5
}
