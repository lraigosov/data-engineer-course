{
 "cells": [
  {
   "cell_type": "markdown",
   "id": "ceb7bbce",
   "metadata": {},
   "source": [
    "# 🏛️ Arquitecturas Modernas de Datos: Lambda, Kappa, Delta y Data Mesh\n",
    "\n",
    "Objetivo: comprender y contrastar arquitecturas de referencia (Lambda, Kappa, Delta) y patrones organizacionales (Data Mesh), con ejemplos de diseño y trade-offs.\n",
    "\n",
    "- Duración: 120–150 min\n",
    "- Dificultad: Alta\n",
    "- Prerrequisitos: Mid completo, experiencia con batch y streaming"
   ]
  },
  {
   "cell_type": "markdown",
   "id": "5c2042cc",
   "metadata": {},
   "source": [
    "## 1. Arquitectura Lambda"
   ]
  },
  {
   "cell_type": "markdown",
   "id": "bef0bd31",
   "metadata": {},
   "source": [
    "- Batch layer: histórico completo, recalculable, alta latencia (Spark/Hadoop).\n",
    "- Speed layer: streaming incremental, baja latencia (Kafka/Flink/Spark Streaming).\n",
    "- Serving layer: merge de vistas batch + speed para consultas (Druid/Cassandra/BigQuery).\n",
    "- Trade-offs: doble lógica (batch + stream), complejidad operacional, eventual consistency."
   ]
  },
  {
   "cell_type": "code",
   "execution_count": null,
   "id": "2aff4f7f",
   "metadata": {},
   "outputs": [],
   "source": [
    "lambda_diagram = '''\n",
    "┌────────────┐\n",
    "│   Data     │\n",
    "│  Sources   │\n",
    "└─────┬──────┘\n",
    "      │\n",
    "   ┌──┴───┐\n",
    "   │Queue │ (Kafka)\n",
    "   └──┬───┘\n",
    "      │\n",
    " ┌────┴─────┐\n",
    " │  Batch   │  (Spark jobs nocturnos)\n",
    " │  Layer   │\n",
    " └────┬─────┘\n",
    "      │\n",
    "   Master\n",
    "   Dataset\n",
    "      │\n",
    "   ┌──┴───┐\n",
    "   │Serving│ (Druid/BigQuery)\n",
    "   │ Layer │\n",
    "   └──────┘\n",
    "      ↑\n",
    "   ┌──┴───┐\n",
    "   │Speed │ (Flink/Spark Streaming)\n",
    "   │Layer │\n",
    "   └──────┘\n",
    "'''\n",
    "print(lambda_diagram)"
   ]
  },
  {
   "cell_type": "markdown",
   "id": "e35a99dd",
   "metadata": {},
   "source": [
    "## 2. Arquitectura Kappa"
   ]
  },
  {
   "cell_type": "markdown",
   "id": "8e9117d8",
   "metadata": {},
   "source": [
    "- Un solo pipeline streaming para todo (batch = replay del log).\n",
    "- Simplifica operaciones y lógica unificada.\n",
    "- Requiere log infinito (Kafka con retención larga) y capacidad de reprocessing.\n",
    "- Trade-offs: coste de almacenamiento del log, complejidad del estado, menor optimización batch."
   ]
  },
  {
   "cell_type": "markdown",
   "id": "b8a06c00",
   "metadata": {},
   "source": [
    "## 3. Arquitectura Delta (Lakehouse)"
   ]
  },
  {
   "cell_type": "markdown",
   "id": "e11be385",
   "metadata": {},
   "source": [
    "- Unifica batch y streaming sobre un único storage transaccional (Delta/Iceberg).\n",
    "- Streaming escribe micro-batches transaccionales; batch lee histórico con time travel.\n",
    "- Elimina duplicación de código y simplifica gobernanza (un catálogo, un linaje).\n",
    "- Trade-offs: requiere adopción de formato y motor compatible (Spark/Trino)."
   ]
  },
  {
   "cell_type": "markdown",
   "id": "ab620719",
   "metadata": {},
   "source": [
    "## 4. Data Mesh: paradigma organizacional"
   ]
  },
  {
   "cell_type": "markdown",
   "id": "56851967",
   "metadata": {},
   "source": [
    "- Descentralización de la propiedad de datos por dominio de negocio.\n",
    "- Data products: APIs/tablas con SLOs, documentación, linaje y contratos.\n",
    "- Plataforma self-service: herramientas comunes (CI/CD, catálogo, observabilidad).\n",
    "- Gobernanza federada: políticas globales + autonomía local.\n",
    "- Trade-offs: requiere madurez organizacional, infraestructura sólida, cambio cultural."
   ]
  },
  {
   "cell_type": "code",
   "execution_count": null,
   "id": "c0232c87",
   "metadata": {},
   "outputs": [],
   "source": [
    "mesh_principles = '''\n",
    "1. Domain-oriented decentralization: equipos de dominio (ventas, logística, finanzas) son dueños de sus datos.\n",
    "2. Data as a product: cada dataset tiene owner, SLO, versionado, documentación y calidad garantizada.\n",
    "3. Self-serve platform: infraestructura común (orquestación, observabilidad, catálogo) sin silos.\n",
    "4. Federated governance: políticas de seguridad, privacidad y calidad definidas centralmente, aplicadas localmente.\n",
    "'''\n",
    "print(mesh_principles)"
   ]
  },
  {
   "cell_type": "markdown",
   "id": "99d5c55f",
   "metadata": {},
   "source": [
    "## 5. Comparación y cuándo elegir cada una"
   ]
  },
  {
   "cell_type": "code",
   "execution_count": null,
   "id": "bbcb093b",
   "metadata": {},
   "outputs": [],
   "source": [
    "import pandas as pd\n",
    "comp = pd.DataFrame([\n",
    "  {'Arquitectura':'Lambda', 'Latencia':'Batch: horas, Speed: segundos', 'Complejidad':'Alta (doble lógica)', 'Casos':'Legacy con requerimientos mixtos'},\n",
    "  {'Arquitectura':'Kappa', 'Latencia':'Baja (streaming)', 'Complejidad':'Media (un pipeline)', 'Casos':'Todo es streaming, reprocessing factible'},\n",
    "  {'Arquitectura':'Delta', 'Latencia':'Baja-Media (micro-batch)', 'Complejidad':'Media (un storage)', 'Casos':'Lakehouse, unificación batch/stream'},\n",
    "  {'Arquitectura':'Data Mesh', 'Latencia':'Variable (por dominio)', 'Complejidad':'Alta (organizacional)', 'Casos':'Grandes org con múltiples dominios'}\n",
    "])\n",
    "comp"
   ]
  },
  {
   "cell_type": "markdown",
   "id": "810cc56e",
   "metadata": {},
   "source": [
    "## 6. Ejercicio de diseño"
   ]
  },
  {
   "cell_type": "markdown",
   "id": "2b272baf",
   "metadata": {},
   "source": [
    "Diseña la arquitectura de datos para un e-commerce con:\n",
    "- Dominio Ventas: transacciones en tiempo real (Kafka).\n",
    "- Dominio Logística: batch nocturno (inventario/envíos).\n",
    "- Dominio Analítica: dashboards con latencia < 5 min.\n",
    "- Requisitos: auditabilidad, GDPR, linaje, costos optimizados.\n",
    "\n",
    "Responde: ¿Lambda, Kappa, Delta o híbrida? ¿Data Mesh aplicable? Justifica con trade-offs."
   ]
  }
 ],
 "metadata": {
  "language_info": {
   "name": "python"
  }
 },
 "nbformat": 4,
 "nbformat_minor": 5
}
