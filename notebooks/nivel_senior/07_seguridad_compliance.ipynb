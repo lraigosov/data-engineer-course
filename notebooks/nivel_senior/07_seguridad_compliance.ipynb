{
 "cells": [
  {
   "cell_type": "markdown",
   "id": "26a08253",
   "metadata": {},
   "source": [
    "# 🔐 Seguridad, Compliance y Auditoría de Datos\n",
    "\n",
    "Objetivo: implementar controles de seguridad (IAM, cifrado, enmascaramiento), cumplir regulaciones (GDPR, HIPAA, SOC2) y establecer auditoría de accesos y linaje.\n",
    "\n",
    "- Duración: 120–150 min\n",
    "- Dificultad: Alta\n",
    "- Prerrequisitos: Governance (Senior 01), experiencia con cloud IAM"
   ]
  },
  {
   "cell_type": "markdown",
   "id": "a101b98e",
   "metadata": {},
   "source": [
    "## 1. IAM y principio de mínimo privilegio"
   ]
  },
  {
   "cell_type": "markdown",
   "id": "768a170b",
   "metadata": {},
   "source": [
    "- Roles por función: data-engineer-ro, data-scientist, admin.\n",
    "- Políticas granulares: lectura de bucket específico, escritura en tabla específica.\n",
    "- MFA obligatorio para operaciones sensibles (producción, eliminación).\n",
    "- Rotación automática de credenciales (secretos, keys)."
   ]
  },
  {
   "cell_type": "code",
   "execution_count": null,
   "id": "e7771f47",
   "metadata": {},
   "outputs": [],
   "source": [
    "iam_policy_example = r'''\n",
    "# AWS IAM policy para data engineer con acceso de lectura a raw y escritura a curated\n",
    "{\n",
    "  \"Version\": \"2012-10-17\",\n",
    "  \"Statement\": [\n",
    "    {\n",
    "      \"Effect\": \"Allow\",\n",
    "      \"Action\": [\"s3:GetObject\", \"s3:ListBucket\"],\n",
    "      \"Resource\": [\"arn:aws:s3:::data-lake/raw/*\"]\n",
    "    },\n",
    "    {\n",
    "      \"Effect\": \"Allow\",\n",
    "      \"Action\": [\"s3:PutObject\", \"s3:DeleteObject\"],\n",
    "      \"Resource\": [\"arn:aws:s3:::data-lake/curated/*\"]\n",
    "    }\n",
    "  ]\n",
    "}\n",
    "'''\n",
    "print(iam_policy_example.splitlines()[:18])"
   ]
  },
  {
   "cell_type": "markdown",
   "id": "94c6cc67",
   "metadata": {},
   "source": [
    "## 2. Cifrado en tránsito y at-rest"
   ]
  },
  {
   "cell_type": "markdown",
   "id": "a971318a",
   "metadata": {},
   "source": [
    "- **At-rest**: S3 SSE-KMS, RDS encryption, disk encryption (EBS/GCS).\n",
    "- **In-transit**: TLS 1.2+ para todas las APIs, VPN/PrivateLink para conectividad interna.\n",
    "- Gestión de claves: AWS KMS, GCP Cloud KMS, Azure Key Vault con rotación automática."
   ]
  },
  {
   "cell_type": "markdown",
   "id": "fd346c6f",
   "metadata": {},
   "source": [
    "## 3. Enmascaramiento y anonimización de PII"
   ]
  },
  {
   "cell_type": "code",
   "execution_count": null,
   "id": "c92cb911",
   "metadata": {},
   "outputs": [],
   "source": [
    "import hashlib\n",
    "def mask_email(email: str) -> str:\n",
    "    user, domain = email.split('@')\n",
    "    return f'{user[0]}***@{domain}'\n",
    "\n",
    "def hash_pii(value: str) -> str:\n",
    "    return hashlib.sha256(value.encode()).hexdigest()\n",
    "\n",
    "mask_email('usuario@ejemplo.com'), hash_pii('12345678A')"
   ]
  },
  {
   "cell_type": "markdown",
   "id": "47c42f49",
   "metadata": {},
   "source": [
    "## 4. Cumplimiento normativo"
   ]
  },
  {
   "cell_type": "markdown",
   "id": "28c128ca",
   "metadata": {},
   "source": [
    "### GDPR (Europa)\n",
    "- Derecho al olvido: implementar DELETE cascada y purga en backups.\n",
    "- Consentimiento explícito y auditable.\n",
    "- Data residency: almacenar en región EU.\n",
    "\n",
    "### HIPAA (salud, USA)\n",
    "- PHI cifrado, logs de acceso auditables.\n",
    "- Business Associate Agreements con proveedores cloud.\n",
    "\n",
    "### SOC2 (seguridad organizacional)\n",
    "- Controles de acceso, monitoreo, incident response.\n",
    "- Auditorías anuales por terceros."
   ]
  },
  {
   "cell_type": "markdown",
   "id": "af392a5a",
   "metadata": {},
   "source": [
    "## 5. Auditoría de accesos y linaje"
   ]
  },
  {
   "cell_type": "markdown",
   "id": "d6a754d8",
   "metadata": {},
   "source": [
    "- CloudTrail (AWS), Cloud Audit Logs (GCP), Activity Log (Azure).\n",
    "- Registrar quién accedió qué dato, cuándo, desde dónde.\n",
    "- Linaje de datos: OpenLineage, DataHub, Marquez → rastrear transformaciones y uso.\n",
    "- Alertas ante accesos anómalos (SIEM: Splunk, Datadog Security)."
   ]
  },
  {
   "cell_type": "markdown",
   "id": "03ef33df",
   "metadata": {},
   "source": [
    "## 6. Checklist de seguridad para pipelines"
   ]
  },
  {
   "cell_type": "code",
   "execution_count": null,
   "id": "61b30d5f",
   "metadata": {},
   "outputs": [],
   "source": [
    "checklist = '''\n",
    "☑ IAM con mínimo privilegio y MFA\n",
    "☑ Cifrado at-rest (KMS) y in-transit (TLS)\n",
    "☑ Enmascaramiento de PII en logs y datasets de dev\n",
    "☑ Rotación automática de secretos (API keys, DB passwords)\n",
    "☑ Auditoría habilitada (CloudTrail, logs centralizados)\n",
    "☑ Vulnerability scanning de contenedores (Trivy, Clair)\n",
    "☑ Network segmentation (VPCs, subnets privadas)\n",
    "☑ Incident response plan documentado y probado\n",
    "'''\n",
    "print(checklist)"
   ]
  }
 ],
 "metadata": {
  "language_info": {
   "name": "python"
  }
 },
 "nbformat": 4,
 "nbformat_minor": 5
}
