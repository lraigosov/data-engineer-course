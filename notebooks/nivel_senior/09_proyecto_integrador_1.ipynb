{
 "cells": [
  {
   "cell_type": "markdown",
   "id": "e6bceb9d",
   "metadata": {},
   "source": [
    "# 🏆 Proyecto Integrador Senior 1: Plataforma de Datos Completa\n",
    "\n",
    "Objetivo: diseñar e implementar una plataforma moderna de datos con governance, lakehouse, orquestación, observabilidad y compliance.\n",
    "\n",
    "- Duración: 180+ min (proyecto multi-día)\n",
    "- Dificultad: Muy Alta\n",
    "- Prerrequisitos: Todos los notebooks Senior 01–08"
   ]
  },
  {
   "cell_type": "markdown",
   "id": "1e867067",
   "metadata": {},
   "source": [
    "## 1. Contexto y requerimientos"
   ]
  },
  {
   "cell_type": "markdown",
   "id": "f73cb5ee",
   "metadata": {},
   "source": [
    "**Empresa**: E-commerce global con 3 dominios de datos (Ventas, Logística, Analítica).\n",
    "\n",
    "**Requerimientos funcionales**:\n",
    "- Ingestar transacciones en tiempo real (Kafka) y batch nocturno (archivos SFTP).\n",
    "- Almacenar en data lakehouse (Parquet + Delta Lake) particionado por fecha y región.\n",
    "- Catálogo central con metadatos, linaje y políticas de acceso (Glue/Unity/DataHub).\n",
    "- Orquestación diaria con Airflow: validaciones de calidad, transformaciones, reportes.\n",
    "- APIs de servicio (FastAPI) para consultas ad-hoc por BI y científicos de datos.\n",
    "\n",
    "**Requerimientos no funcionales**:\n",
    "- Compliance GDPR: enmascaramiento de PII, derecho al olvido.\n",
    "- SLO: latencia p99 < 30 min, disponibilidad > 99.5%.\n",
    "- Costos: < $5000/mes, optimización continua (FinOps).\n",
    "- Observabilidad: logs estructurados, métricas en Prometheus, linaje en DataHub.\n",
    "- Seguridad: IAM con mínimo privilegio, cifrado at-rest y in-transit, auditoría."
   ]
  },
  {
   "cell_type": "markdown",
   "id": "88bdb0bc",
   "metadata": {},
   "source": [
    "## 2. Arquitectura propuesta"
   ]
  },
  {
   "cell_type": "code",
   "execution_count": null,
   "id": "938bdaf6",
   "metadata": {},
   "outputs": [],
   "source": [
    "arquitectura_diagrama = '''\n",
    "┌─────────────┐       ┌──────────────┐       ┌───────────────┐\n",
    "│  Transac-   │──────▶│    Kafka     │──────▶│  Spark        │\n",
    "│  ciones RT  │       │  (streaming) │       │  Streaming    │\n",
    "└─────────────┘       └──────────────┘       └───────┬───────┘\n",
    "                                                      │\n",
    "┌─────────────┐       ┌──────────────┐              │\n",
    "│  Archivos   │──────▶│   Airflow    │──────────────┤\n",
    "│  SFTP Batch │       │  (orquesta)  │              │\n",
    "└─────────────┘       └──────────────┘              │\n",
    "                                                     ▼\n",
    "                      ┌──────────────────────────────────┐\n",
    "                      │  Data Lakehouse (S3 + Delta)     │\n",
    "                      │  - raw/                          │\n",
    "                      │  - curated/                      │\n",
    "                      │  - gold/ (agregados)             │\n",
    "                      └─────────┬────────────────────────┘\n",
    "                                │\n",
    "                ┌───────────────┼───────────────┐\n",
    "                ▼               ▼               ▼\n",
    "         ┌──────────┐   ┌──────────┐   ┌──────────┐\n",
    "         │  Athena  │   │ FastAPI  │   │   BI     │\n",
    "         │  (SQL)   │   │ (APIs)   │   │ (Tableau)│\n",
    "         └──────────┘   └──────────┘   └──────────┘\n",
    "\n",
    "Observabilidad: Prometheus + Grafana + DataHub (linaje)\n",
    "Seguridad: IAM, KMS, CloudTrail, enmascaramiento PII\n",
    "'''\n",
    "print(arquitectura_diagrama)"
   ]
  },
  {
   "cell_type": "markdown",
   "id": "d35f7e2e",
   "metadata": {},
   "source": [
    "## 3. Componentes a implementar (checklist)"
   ]
  },
  {
   "cell_type": "code",
   "execution_count": null,
   "id": "e17901a9",
   "metadata": {},
   "outputs": [],
   "source": [
    "checklist = '''\n",
    "☐ 1. Kafka cluster (Docker Compose local o MSK en AWS)\n",
    "☐ 2. Productor de eventos simulados (transacciones)\n",
    "☐ 3. Consumidor Spark Streaming → Delta Lake (S3)\n",
    "☐ 4. Airflow DAG batch: SFTP → raw → validación → curated → gold\n",
    "☐ 5. Validaciones de calidad con Great Expectations\n",
    "☐ 6. Enmascaramiento de PII (email, tarjeta)\n",
    "☐ 7. Catálogo con Glue Data Catalog o DataHub\n",
    "☐ 8. Linaje con OpenLineage (plugin Airflow)\n",
    "☐ 9. FastAPI endpoint para consultas SQL (proxy a Athena/Trino)\n",
    "☐ 10. Métricas Prometheus exportadas por pipelines\n",
    "☐ 11. Dashboard Grafana con SLOs y alertas\n",
    "☐ 12. Políticas IAM con mínimo privilegio\n",
    "☐ 13. Cifrado KMS para S3 y RDS\n",
    "☐ 14. Auditoría CloudTrail habilitada\n",
    "☐ 15. Presupuestos y alertas de costos (AWS Budgets)\n",
    "☐ 16. Documentación técnica y runbooks\n",
    "☐ 17. Tests de integración (Pytest)\n",
    "☐ 18. CI/CD con GitHub Actions (lint, test, deploy)\n",
    "'''\n",
    "print(checklist)"
   ]
  },
  {
   "cell_type": "markdown",
   "id": "20bb8e10",
   "metadata": {},
   "source": [
    "## 4. Implementación paso a paso"
   ]
  },
  {
   "cell_type": "markdown",
   "id": "a58a21a9",
   "metadata": {},
   "source": [
    "### 4.1 Setup inicial\n",
    "- Crear bucket S3 con estructura `raw/`, `curated/`, `gold/`.\n",
    "- Configurar Glue Data Catalog con base de datos `ecommerce`.\n",
    "- Levantar Kafka local con Docker Compose (zookeeper + broker).\n",
    "\n",
    "### 4.2 Streaming path\n",
    "- Productor Python: genera eventos JSON (transacción_id, cliente_id, monto, timestamp).\n",
    "- Spark Structured Streaming: consume de Kafka, valida schema, escribe a Delta en `curated/ventas/`.\n",
    "- Checkpointing idempotente.\n",
    "\n",
    "### 4.3 Batch path\n",
    "- Airflow DAG: sensor SFTP → download → validate (GE) → transform (Pandas/Spark) → write Delta → optimize.\n",
    "- Agregaciones gold: ventas por día/región/producto.\n",
    "\n",
    "### 4.4 Governance y seguridad\n",
    "- Enmascarar email y tarjeta antes de escribir en curated.\n",
    "- Registrar linaje en DataHub vía OpenLineage.\n",
    "- Configurar IAM roles para Spark, Airflow, APIs.\n",
    "\n",
    "### 4.5 Observabilidad\n",
    "- Exportar métricas de conteo, latencia, errores.\n",
    "- Dashboard Grafana con paneles por pipeline.\n",
    "- Alertas en Slack si SLO violado.\n",
    "\n",
    "### 4.6 Servicio de consultas\n",
    "- FastAPI endpoint `/query` que ejecuta SQL en Athena y retorna JSON.\n",
    "- Caché Redis para queries repetitivas.\n",
    "- Rate limiting por API key."
   ]
  },
  {
   "cell_type": "markdown",
   "id": "5728559c",
   "metadata": {},
   "source": [
    "## 5. Entregables"
   ]
  },
  {
   "cell_type": "markdown",
   "id": "460d2f42",
   "metadata": {},
   "source": [
    "- Repositorio Git con código (pipelines, DAGs, APIs, tests).\n",
    "- Diagrama de arquitectura actualizado.\n",
    "- Documento de diseño (decisiones técnicas, trade-offs).\n",
    "- Dashboard Grafana exportado (JSON).\n",
    "- Runbook de operaciones (troubleshooting, rollback).\n",
    "- Video/demo ejecutando pipeline end-to-end."
   ]
  },
  {
   "cell_type": "markdown",
   "id": "8cc021c5",
   "metadata": {},
   "source": [
    "## 6. Evaluación"
   ]
  },
  {
   "cell_type": "markdown",
   "id": "1259a0dd",
   "metadata": {},
   "source": [
    "- Funcionalidad: ¿pipelines ejecutan correctamente?\n",
    "- Calidad: ¿validaciones y tests implementados?\n",
    "- Observabilidad: ¿métricas y linaje visibles?\n",
    "- Seguridad: ¿IAM, cifrado, PII enmascarado?\n",
    "- Costos: ¿presupuesto respetado?\n",
    "- Documentación: ¿clara y completa?"
   ]
  }
 ],
 "metadata": {
  "language_info": {
   "name": "python"
  }
 },
 "nbformat": 4,
 "nbformat_minor": 5
}
