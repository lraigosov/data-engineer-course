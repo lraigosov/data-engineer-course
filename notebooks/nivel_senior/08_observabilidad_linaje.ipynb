{
 "cells": [
  {
   "cell_type": "markdown",
   "id": "c19a6223",
   "metadata": {},
   "source": [
    "# 📊 Observabilidad y Linaje de Datos\n",
    "\n",
    "Objetivo: implementar observabilidad end-to-end con logs estructurados, métricas (Prometheus), trazas (OpenTelemetry), linaje de datos (OpenLineage/DataHub) y SLOs.\n",
    "\n",
    "- Duración: 120–150 min\n",
    "- Dificultad: Alta\n",
    "- Prerrequisitos: Senior 01 (Governance), pipelines en producción"
   ]
  },
  {
   "cell_type": "markdown",
   "id": "717f4fa7",
   "metadata": {},
   "source": [
    "## 1. Los tres pilares de observabilidad"
   ]
  },
  {
   "cell_type": "markdown",
   "id": "e56cacde",
   "metadata": {},
   "source": [
    "- **Logs**: eventos estructurados (JSON) con contexto (trace_id, user, pipeline).\n",
    "- **Metrics**: contadores, gauges, histogramas (latencia, throughput, errores).\n",
    "- **Traces**: flujo de ejecución distribuido (OpenTelemetry)."
   ]
  },
  {
   "cell_type": "markdown",
   "id": "7ef3e707",
   "metadata": {},
   "source": [
    "## 2. Logs estructurados con loguru"
   ]
  },
  {
   "cell_type": "code",
   "execution_count": null,
   "id": "36133c31",
   "metadata": {},
   "outputs": [],
   "source": [
    "from loguru import logger\n",
    "import sys, json\n",
    "logger.remove()\n",
    "logger.add(sys.stdout, serialize=True)  # JSON output\n",
    "\n",
    "logger.info('pipeline_started', pipeline='ventas_etl', version='v1.2.3')\n",
    "logger.error('validation_failed', pipeline='ventas_etl', error_count=5, sample_ids=[1,2,3])"
   ]
  },
  {
   "cell_type": "markdown",
   "id": "3b5547e2",
   "metadata": {},
   "source": [
    "## 3. Métricas con Prometheus (cliente Python)"
   ]
  },
  {
   "cell_type": "code",
   "execution_count": null,
   "id": "ea0a5abf",
   "metadata": {},
   "outputs": [],
   "source": [
    "# from prometheus_client import Counter, Histogram, start_http_server\n",
    "# import time, random\n",
    "# \n",
    "# EVENTS_PROCESSED = Counter('events_processed_total', 'Total de eventos procesados', ['pipeline'])\n",
    "# LATENCY = Histogram('processing_latency_seconds', 'Latencia de procesamiento', ['pipeline'])\n",
    "# \n",
    "# start_http_server(8000)  # exponer métricas en :8000/metrics\n",
    "# \n",
    "# while True:\n",
    "#     with LATENCY.labels(pipeline='ventas_etl').time():\n",
    "#         time.sleep(random.uniform(0.01, 0.1))\n",
    "#         EVENTS_PROCESSED.labels(pipeline='ventas_etl').inc()\n",
    "print('Ejemplo comentado; descomenta si tienes prometheus_client instalado')"
   ]
  },
  {
   "cell_type": "markdown",
   "id": "f04949d8",
   "metadata": {},
   "source": [
    "## 4. Linaje de datos con OpenLineage"
   ]
  },
  {
   "cell_type": "markdown",
   "id": "9d02ec08",
   "metadata": {},
   "source": [
    "- Estándar abierto para rastrear de dónde vienen los datos y a dónde van.\n",
    "- Integración con Airflow, Spark, dbt, Flink.\n",
    "- Backend: Marquez, DataHub, Egeria."
   ]
  },
  {
   "cell_type": "code",
   "execution_count": null,
   "id": "6e212bf3",
   "metadata": {},
   "outputs": [],
   "source": [
    "openlineage_example = r'''\n",
    "# Integración con Airflow (plugin OpenLineage)\n",
    "# airflow.cfg\n",
    "[openlineage]\n",
    "transport = {\"type\": \"http\", \"url\": \"http://marquez:5000\"}\n",
    "\n",
    "# En cada DAG Run, Airflow emite eventos de linaje:\n",
    "{\n",
    "  \"eventType\": \"START\",\n",
    "  \"job\": {\"namespace\": \"data-platform\", \"name\": \"ventas_etl\"},\n",
    "  \"inputs\": [{\"namespace\": \"s3\", \"name\": \"raw/ventas.csv\"}],\n",
    "  \"outputs\": [{\"namespace\": \"s3\", \"name\": \"curated/ventas.parquet\"}]\n",
    "}\n",
    "'''\n",
    "print(openlineage_example.splitlines()[:15])"
   ]
  },
  {
   "cell_type": "markdown",
   "id": "94a6ab61",
   "metadata": {},
   "source": [
    "## 5. SLOs (Service Level Objectives)"
   ]
  },
  {
   "cell_type": "markdown",
   "id": "8454620e",
   "metadata": {},
   "source": [
    "- Definir objetivos medibles: ej. \"99.9% de los pipelines completan < 30 min\".\n",
    "- Alertar si SLO en riesgo (error budget casi agotado).\n",
    "- Revisar SLOs mensualmente y ajustar según necesidades del negocio."
   ]
  },
  {
   "cell_type": "code",
   "execution_count": null,
   "id": "e80ead7d",
   "metadata": {},
   "outputs": [],
   "source": [
    "import pandas as pd\n",
    "slo_example = pd.DataFrame([\n",
    "  {'Pipeline':'ventas_etl', 'SLO':'Latencia p99 < 30min', 'Actual':'28min', 'Status':'✅'},\n",
    "  {'Pipeline':'streaming_kafka', 'SLO':'Errores < 0.1%', 'Actual':'0.05%', 'Status':'✅'},\n",
    "  {'Pipeline':'ml_training', 'SLO':'Disponibilidad > 99.5%', 'Actual':'99.2%', 'Status':'⚠️'},\n",
    "])\n",
    "slo_example"
   ]
  },
  {
   "cell_type": "markdown",
   "id": "8622a0b8",
   "metadata": {},
   "source": [
    "## 6. Dashboards y alertas"
   ]
  },
  {
   "cell_type": "markdown",
   "id": "995fc8d4",
   "metadata": {},
   "source": [
    "- Grafana para visualizar métricas de Prometheus.\n",
    "- Alertmanager para notificar en Slack/PagerDuty.\n",
    "- DataHub/Marquez UI para explorar linaje interactivo.\n",
    "- Logs centralizados en ELK/Loki para troubleshooting."
   ]
  }
 ],
 "metadata": {
  "language_info": {
   "name": "python"
  }
 },
 "nbformat": 4,
 "nbformat_minor": 5
}
