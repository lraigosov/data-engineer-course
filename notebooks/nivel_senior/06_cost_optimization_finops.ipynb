{
 "cells": [
  {
   "cell_type": "markdown",
   "id": "1b6ed643",
   "metadata": {},
   "source": [
    "# 💰 Cost Optimization y FinOps en la Nube\n",
    "\n",
    "Objetivo: aplicar técnicas de optimización de costos cloud (AWS/GCP/Azure), establecer presupuestos, alertas y benchmarks, con métricas de eficiencia por workload.\n",
    "\n",
    "- Duración: 120 min\n",
    "- Dificultidad: Alta\n",
    "- Prerrequisitos: Mid 03 (AWS), experiencia con pipelines en cloud"
   ]
  },
  {
   "cell_type": "markdown",
   "id": "4d2b3f3b",
   "metadata": {},
   "source": [
    "## 1. Principios de FinOps"
   ]
  },
  {
   "cell_type": "markdown",
   "id": "fb1bffde",
   "metadata": {},
   "source": [
    "- Visibilidad: tagging de recursos, cost allocation por proyecto/equipo.\n",
    "- Accountability: cada equipo/dominio responsable de su presupuesto.\n",
    "- Optimización continua: rightsizing, reservas, spot instances, lifecycle policies."
   ]
  },
  {
   "cell_type": "markdown",
   "id": "6d2d3813",
   "metadata": {},
   "source": [
    "## 2. Estrategias de optimización"
   ]
  },
  {
   "cell_type": "markdown",
   "id": "06ed4168",
   "metadata": {},
   "source": [
    "### 2.1 Compute\n",
    "- Spot/Preemptible para workloads tolerantes a interrupciones (batch, training).\n",
    "- Reserved/Committed para cargas predecibles (> 1 año).\n",
    "- Auto-scaling por métricas (CPU, latencia, queue depth).\n",
    "\n",
    "### 2.2 Storage\n",
    "- Lifecycle policies: S3 Standard → IA → Glacier → Deep Archive.\n",
    "- Compresión y formatos eficientes (Parquet/ORC con Snappy/ZSTD).\n",
    "- Borrado de snapshots y versiones antiguas.\n",
    "\n",
    "### 2.3 Networking\n",
    "- Minimizar data transfer inter-región.\n",
    "- Usar VPC endpoints y PrivateLink para evitar egress a internet.\n",
    "- CDN (CloudFront/Cloud CDN) para datos frecuentes."
   ]
  },
  {
   "cell_type": "markdown",
   "id": "c8e7843c",
   "metadata": {},
   "source": [
    "## 3. Ejemplo: benchmark de costo por TB procesado"
   ]
  },
  {
   "cell_type": "code",
   "execution_count": null,
   "id": "f29453b2",
   "metadata": {},
   "outputs": [],
   "source": [
    "import pandas as pd\n",
    "data = [\n",
    "  {'Pipeline':'ETL Diario', 'TB_procesados':5.2, 'Costo_USD':42.0, 'USD_per_TB':8.08},\n",
    "  {'Pipeline':'Streaming Kafka', 'TB_procesados':1.8, 'Costo_USD':95.0, 'USD_per_TB':52.78},\n",
    "  {'Pipeline':'ML Training', 'TB_procesados':0.3, 'Costo_USD':120.0, 'USD_per_TB':400.0},\n",
    "]\n",
    "df = pd.DataFrame(data)\n",
    "df"
   ]
  },
  {
   "cell_type": "markdown",
   "id": "517cc1a0",
   "metadata": {},
   "source": [
    "## 4. Alertas y presupuestos (AWS Budgets ejemplo)"
   ]
  },
  {
   "cell_type": "code",
   "execution_count": null,
   "id": "6214eeec",
   "metadata": {},
   "outputs": [],
   "source": [
    "budget_demo = r'''\n",
    "# AWS CLI para crear presupuesto mensual de $1000 con alertas al 80% y 100%\n",
    "aws budgets create-budget \\\n",
    "  --account-id 123456789012 \\\n",
    "  --budget file://budget.json \\\n",
    "  --notifications-with-subscribers file://notifications.json\n",
    "\n",
    "# budget.json\n",
    "{\n",
    "  \"BudgetName\": \"data-platform-monthly\",\n",
    "  \"BudgetLimit\": {\"Amount\": \"1000\", \"Unit\": \"USD\"},\n",
    "  \"TimeUnit\": \"MONTHLY\",\n",
    "  \"BudgetType\": \"COST\"\n",
    "}\n",
    "\n",
    "# notifications.json (alertas al 80% y 100%)\n",
    "'''\n",
    "print(budget_demo.splitlines()[:15])"
   ]
  },
  {
   "cell_type": "markdown",
   "id": "7cacab03",
   "metadata": {},
   "source": [
    "## 5. Métricas clave de FinOps"
   ]
  },
  {
   "cell_type": "markdown",
   "id": "34ac981e",
   "metadata": {},
   "source": [
    "- **Costo por TB procesado** (USD/TB).\n",
    "- **Costo por evento** (USD/millón eventos).\n",
    "- **Utilización de recursos** (% CPU/RAM usados vs aprovisionados).\n",
    "- **Savings por optimización** (Spot, RI, rightsizing).\n",
    "- **Trend mensual** (crecimiento de gasto vs negocio)."
   ]
  },
  {
   "cell_type": "markdown",
   "id": "e4eac008",
   "metadata": {},
   "source": [
    "## 6. Herramientas y dashboards"
   ]
  },
  {
   "cell_type": "markdown",
   "id": "98c62932",
   "metadata": {},
   "source": [
    "- AWS Cost Explorer, GCP Billing Reports, Azure Cost Management.\n",
    "- Terraform/CDK para IaC con políticas de costos.\n",
    "- Terceros: Cloudability, CloudHealth, Vantage.\n",
    "- Dashboard custom con Grafana + Prometheus exporters."
   ]
  }
 ],
 "metadata": {
  "language_info": {
   "name": "python"
  }
 },
 "nbformat": 4,
 "nbformat_minor": 5
}
