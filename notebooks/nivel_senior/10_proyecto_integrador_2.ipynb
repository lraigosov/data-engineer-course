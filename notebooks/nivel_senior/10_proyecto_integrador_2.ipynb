{
 "cells": [
  {
   "cell_type": "markdown",
   "id": "ef6b9ec7",
   "metadata": {},
   "source": [
    "# 🌐 Proyecto Integrador Senior 2: Data Mesh Multi-Dominio con Feature Store\n",
    "\n",
    "Objetivo: diseñar una arquitectura Data Mesh con múltiples dominios autónomos, feature store centralizado para ML, y gobernanza federada.\n",
    "\n",
    "- Duración: 180+ min (proyecto multi-día)\n",
    "- Dificultad: Muy Alta\n",
    "- Prerrequisitos: Senior completo (01–08), experiencia organizacional"
   ]
  },
  {
   "cell_type": "markdown",
   "id": "afa74a1e",
   "metadata": {},
   "source": [
    "## 1. Contexto y requerimientos"
   ]
  },
  {
   "cell_type": "markdown",
   "id": "06572913",
   "metadata": {},
   "source": [
    "**Empresa**: Marketplace multi-categoría con 5 dominios de negocio:\n",
    "- Ventas (Sales)\n",
    "- Logística (Fulfillment)\n",
    "- Producto (Catalog)\n",
    "- Marketing (Campaigns)\n",
    "- Finanzas (Payments)\n",
    "\n",
    "**Objetivo**: Cada dominio gestiona sus propios datos como producto, con SLOs, versionado y documentación. Un feature store central consume features de todos los dominios para ML.\n",
    "\n",
    "**Requerimientos**:\n",
    "- Plataforma self-service: catálogo, CI/CD, observabilidad compartidos.\n",
    "- Gobernanza federada: políticas de seguridad y calidad globales, aplicadas localmente.\n",
    "- Feature store (Feast/Tecton) con features de cada dominio.\n",
    "- APIs de data products con contratos versionados (OpenAPI).\n",
    "- Linaje cross-domain visible en DataHub."
   ]
  },
  {
   "cell_type": "markdown",
   "id": "e8bb95d6",
   "metadata": {},
   "source": [
    "## 2. Arquitectura Data Mesh propuesta"
   ]
  },
  {
   "cell_type": "code",
   "execution_count": null,
   "id": "e7b5d273",
   "metadata": {},
   "outputs": [],
   "source": [
    "mesh_diagram = '''\n",
    "┌────────────────────────────────────────────────────────────────┐\n",
    "│                  Plataforma Self-Service                       │\n",
    "│  - Airflow compartido  - DataHub (catálogo + linaje)          │\n",
    "│  - Grafana + Prometheus - CI/CD (GitHub Actions)              │\n",
    "│  - Feature Store (Feast) - Políticas IAM centrales            │\n",
    "└────────────────────────────────────────────────────────────────┘\n",
    "                              ▲\n",
    "          ┌───────────────────┼───────────────────┐\n",
    "          │                   │                   │\n",
    "  ┌───────▼──────┐   ┌────────▼────────┐  ┌──────▼────────┐\n",
    "  │ Dominio      │   │  Dominio        │  │  Dominio      │\n",
    "  │ Ventas       │   │  Logística      │  │  Producto     │\n",
    "  │ (data prod)  │   │  (data prod)    │  │  (data prod)  │\n",
    "  │ - raw/       │   │  - raw/         │  │  - raw/       │\n",
    "  │ - curated/   │   │  - curated/     │  │  - curated/   │\n",
    "  │ - API        │   │  - API          │  │  - API        │\n",
    "  │ - Features   │   │  - Features     │  │  - Features   │\n",
    "  └──────────────┘   └─────────────────┘  └───────────────┘\n",
    "          │                   │                   │\n",
    "          └───────────────────┼───────────────────┘\n",
    "                              ▼\n",
    "                   ┌──────────────────┐\n",
    "                   │  Feature Store   │\n",
    "                   │  (Feast/Tecton)  │\n",
    "                   └─────────┬────────┘\n",
    "                             │\n",
    "                      ┌──────▼─────┐\n",
    "                      │ ML Models  │\n",
    "                      │ (training) │\n",
    "                      └────────────┘\n",
    "'''\n",
    "print(mesh_diagram)"
   ]
  },
  {
   "cell_type": "markdown",
   "id": "f732eb23",
   "metadata": {},
   "source": [
    "## 3. Componentes por dominio (ejemplo: Ventas)"
   ]
  },
  {
   "cell_type": "markdown",
   "id": "38990cce",
   "metadata": {},
   "source": [
    "### 3.1 Data Product Ventas\n",
    "- Owner: Equipo de Ventas.\n",
    "- Fuentes: Kafka (transacciones), archivos batch (devoluciones).\n",
    "- Storage: S3 `s3://mesh/ventas/raw/`, `s3://mesh/ventas/curated/`.\n",
    "- API: FastAPI endpoint `/ventas/v1/daily-revenue` con contrato OpenAPI.\n",
    "- Features: `cliente_total_compras_30d`, `cliente_num_transacciones_7d`.\n",
    "- SLO: latencia p99 < 15 min, disponibilidad > 99.9%.\n",
    "- Documentación: README, diagramas, changelog.\n",
    "\n",
    "### 3.2 Pipeline Ventas\n",
    "- Airflow DAG propio del equipo, con validaciones GE y alertas.\n",
    "- Escribe features a Feast (offline store: S3 Parquet, online: Redis).\n",
    "- Emite linaje a DataHub vía OpenLineage."
   ]
  },
  {
   "cell_type": "markdown",
   "id": "53d910d0",
   "metadata": {},
   "source": [
    "## 4. Feature Store centralizado"
   ]
  },
  {
   "cell_type": "code",
   "execution_count": null,
   "id": "6acb149b",
   "metadata": {},
   "outputs": [],
   "source": [
    "feast_config = r'''\n",
    "# feature_repo/ventas_features.py\n",
    "from feast import Entity, FeatureView, Field, FileSource\n",
    "from feast.types import Float32, Int64\n",
    "from datetime import timedelta\n",
    "\n",
    "cliente = Entity(name='cliente_id', join_keys=['cliente_id'])\n",
    "\n",
    "ventas_source = FileSource(\n",
    "    path='s3://mesh/ventas/curated/features.parquet',\n",
    "    timestamp_field='event_timestamp'\n",
    ")\n",
    "\n",
    "ventas_fv = FeatureView(\n",
    "    name='ventas_features',\n",
    "    entities=[cliente],\n",
    "    ttl=timedelta(days=30),\n",
    "    schema=[\n",
    "        Field(name='total_compras_30d', dtype=Float32),\n",
    "        Field(name='num_transacciones_7d', dtype=Int64),\n",
    "    ],\n",
    "    source=ventas_source,\n",
    "    owner='ventas-team@empresa.com'\n",
    ")\n",
    "\n",
    "# Similarmente para logistica_features, producto_features, etc.\n",
    "'''\n",
    "print(feast_config.splitlines()[:25])"
   ]
  },
  {
   "cell_type": "markdown",
   "id": "07846920",
   "metadata": {},
   "source": [
    "## 5. Gobernanza federada"
   ]
  },
  {
   "cell_type": "markdown",
   "id": "c986b720",
   "metadata": {},
   "source": [
    "- Políticas globales:\n",
    "  - Todo PII enmascarado en datasets compartidos.\n",
    "  - Validaciones mínimas de calidad (Great Expectations).\n",
    "  - Linaje obligatorio (OpenLineage).\n",
    "  - Versionado semántico de APIs.\n",
    "- Autonomía local:\n",
    "  - Cada dominio elige su stack de transformación (Spark/Pandas/dbt).\n",
    "  - Frecuencia de actualizaciones según SLO propio.\n",
    "  - Esquemas propios, evolucionables con compatibilidad (Avro/Protobuf)."
   ]
  },
  {
   "cell_type": "markdown",
   "id": "b480061b",
   "metadata": {},
   "source": [
    "## 6. Checklist de implementación"
   ]
  },
  {
   "cell_type": "code",
   "execution_count": null,
   "id": "cb9e753d",
   "metadata": {},
   "outputs": [],
   "source": [
    "checklist = '''\n",
    "☐ 1. Definir dominios y owners (RACI)\n",
    "☐ 2. Crear buckets S3 por dominio (ventas/, logistica/, producto/)\n",
    "☐ 3. DAG Airflow por dominio con validaciones y linaje\n",
    "☐ 4. APIs FastAPI versionadas (OpenAPI specs)\n",
    "☐ 5. Feature definitions en Feast por dominio\n",
    "☐ 6. Feast apply y materialize-incremental en CI/CD\n",
    "☐ 7. DataHub registrar data products con metadata\n",
    "☐ 8. Políticas IAM federadas (admin global + roles por dominio)\n",
    "☐ 9. Dashboard Grafana multi-dominio con SLOs\n",
    "☐ 10. Contratos de calidad (data contracts) versionados\n",
    "☐ 11. Onboarding docs para nuevos dominios\n",
    "☐ 12. Incident response playbook cross-domain\n",
    "☐ 13. Cost allocation tags por dominio\n",
    "☐ 14. Training model multi-dominio (consume features de Feast)\n",
    "☐ 15. Tests de integración cross-domain\n",
    "'''\n",
    "print(checklist)"
   ]
  },
  {
   "cell_type": "markdown",
   "id": "7e68ad77",
   "metadata": {},
   "source": [
    "## 7. Entregables"
   ]
  },
  {
   "cell_type": "markdown",
   "id": "379a040e",
   "metadata": {},
   "source": [
    "- Documento de diseño Data Mesh con principios y responsabilidades.\n",
    "- Repositorio multi-dominio (monorepo o multi-repo).\n",
    "- Feature store funcional con features de ≥3 dominios.\n",
    "- Catálogo DataHub con linaje cross-domain.\n",
    "- APIs documentadas (Swagger/OpenAPI) por dominio.\n",
    "- Dashboard unificado con métricas de todos los dominios.\n",
    "- Modelo ML entrenado consumiendo features federadas.\n",
    "- Presentación ejecutiva (slides) con resultados y aprendizajes."
   ]
  },
  {
   "cell_type": "markdown",
   "id": "adbe39ba",
   "metadata": {},
   "source": [
    "## 8. Evaluación"
   ]
  },
  {
   "cell_type": "markdown",
   "id": "6e2ac420",
   "metadata": {},
   "source": [
    "- Autonomía: ¿cada dominio opera independiente?\n",
    "- Gobernanza: ¿políticas aplicadas consistentemente?\n",
    "- Feature store: ¿features accesibles y versionadas?\n",
    "- Observabilidad: ¿linaje y métricas cross-domain?\n",
    "- Escalabilidad: ¿fácil agregar nuevos dominios?\n",
    "- Costos: ¿optimización por dominio visible?"
   ]
  }
 ],
 "metadata": {
  "language_info": {
   "name": "python"
  }
 },
 "nbformat": 4,
 "nbformat_minor": 5
}
