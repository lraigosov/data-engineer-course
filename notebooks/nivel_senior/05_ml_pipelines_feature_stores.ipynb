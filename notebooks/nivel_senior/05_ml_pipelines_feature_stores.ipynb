{
 "cells": [
  {
   "cell_type": "markdown",
   "id": "2d3e3e0f",
   "metadata": {},
   "source": [
    "# 🤖 ML Pipelines y Feature Stores\n",
    "\n",
    "Objetivo: diseñar pipelines reproducibles de datos para ML, integrar feature stores (Feast/Tecton) y aplicar MLOps básico (versionado, reentrenamiento, monitoreo).\n",
    "\n",
    "- Duración: 120–150 min\n",
    "- Dificultad: Alta\n",
    "- Prerrequisitos: Python ML básico, pipelines batch/streaming"
   ]
  },
  {
   "cell_type": "markdown",
   "id": "f0b644b1",
   "metadata": {},
   "source": [
    "## 1. Pipeline de datos para ML: ETL → Feature Engineering → Training → Serving"
   ]
  },
  {
   "cell_type": "markdown",
   "id": "a02075bc",
   "metadata": {},
   "source": [
    "- Extract: fuentes raw (transacciones, logs, eventos).\n",
    "- Transform: limpieza, agregaciones por ventana, joins.\n",
    "- Feature Engineering: crear features (ratios, lags, embeddings).\n",
    "- Training: dataset versionado, experimentos (MLflow/Weights&Biases).\n",
    "- Serving: online (API real-time) y offline (batch predictions)."
   ]
  },
  {
   "cell_type": "markdown",
   "id": "a21ed38e",
   "metadata": {},
   "source": [
    "## 2. Feature Store: concepto y práctica con Feast (demo local)"
   ]
  },
  {
   "cell_type": "code",
   "execution_count": null,
   "id": "4aca25c7",
   "metadata": {},
   "outputs": [],
   "source": [
    "# Nota: instala feast si quieres ejecutar (no en requirements por defecto)\n",
    "feast_demo = r'''\n",
    "# feature_repo/feature_definitions.py\n",
    "from feast import Entity, FeatureView, Field, FileSource\n",
    "from feast.types import Float32, Int64\n",
    "from datetime import timedelta\n",
    "\n",
    "cliente = Entity(name='cliente_id', join_keys=['cliente_id'])\n",
    "\n",
    "source = FileSource(\n",
    "    path='data/features.parquet',\n",
    "    timestamp_field='event_timestamp'\n",
    ")\n",
    "\n",
    "cliente_fv = FeatureView(\n",
    "    name='cliente_features',\n",
    "    entities=[cliente],\n",
    "    ttl=timedelta(days=30),\n",
    "    schema=[\n",
    "        Field(name='total_compras', dtype=Float32),\n",
    "        Field(name='num_transacciones', dtype=Int64),\n",
    "    ],\n",
    "    source=source\n",
    ")\n",
    "# feast apply\n",
    "# feast materialize-incremental\n",
    "# store.get_online_features(...)\n",
    "'''\n",
    "print(feast_demo.splitlines()[:25])"
   ]
  },
  {
   "cell_type": "markdown",
   "id": "dc61f6f9",
   "metadata": {},
   "source": [
    "## 3. Versionado de datasets y experimentos con MLflow"
   ]
  },
  {
   "cell_type": "code",
   "execution_count": null,
   "id": "caf33f04",
   "metadata": {},
   "outputs": [],
   "source": [
    "mlflow_snippet = r'''\n",
    "import mlflow\n",
    "mlflow.set_tracking_uri('http://localhost:5000')\n",
    "mlflow.set_experiment('ventas_prediccion')\n",
    "\n",
    "with mlflow.start_run():\n",
    "    mlflow.log_param('model', 'xgboost')\n",
    "    mlflow.log_param('n_estimators', 100)\n",
    "    mlflow.log_metric('rmse', 0.85)\n",
    "    mlflow.log_artifact('model.pkl')\n",
    "'''\n",
    "print(mlflow_snippet)"
   ]
  },
  {
   "cell_type": "markdown",
   "id": "065e01bb",
   "metadata": {},
   "source": [
    "## 4. Reentrenamiento automatizado (Airflow + MLflow)"
   ]
  },
  {
   "cell_type": "markdown",
   "id": "a7556724",
   "metadata": {},
   "source": [
    "- DAG semanal: extraer nuevos datos, generar features, entrenar, evaluar.\n",
    "- Si métrica mejora sobre baseline → registrar modelo, promover a producción.\n",
    "- Si drift detectado → alerta y reentrenamiento fuera de calendario."
   ]
  },
  {
   "cell_type": "markdown",
   "id": "2d2d1c42",
   "metadata": {},
   "source": [
    "## 5. Serving online y batch"
   ]
  },
  {
   "cell_type": "markdown",
   "id": "85229297",
   "metadata": {},
   "source": [
    "- Online: endpoint REST (FastAPI + modelo en memoria o via MLflow Model Registry).\n",
    "- Batch: Spark job semanal para scoring de todo el catálogo/clientes.\n",
    "- Caché de features online (Redis) para latencia < 50ms."
   ]
  },
  {
   "cell_type": "markdown",
   "id": "4c59fa8b",
   "metadata": {},
   "source": [
    "## 6. Monitoreo de modelos"
   ]
  },
  {
   "cell_type": "markdown",
   "id": "b7fa955c",
   "metadata": {},
   "source": [
    "- Data drift: distribución de features cambia (KS test, PSI).\n",
    "- Concept drift: relación X→Y cambia (performance degrada).\n",
    "- Métricas de negocio: precisión, recall, ROC-AUC, ingresos.\n",
    "- Alertas automáticas y rollback si threshold cruzado."
   ]
  }
 ],
 "metadata": {
  "language_info": {
   "name": "python"
  }
 },
 "nbformat": 4,
 "nbformat_minor": 5
}
