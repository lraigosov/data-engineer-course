{
 "cells": [
  {
   "cell_type": "markdown",
   "id": "3d526b91",
   "metadata": {},
   "source": [
    "# 📊 Text-to-SQL: Generación de Consultas SQL desde Lenguaje Natural\n",
    "\n",
    "Objetivo: implementar sistemas NL2SQL (Natural Language to SQL) robustos usando LLMs, con validación, seguridad y optimización.\n",
    "\n",
    "- Duración: 90-120 min\n",
    "- Dificultad: Media/Alta\n",
    "- Prerrequisitos: GenAI 01, SQL intermedio, schemas de base de datos"
   ]
  },
  {
   "cell_type": "markdown",
   "id": "a1491d26",
   "metadata": {},
   "source": [
    "## 1. Caso base: prompt simple"
   ]
  },
  {
   "cell_type": "code",
   "execution_count": null,
   "id": "e170eb5d",
   "metadata": {},
   "outputs": [],
   "source": [
    "import os\n",
    "from openai import OpenAI\n",
    "client = OpenAI(api_key=os.getenv('OPENAI_API_KEY'))\n",
    "\n",
    "def nl_to_sql_simple(question: str) -> str:\n",
    "    prompt = f'''\n",
    "Convierte esta pregunta en SQL:\n",
    "\n",
    "Pregunta: {question}\n",
    "\n",
    "SQL:\n",
    "'''\n",
    "    resp = client.chat.completions.create(\n",
    "        model='gpt-3.5-turbo',\n",
    "        messages=[{'role':'user','content':prompt}],\n",
    "        temperature=0\n",
    "    )\n",
    "    return resp.choices[0].message.content\n",
    "\n",
    "print(nl_to_sql_simple('Muestra las 10 ventas más recientes'))"
   ]
  },
  {
   "cell_type": "markdown",
   "id": "df6235d4",
   "metadata": {},
   "source": [
    "## 2. Mejorado: con contexto de schema"
   ]
  },
  {
   "cell_type": "code",
   "execution_count": null,
   "id": "08223e64",
   "metadata": {},
   "outputs": [],
   "source": [
    "schema_context = '''\n",
    "Tablas disponibles:\n",
    "\n",
    "ventas:\n",
    "  - venta_id (int, PK)\n",
    "  - fecha (date)\n",
    "  - cliente_id (int, FK)\n",
    "  - producto_id (int, FK)\n",
    "  - cantidad (int)\n",
    "  - total (decimal)\n",
    "\n",
    "clientes:\n",
    "  - cliente_id (int, PK)\n",
    "  - nombre (varchar)\n",
    "  - email (varchar)\n",
    "  - pais (varchar)\n",
    "\n",
    "productos:\n",
    "  - producto_id (int, PK)\n",
    "  - nombre (varchar)\n",
    "  - categoria (varchar)\n",
    "  - precio (decimal)\n",
    "'''\n",
    "\n",
    "def nl_to_sql(question: str, schema: str = schema_context, dialect='postgresql') -> str:\n",
    "    prompt = f'''\n",
    "Eres un experto en SQL. Genera una consulta {dialect} válida para responder la pregunta.\n",
    "\n",
    "Schema de base de datos:\n",
    "{schema}\n",
    "\n",
    "Pregunta: {question}\n",
    "\n",
    "Genera SOLO la consulta SQL, sin explicaciones adicionales.\n",
    "'''\n",
    "    resp = client.chat.completions.create(\n",
    "        model='gpt-4',\n",
    "        messages=[{'role':'user','content':prompt}],\n",
    "        temperature=0\n",
    "    )\n",
    "    return resp.choices[0].message.content.strip().replace('```sql','').replace('```','')\n",
    "\n",
    "query = nl_to_sql('¿Cuál es el top 5 de productos más vendidos por categoría?')\n",
    "print(query)"
   ]
  },
  {
   "cell_type": "markdown",
   "id": "5e8de7f6",
   "metadata": {},
   "source": [
    "## 3. Validación y seguridad"
   ]
  },
  {
   "cell_type": "code",
   "execution_count": null,
   "id": "5f232fdc",
   "metadata": {},
   "outputs": [],
   "source": [
    "import re\n",
    "import sqlparse\n",
    "\n",
    "def is_safe_query(sql: str) -> tuple[bool, str]:\n",
    "    \"\"\"Valida que la consulta sea de solo lectura y segura.\"\"\"\n",
    "    sql_lower = sql.lower()\n",
    "    # Bloquear operaciones de escritura\n",
    "    dangerous = ['insert', 'update', 'delete', 'drop', 'create', 'alter', 'truncate', 'exec', 'execute']\n",
    "    for kw in dangerous:\n",
    "        if re.search(rf'\\b{kw}\\b', sql_lower):\n",
    "            return False, f'Operación bloqueada: {kw}'\n",
    "    \n",
    "    # Solo permitir SELECT\n",
    "    if not sql_lower.strip().startswith('select'):\n",
    "        return False, 'Solo se permiten consultas SELECT'\n",
    "    \n",
    "    return True, 'OK'\n",
    "\n",
    "test_queries = [\n",
    "    'SELECT * FROM ventas LIMIT 10',\n",
    "    'DELETE FROM ventas WHERE fecha < \\'2020-01-01\\'',\n",
    "    'SELECT COUNT(*) FROM clientes'\n",
    "]\n",
    "\n",
    "for q in test_queries:\n",
    "    safe, msg = is_safe_query(q)\n",
    "    print(f'{\"✅\" if safe else \"❌\"} {msg}: {q[:50]}')"
   ]
  },
  {
   "cell_type": "markdown",
   "id": "ae35420c",
   "metadata": {},
   "source": [
    "## 4. Ejecución segura con SQLite demo"
   ]
  },
  {
   "cell_type": "code",
   "execution_count": null,
   "id": "71b91c16",
   "metadata": {},
   "outputs": [],
   "source": [
    "import sqlite3\n",
    "import pandas as pd\n",
    "\n",
    "# Setup demo DB\n",
    "conn = sqlite3.connect(':memory:')\n",
    "conn.executescript('''\n",
    "CREATE TABLE ventas (venta_id INT, fecha TEXT, cliente_id INT, producto_id INT, cantidad INT, total REAL);\n",
    "INSERT INTO ventas VALUES (1,'2025-10-01',10,101,2,200.0),(2,'2025-10-02',11,102,1,50.0),(3,'2025-10-03',10,101,1,100.0);\n",
    "CREATE TABLE productos (producto_id INT, nombre TEXT, categoria TEXT);\n",
    "INSERT INTO productos VALUES (101,'Laptop','Electronics'),(102,'Mouse','Electronics');\n",
    "''')\n",
    "\n",
    "def execute_nl_query(question: str):\n",
    "    sql = nl_to_sql(question)\n",
    "    print(f'SQL generado: {sql}\\n')\n",
    "    safe, msg = is_safe_query(sql)\n",
    "    if not safe:\n",
    "        return f'❌ Consulta bloqueada: {msg}'\n",
    "    try:\n",
    "        df = pd.read_sql_query(sql, conn)\n",
    "        return df\n",
    "    except Exception as e:\n",
    "        return f'Error ejecutando SQL: {e}'\n",
    "\n",
    "result = execute_nl_query('Muestra el total de ventas por producto')\n",
    "print(result)"
   ]
  },
  {
   "cell_type": "markdown",
   "id": "a959e1fb",
   "metadata": {},
   "source": [
    "## 5. Few-shot con ejemplos"
   ]
  },
  {
   "cell_type": "code",
   "execution_count": null,
   "id": "e61bd5dc",
   "metadata": {},
   "outputs": [],
   "source": [
    "few_shot_examples = '''\n",
    "Ejemplos:\n",
    "\n",
    "Q: ¿Cuántas ventas hubo ayer?\n",
    "SQL: SELECT COUNT(*) FROM ventas WHERE fecha = CURRENT_DATE - INTERVAL '1 day';\n",
    "\n",
    "Q: Top 3 clientes por gasto total\n",
    "SQL: SELECT c.nombre, SUM(v.total) as gasto FROM ventas v JOIN clientes c ON v.cliente_id=c.cliente_id GROUP BY c.nombre ORDER BY gasto DESC LIMIT 3;\n",
    "\n",
    "Q: Productos sin ventas en octubre\n",
    "SQL: SELECT p.nombre FROM productos p LEFT JOIN ventas v ON p.producto_id=v.producto_id AND v.fecha >= '2025-10-01' AND v.fecha < '2025-11-01' WHERE v.venta_id IS NULL;\n",
    "'''\n",
    "\n",
    "def nl_to_sql_fewshot(question: str) -> str:\n",
    "    prompt = f'''\n",
    "Genera SQL para responder preguntas sobre ventas.\n",
    "\n",
    "{schema_context}\n",
    "\n",
    "{few_shot_examples}\n",
    "\n",
    "Ahora genera SQL para:\n",
    "Q: {question}\n",
    "SQL:\n",
    "'''\n",
    "    resp = client.chat.completions.create(\n",
    "        model='gpt-4',\n",
    "        messages=[{'role':'user','content':prompt}],\n",
    "        temperature=0\n",
    "    )\n",
    "    return resp.choices[0].message.content.strip().replace('```sql','').replace('```','')\n",
    "\n",
    "query = nl_to_sql_fewshot('Ventas por categoría en los últimos 7 días')\n",
    "print(query)"
   ]
  },
  {
   "cell_type": "markdown",
   "id": "18767f23",
   "metadata": {},
   "source": [
    "## 6. Optimización y caché"
   ]
  },
  {
   "cell_type": "code",
   "execution_count": null,
   "id": "fc5773ee",
   "metadata": {},
   "outputs": [],
   "source": [
    "from functools import lru_cache\n",
    "import hashlib\n",
    "\n",
    "@lru_cache(maxsize=128)\n",
    "def cached_nl_to_sql(question: str) -> str:\n",
    "    return nl_to_sql(question)\n",
    "\n",
    "# Llamadas repetidas usan caché\n",
    "q = '¿Cuál es el total de ventas del mes actual?'\n",
    "print('Primera llamada:')\n",
    "print(cached_nl_to_sql(q))\n",
    "print('\\nSegunda llamada (desde caché):')\n",
    "print(cached_nl_to_sql(q))"
   ]
  },
  {
   "cell_type": "markdown",
   "id": "ffdd71a3",
   "metadata": {},
   "source": [
    "## 7. Buenas prácticas"
   ]
  },
  {
   "cell_type": "markdown",
   "id": "567494ca",
   "metadata": {},
   "source": [
    "- **Schema completo**: incluye tipos, PKs, FKs, índices.\n",
    "- **Ejemplos representativos**: few-shot con casos edge.\n",
    "- **Validación estricta**: whitelist de operaciones permitidas.\n",
    "- **Timeout y límites**: evita consultas costosas.\n",
    "- **Logging**: registra pregunta, SQL generado, resultado.\n",
    "- **Feedback loop**: almacena correcciones humanas para fine-tuning."
   ]
  },
  {
   "cell_type": "markdown",
   "id": "9b842d21",
   "metadata": {},
   "source": [
    "## 8. Ejercicios"
   ]
  },
  {
   "cell_type": "markdown",
   "id": "d5ef2b94",
   "metadata": {},
   "source": [
    "1. Agrega soporte multi-idioma (inglés/español).\n",
    "2. Implementa un sistema de aprobación humana para SQL complejos.\n",
    "3. Crea un dashboard Streamlit donde usuarios escriban preguntas y vean resultados.\n",
    "4. Añade explicación del SQL generado en lenguaje natural."
   ]
  }
 ],
 "metadata": {
  "language_info": {
   "name": "python"
  }
 },
 "nbformat": 4,
 "nbformat_minor": 5
}
