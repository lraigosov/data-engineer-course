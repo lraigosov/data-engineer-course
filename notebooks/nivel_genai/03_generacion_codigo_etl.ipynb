{
 "cells": [
  {
   "cell_type": "markdown",
   "id": "42d426fb",
   "metadata": {},
   "source": [
    "# 🔧 Generación Automática de Código ETL con LLMs\n",
    "\n",
    "Objetivo: automatizar la creación de pipelines ETL, transformaciones y scripts de datos usando IA generativa, con validación y best practices.\n",
    "\n",
    "- Duración: 90-120 min\n",
    "- Dificultad: Media/Alta\n",
    "- Prerrequisitos: GenAI 01-02, experiencia con ETL"
   ]
  },
  {
   "cell_type": "markdown",
   "id": "f38c3632",
   "metadata": {},
   "source": [
    "## 1. Generación de función ETL básica"
   ]
  },
  {
   "cell_type": "code",
   "execution_count": null,
   "id": "165223b9",
   "metadata": {},
   "outputs": [],
   "source": [
    "import os\n",
    "from openai import OpenAI\n",
    "client = OpenAI(api_key=os.getenv('OPENAI_API_KEY'))\n",
    "\n",
    "def generate_etl_code(description: str) -> str:\n",
    "    prompt = f'''\n",
    "Eres un experto en Python y pipelines ETL. Genera código Python completo y ejecutable.\n",
    "\n",
    "Requerimientos:\n",
    "{description}\n",
    "\n",
    "Incluye:\n",
    "- Imports necesarios\n",
    "- Manejo de errores\n",
    "- Logging básico\n",
    "- Docstrings\n",
    "- Type hints\n",
    "\n",
    "Código:\n",
    "'''\n",
    "    resp = client.chat.completions.create(\n",
    "        model='gpt-4',\n",
    "        messages=[{'role':'user','content':prompt}],\n",
    "        temperature=0.2\n",
    "    )\n",
    "    return resp.choices[0].message.content.strip().replace('```python','').replace('```','')\n",
    "\n",
    "desc = '''\n",
    "Función que:\n",
    "1. Lee CSV de ventas desde S3 (boto3)\n",
    "2. Filtra filas con total > 0\n",
    "3. Agrega columna \"mes\" (YYYY-MM) desde \"fecha\"\n",
    "4. Escribe a Parquet particionado por mes\n",
    "'''\n",
    "\n",
    "code = generate_etl_code(desc)\n",
    "print(code)"
   ]
  },
  {
   "cell_type": "markdown",
   "id": "81dda91b",
   "metadata": {},
   "source": [
    "## 2. Generación de transformación Pandas"
   ]
  },
  {
   "cell_type": "code",
   "execution_count": null,
   "id": "355e3bce",
   "metadata": {},
   "outputs": [],
   "source": [
    "transformation_spec = '''\n",
    "Dataset: transacciones bancarias (CSV)\n",
    "Columnas: trans_id, fecha, monto, tipo (debito/credito), cuenta_id\n",
    "\n",
    "Transformaciones:\n",
    "1. Convertir fecha a datetime\n",
    "2. Crear columna \"anio_mes\" (formato YYYY-MM)\n",
    "3. Calcular saldo acumulado por cuenta_id ordenado por fecha\n",
    "4. Agregar flag is_anomaly si monto > 3 desviaciones estándar de la media de esa cuenta\n",
    "5. Exportar a CSV con encoding UTF-8\n",
    "'''\n",
    "\n",
    "transform_code = generate_etl_code(transformation_spec)\n",
    "print(transform_code[:500] + '...')  # Preview"
   ]
  },
  {
   "cell_type": "markdown",
   "id": "29e2f97d",
   "metadata": {},
   "source": [
    "## 3. Validación de código generado"
   ]
  },
  {
   "cell_type": "code",
   "execution_count": null,
   "id": "c3cd3b2b",
   "metadata": {},
   "outputs": [],
   "source": [
    "import ast\n",
    "import subprocess\n",
    "\n",
    "def validate_python_syntax(code: str) -> tuple[bool, str]:\n",
    "    \"\"\"Valida sintaxis Python sin ejecutar.\"\"\"\n",
    "    try:\n",
    "        ast.parse(code)\n",
    "        return True, 'Sintaxis válida'\n",
    "    except SyntaxError as e:\n",
    "        return False, f'Error de sintaxis: {e}'\n",
    "\n",
    "def lint_code(code: str, tool='flake8') -> str:\n",
    "    \"\"\"Ejecuta linter (requiere instalado).\"\"\"\n",
    "    try:\n",
    "        with open('/tmp/temp_code.py', 'w') as f:\n",
    "            f.write(code)\n",
    "        result = subprocess.run([tool, '/tmp/temp_code.py'], capture_output=True, text=True)\n",
    "        return result.stdout if result.returncode == 0 else result.stderr\n",
    "    except Exception as e:\n",
    "        return f'Error linting: {e}'\n",
    "\n",
    "valid, msg = validate_python_syntax(code)\n",
    "print(f'{\"✅\" if valid else \"❌\"} {msg}')"
   ]
  },
  {
   "cell_type": "markdown",
   "id": "78453daa",
   "metadata": {},
   "source": [
    "## 4. Generación de DAG de Airflow"
   ]
  },
  {
   "cell_type": "code",
   "execution_count": null,
   "id": "e08a31e9",
   "metadata": {},
   "outputs": [],
   "source": [
    "dag_spec = '''\n",
    "DAG de Airflow para:\n",
    "- Nombre: ventas_daily_etl\n",
    "- Schedule: diario a las 2 AM\n",
    "- Tareas:\n",
    "  1. extract_s3: descarga ventas.csv de S3\n",
    "  2. validate: Great Expectations (columnas no nulas, total > 0)\n",
    "  3. transform: agrega mes, calcula métricas\n",
    "  4. load_db: inserta en PostgreSQL (tabla ventas_daily)\n",
    "  5. send_alert: email si falla cualquier paso\n",
    "- Retries: 2 con delay de 5 min\n",
    "'''\n",
    "\n",
    "dag_code = generate_etl_code(dag_spec)\n",
    "print(dag_code[:600] + '...')"
   ]
  },
  {
   "cell_type": "markdown",
   "id": "f3c217a9",
   "metadata": {},
   "source": [
    "## 5. Iteración y mejora con feedback"
   ]
  },
  {
   "cell_type": "code",
   "execution_count": null,
   "id": "70b9cf3b",
   "metadata": {},
   "outputs": [],
   "source": [
    "def refine_code(original_code: str, feedback: str) -> str:\n",
    "    prompt = f'''\n",
    "Mejora este código Python según el feedback:\n",
    "\n",
    "Código original:\n",
    "{original_code}\n",
    "\n",
    "Feedback:\n",
    "{feedback}\n",
    "\n",
    "Código mejorado:\n",
    "'''\n",
    "    resp = client.chat.completions.create(\n",
    "        model='gpt-4',\n",
    "        messages=[{'role':'user','content':prompt}],\n",
    "        temperature=0.1\n",
    "    )\n",
    "    return resp.choices[0].message.content.strip().replace('```python','').replace('```','')\n",
    "\n",
    "feedback_example = '''\n",
    "- Añadir retry con exponential backoff en la descarga de S3\n",
    "- Usar context manager para conexión a DB\n",
    "- Loggear número de filas procesadas\n",
    "'''\n",
    "\n",
    "improved = refine_code(code, feedback_example)\n",
    "print(improved[:400] + '...')"
   ]
  },
  {
   "cell_type": "markdown",
   "id": "d455aad6",
   "metadata": {},
   "source": [
    "## 6. Generación de tests unitarios"
   ]
  },
  {
   "cell_type": "code",
   "execution_count": null,
   "id": "8a7956fc",
   "metadata": {},
   "outputs": [],
   "source": [
    "def generate_tests(code: str) -> str:\n",
    "    prompt = f'''\n",
    "Genera tests unitarios con pytest para este código:\n",
    "\n",
    "{code}\n",
    "\n",
    "Incluye:\n",
    "- Test de caso normal (happy path)\n",
    "- Test con datos vacíos\n",
    "- Test con errores (valores nulos, tipos incorrectos)\n",
    "- Mocks para I/O externo (S3, DB)\n",
    "\n",
    "Tests:\n",
    "'''\n",
    "    resp = client.chat.completions.create(\n",
    "        model='gpt-4',\n",
    "        messages=[{'role':'user','content':prompt}],\n",
    "        temperature=0.1\n",
    "    )\n",
    "    return resp.choices[0].message.content.strip().replace('```python','').replace('```','')\n",
    "\n",
    "test_code = generate_tests(code)\n",
    "print(test_code[:500] + '...')"
   ]
  },
  {
   "cell_type": "markdown",
   "id": "ba35a34c",
   "metadata": {},
   "source": [
    "## 7. Buenas prácticas"
   ]
  },
  {
   "cell_type": "markdown",
   "id": "7ee1e9a8",
   "metadata": {},
   "source": [
    "- **Revisar siempre**: nunca ejecutes código generado sin inspección humana.\n",
    "- **Validación automática**: sintaxis, linting, tests.\n",
    "- **Versionado**: guarda código generado en Git con mensaje descriptivo.\n",
    "- **Plantillas**: usa templates para estructura consistente.\n",
    "- **Iteración**: refina con feedback humano y re-generación.\n",
    "- **Documentación**: genera README y comentarios junto con código."
   ]
  },
  {
   "cell_type": "markdown",
   "id": "b2fae6a5",
   "metadata": {},
   "source": [
    "## 8. Ejercicios"
   ]
  },
  {
   "cell_type": "markdown",
   "id": "89411c7c",
   "metadata": {},
   "source": [
    "1. Genera un script que migre datos de MongoDB a PostgreSQL.\n",
    "2. Crea un pipeline Spark (PySpark) que lea Parquet y escriba Delta Lake.\n",
    "3. Automatiza generación de un data quality report con Great Expectations.\n",
    "4. Construye un CLI (Click/Typer) generado por LLM para ejecutar ETLs."
   ]
  }
 ],
 "metadata": {
  "language_info": {
   "name": "python"
  }
 },
 "nbformat": 4,
 "nbformat_minor": 5
}
