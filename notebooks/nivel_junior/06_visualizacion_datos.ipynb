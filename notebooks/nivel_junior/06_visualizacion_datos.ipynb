{
 "cells": [
  {
   "cell_type": "markdown",
   "id": "66cc0ab8",
   "metadata": {},
   "source": [
    "# 📊 Visualización de Datos en Ingeniería de Datos\n",
    "\n",
    "## Objetivos de Aprendizaje\n",
    "\n",
    "Al finalizar este notebook, serás capaz de:\n",
    "\n",
    "1. ✅ Crear visualizaciones efectivas con **Matplotlib**\n",
    "2. ✅ Usar **Seaborn** para análisis estadístico visual\n",
    "3. ✅ Generar gráficos interactivos con **Plotly**\n",
    "4. ✅ Diseñar dashboards básicos\n",
    "5. ✅ Aplicar mejores prácticas de visualización de datos\n",
    "\n",
    "---"
   ]
  },
  {
   "cell_type": "markdown",
   "id": "c7b48590",
   "metadata": {},
   "source": [
    "## 1. Configuración Inicial"
   ]
  },
  {
   "cell_type": "code",
   "execution_count": null,
   "id": "60739a71",
   "metadata": {},
   "outputs": [],
   "source": [
    "# Importaciones necesarias\n",
    "import pandas as pd\n",
    "import numpy as np\n",
    "import matplotlib.pyplot as plt\n",
    "import seaborn as sns\n",
    "import plotly.express as px\n",
    "import plotly.graph_objects as go\n",
    "from plotly.subplots import make_subplots\n",
    "import warnings\n",
    "from datetime import datetime, timedelta\n",
    "\n",
    "warnings.filterwarnings('ignore')\n",
    "\n",
    "# Configuración de estilo\n",
    "plt.style.use('seaborn-v0_8-darkgrid')\n",
    "sns.set_palette(\"husl\")\n",
    "\n",
    "# Configuración de tamaño de figuras por defecto\n",
    "%matplotlib inline\n",
    "plt.rcParams['figure.figsize'] = (12, 6)\n",
    "plt.rcParams['font.size'] = 10\n",
    "\n",
    "print(\"✅ Librerías cargadas correctamente\")"
   ]
  },
  {
   "cell_type": "markdown",
   "id": "5301de17",
   "metadata": {},
   "source": [
    "### 🎨 Configuración de Bibliotecas de Visualización\n",
    "\n",
    "**Librerías principales:**\n",
    "- **Matplotlib:** base de visualización en Python, control granular sobre elementos gráficos\n",
    "- **Seaborn:** construida sobre Matplotlib, estilos estadísticos elegantes\n",
    "- **Plotly:** gráficos interactivos HTML para dashboards y exploración\n",
    "\n",
    "**Configuración:**\n",
    "- `%matplotlib inline`: muestra gráficos en notebooks\n",
    "- `plt.style.use()`: aplica estilos predefinidos\n",
    "- `rcParams`: parámetros globales (tamaño, fuentes)\n",
    "\n",
    "**Mejora práctica:** Configurar estilos al inicio garantiza visualizaciones consistentes en todo el análisis."
   ]
  },
  {
   "cell_type": "markdown",
   "id": "0021b8ad",
   "metadata": {},
   "source": [
    "## 2. Carga de Datos"
   ]
  },
  {
   "cell_type": "code",
   "execution_count": null,
   "id": "e4f8284c",
   "metadata": {},
   "outputs": [],
   "source": [
    "# Cargar datasets\n",
    "productos = pd.read_csv('../../datasets/raw/productos.csv')\n",
    "clientes = pd.read_csv('../../datasets/raw/clientes.csv')\n",
    "ventas = pd.read_csv('../../datasets/raw/ventas.csv')\n",
    "\n",
    "# Convertir fechas\n",
    "ventas['fecha_venta'] = pd.to_datetime(ventas['fecha_venta'])\n",
    "clientes['fecha_registro'] = pd.to_datetime(clientes['fecha_registro'])\n",
    "\n",
    "print(f\"📦 Productos: {len(productos)} registros\")\n",
    "print(f\"👥 Clientes: {len(clientes)} registros\")\n",
    "print(f\"💰 Ventas: {len(ventas)} registros\")\n",
    "\n",
    "# Vista previa\n",
    "display(ventas.head())"
   ]
  },
  {
   "cell_type": "markdown",
   "id": "6adfd9ad",
   "metadata": {},
   "source": [
    "## 3. Matplotlib: Gráficos Básicos\n",
    "\n",
    "Matplotlib es la biblioteca fundamental de visualización en Python."
   ]
  },
  {
   "cell_type": "markdown",
   "id": "881ecb24",
   "metadata": {},
   "source": [
    "### 3.1 Gráfico de Líneas - Evolución de Ventas"
   ]
  },
  {
   "cell_type": "code",
   "execution_count": null,
   "id": "274b45c7",
   "metadata": {},
   "outputs": [],
   "source": [
    "# Agrupar ventas por fecha\n",
    "ventas_diarias = ventas.groupby('fecha_venta')['total'].sum().reset_index()\n",
    "\n",
    "# Crear gráfico\n",
    "plt.figure(figsize=(14, 6))\n",
    "plt.plot(ventas_diarias['fecha_venta'], ventas_diarias['total'], \n",
    "         marker='o', linestyle='-', linewidth=2, markersize=6, color='#2E86AB')\n",
    "\n",
    "# Personalización\n",
    "plt.title('📈 Evolución de Ventas Diarias', fontsize=16, fontweight='bold', pad=20)\n",
    "plt.xlabel('Fecha', fontsize=12)\n",
    "plt.ylabel('Total Ventas ($)', fontsize=12)\n",
    "plt.xticks(rotation=45)\n",
    "plt.grid(True, alpha=0.3)\n",
    "plt.tight_layout()\n",
    "\n",
    "# Agregar línea de promedio\n",
    "promedio = ventas_diarias['total'].mean()\n",
    "plt.axhline(y=promedio, color='red', linestyle='--', linewidth=2, alpha=0.7, label=f'Promedio: ${promedio:.2f}')\n",
    "plt.legend()\n",
    "\n",
    "plt.show()\n",
    "\n",
    "print(f\"💵 Venta promedio diaria: ${promedio:.2f}\")\n",
    "print(f\"📊 Venta máxima: ${ventas_diarias['total'].max():.2f}\")\n",
    "print(f\"📉 Venta mínima: ${ventas_diarias['total'].min():.2f}\")"
   ]
  },
  {
   "cell_type": "markdown",
   "id": "85d21f36",
   "metadata": {},
   "source": [
    "### 📈 Gráfico de Líneas: Series Temporales\n",
    "\n",
    "**Concepto:** Los line plots muestran tendencias y evolución de métricas en el tiempo.\n",
    "\n",
    "**Elementos clave:**\n",
    "- `plt.plot()`: función principal para líneas\n",
    "- `marker='o'`: puntos en cada valor\n",
    "- `linestyle='-'`: tipo de línea (sólida, discontinua)\n",
    "- `plt.axhline()`: línea horizontal de referencia (promedio, umbral)\n",
    "\n",
    "**Cuándo usar:** Ventas diarias, métricas de rendimiento, KPIs temporales, series de tiempo.\n",
    "\n",
    "**Insight:** La línea de promedio revela rápidamente días con rendimiento superior/inferior a la media."
   ]
  },
  {
   "cell_type": "markdown",
   "id": "03c3e51f",
   "metadata": {},
   "source": [
    "### 3.2 Gráfico de Barras - Ventas por Categoría"
   ]
  },
  {
   "cell_type": "code",
   "execution_count": null,
   "id": "8fa7cd90",
   "metadata": {},
   "outputs": [],
   "source": [
    "# Merge para obtener categorías\n",
    "ventas_productos = ventas.merge(productos, left_on='producto_id', right_on='producto')\n",
    "\n",
    "# Agrupar por categoría\n",
    "ventas_categoria = ventas_productos.groupby('categoria')['total'].sum().sort_values(ascending=True)\n",
    "\n",
    "# Crear gráfico horizontal\n",
    "plt.figure(figsize=(12, 8))\n",
    "colores = plt.cm.viridis(np.linspace(0, 1, len(ventas_categoria)))\n",
    "bars = plt.barh(ventas_categoria.index, ventas_categoria.values, color=colores)\n",
    "\n",
    "# Agregar valores en las barras\n",
    "for i, bar in enumerate(bars):\n",
    "    width = bar.get_width()\n",
    "    plt.text(width, bar.get_y() + bar.get_height()/2, \n",
    "             f'${width:.2f}', \n",
    "             ha='left', va='center', fontweight='bold', fontsize=10)\n",
    "\n",
    "plt.title('💼 Ventas Totales por Categoría de Producto', fontsize=16, fontweight='bold', pad=20)\n",
    "plt.xlabel('Total Ventas ($)', fontsize=12)\n",
    "plt.ylabel('Categoría', fontsize=12)\n",
    "plt.grid(axis='x', alpha=0.3)\n",
    "plt.tight_layout()\n",
    "plt.show()\n",
    "\n",
    "print(\"\\n🏆 Top 3 Categorías:\")\n",
    "for i, (cat, total) in enumerate(ventas_categoria.tail(3).items(), 1):\n",
    "    print(f\"{i}. {cat}: ${total:.2f}\")"
   ]
  },
  {
   "cell_type": "markdown",
   "id": "bb9e2faf",
   "metadata": {},
   "source": [
    "### 📊 Gráfico de Barras: Comparación de Categorías\n",
    "\n",
    "**Concepto:** Bar plots comparan magnitudes entre categorías discretas.\n",
    "\n",
    "**Variantes:**\n",
    "- `plt.bar()`: barras verticales\n",
    "- `plt.barh()`: barras horizontales (mejor para muchas categorías)\n",
    "\n",
    "**Mejores prácticas:**\n",
    "- Ordenar barras por valor facilita lectura\n",
    "- Agregar valores en barras evita ambigüedad\n",
    "- Colores diferenciados mejoran distinción visual\n",
    "\n",
    "**Cuándo usar:** Rankings, comparación de grupos, distribución de variables categóricas."
   ]
  },
  {
   "cell_type": "markdown",
   "id": "19f4a581",
   "metadata": {},
   "source": [
    "### 3.3 Gráfico de Pastel - Distribución de Métodos de Pago"
   ]
  },
  {
   "cell_type": "code",
   "execution_count": null,
   "id": "8fb0f9e6",
   "metadata": {},
   "outputs": [],
   "source": [
    "# Contar métodos de pago\n",
    "metodos_pago = ventas['metodo_pago'].value_counts()\n",
    "\n",
    "# Crear gráfico de pastel\n",
    "plt.figure(figsize=(10, 10))\n",
    "colores = ['#FF6B6B', '#4ECDC4', '#45B7D1', '#FFA07A', '#98D8C8']\n",
    "explode = [0.05 if i == 0 else 0 for i in range(len(metodos_pago))]\n",
    "\n",
    "plt.pie(metodos_pago.values, \n",
    "        labels=metodos_pago.index, \n",
    "        autopct='%1.1f%%',\n",
    "        startangle=90,\n",
    "        colors=colores,\n",
    "        explode=explode,\n",
    "        shadow=True,\n",
    "        textprops={'fontsize': 11, 'fontweight': 'bold'})\n",
    "\n",
    "plt.title('💳 Distribución de Métodos de Pago', fontsize=16, fontweight='bold', pad=20)\n",
    "plt.axis('equal')\n",
    "plt.tight_layout()\n",
    "plt.show()\n",
    "\n",
    "print(\"\\n📊 Desglose de métodos de pago:\")\n",
    "for metodo, cantidad in metodos_pago.items():\n",
    "    porcentaje = (cantidad / len(ventas)) * 100\n",
    "    print(f\"  • {metodo}: {cantidad} transacciones ({porcentaje:.1f}%)\")"
   ]
  },
  {
   "cell_type": "markdown",
   "id": "ad884072",
   "metadata": {},
   "source": [
    "### 🥧 Gráfico de Pastel: Proporciones\n",
    "\n",
    "**Concepto:** Pie charts muestran partes de un todo, enfatizan proporciones porcentuales.\n",
    "\n",
    "**Parámetros importantes:**\n",
    "- `autopct='%1.1f%%'`: muestra porcentajes con 1 decimal\n",
    "- `explode`: separa segmentos para énfasis\n",
    "- `startangle`: rota para mejor presentación\n",
    "- `shadow=True`: efecto 3D sutil\n",
    "\n",
    "**Limitación:** Difíciles de leer con muchas categorías (máximo 5-7).\n",
    "\n",
    "**Alternativa:** Usar gráficos de barras horizontales para más de 7 categorías."
   ]
  },
  {
   "cell_type": "markdown",
   "id": "9ce8871f",
   "metadata": {},
   "source": [
    "### 3.4 Subplots - Múltiples Gráficos"
   ]
  },
  {
   "cell_type": "code",
   "execution_count": null,
   "id": "53028ad9",
   "metadata": {},
   "outputs": [],
   "source": [
    "# Crear figura con 2x2 subplots\n",
    "fig, axes = plt.subplots(2, 2, figsize=(16, 12))\n",
    "fig.suptitle('📊 Dashboard de Análisis de Ventas', fontsize=18, fontweight='bold', y=1.00)\n",
    "\n",
    "# 1. Distribución de precios\n",
    "axes[0, 0].hist(productos['precio'], bins=15, color='#6C5CE7', edgecolor='black', alpha=0.7)\n",
    "axes[0, 0].set_title('Distribución de Precios de Productos', fontweight='bold')\n",
    "axes[0, 0].set_xlabel('Precio ($)')\n",
    "axes[0, 0].set_ylabel('Frecuencia')\n",
    "axes[0, 0].grid(alpha=0.3)\n",
    "\n",
    "# 2. Stock por categoría\n",
    "stock_categoria = productos.groupby('categoria')['stock'].sum().sort_values()\n",
    "axes[0, 1].barh(stock_categoria.index, stock_categoria.values, color='#00B894')\n",
    "axes[0, 1].set_title('Stock Total por Categoría', fontweight='bold')\n",
    "axes[0, 1].set_xlabel('Unidades en Stock')\n",
    "axes[0, 1].grid(axis='x', alpha=0.3)\n",
    "\n",
    "# 3. Clientes por segmento\n",
    "segmentos = clientes['segmento'].value_counts()\n",
    "axes[1, 0].pie(segmentos.values, labels=segmentos.index, autopct='%1.1f%%', startangle=90)\n",
    "axes[1, 0].set_title('Distribución de Clientes por Segmento', fontweight='bold')\n",
    "\n",
    "# 4. Ventas por estado\n",
    "ventas_estado = ventas.groupby('estado')['total'].sum()\n",
    "axes[1, 1].bar(ventas_estado.index, ventas_estado.values, color=['#00D2D3', '#55EFC4', '#FD79A8'])\n",
    "axes[1, 1].set_title('Ventas Totales por Estado', fontweight='bold')\n",
    "axes[1, 1].set_xlabel('Estado')\n",
    "axes[1, 1].set_ylabel('Total ($)')\n",
    "axes[1, 1].grid(axis='y', alpha=0.3)\n",
    "\n",
    "plt.tight_layout()\n",
    "plt.show()"
   ]
  },
  {
   "cell_type": "markdown",
   "id": "1c2f80a1",
   "metadata": {},
   "source": [
    "### 📐 Subplots: Múltiples Gráficos en un Dashboard\n",
    "\n",
    "**Concepto:** `plt.subplots()` crea una cuadrícula de gráficos para comparaciones lado a lado.\n",
    "\n",
    "**Sintaxis:**\n",
    "```python\n",
    "fig, axes = plt.subplots(nrows, ncols, figsize=(...))\n",
    "axes[row, col].plot(...)  # Acceso individual\n",
    "```\n",
    "\n",
    "**Ventajas:**\n",
    "- Comparación directa de métricas relacionadas\n",
    "- Dashboard compacto en una sola figura\n",
    "- Presentaciones profesionales\n",
    "\n",
    "**Uso:** Reportes ejecutivos, análisis multivariable, monitoreo de KPIs."
   ]
  },
  {
   "cell_type": "markdown",
   "id": "bcf929d0",
   "metadata": {},
   "source": [
    "## 4. Seaborn: Visualización Estadística\n",
    "\n",
    "Seaborn facilita la creación de gráficos estadísticos complejos."
   ]
  },
  {
   "cell_type": "markdown",
   "id": "078fa73b",
   "metadata": {},
   "source": [
    "### 4.1 Box Plot - Análisis de Distribución"
   ]
  },
  {
   "cell_type": "code",
   "execution_count": null,
   "id": "4c117642",
   "metadata": {},
   "outputs": [],
   "source": [
    "plt.figure(figsize=(14, 7))\n",
    "sns.boxplot(data=ventas_productos, x='categoria', y='total', palette='Set2')\n",
    "plt.title('📦 Distribución de Ventas por Categoría (Box Plot)', fontsize=16, fontweight='bold', pad=20)\n",
    "plt.xlabel('Categoría', fontsize=12)\n",
    "plt.ylabel('Total de Venta ($)', fontsize=12)\n",
    "plt.xticks(rotation=45, ha='right')\n",
    "plt.grid(axis='y', alpha=0.3)\n",
    "plt.tight_layout()\n",
    "plt.show()\n",
    "\n",
    "print(\"\\n📊 Estadísticas por categoría:\")\n",
    "print(ventas_productos.groupby('categoria')['total'].describe()[['mean', '50%', 'std']].round(2))"
   ]
  },
  {
   "cell_type": "markdown",
   "id": "242e47b6",
   "metadata": {},
   "source": [
    "### 📦 Box Plot: Visualización de Distribución y Outliers\n",
    "\n",
    "**Concepto:** Muestra distribución mediante cuartiles, identifica valores atípicos de forma visual.\n",
    "\n",
    "**Componentes:**\n",
    "- **Caja:** rango IQR (Q1 a Q3), contiene el 50% central de los datos\n",
    "- **Línea central:** mediana (Q2)\n",
    "- **Bigotes:** extensión hasta 1.5×IQR\n",
    "- **Puntos:** outliers más allá de los bigotes\n",
    "\n",
    "**Ventaja sobre histograma:** Compara múltiples grupos en un espacio reducido.\n",
    "\n",
    "**Uso:** Detección de outliers, comparación de distribuciones entre categorías."
   ]
  },
  {
   "cell_type": "markdown",
   "id": "eeeac3a8",
   "metadata": {},
   "source": [
    "### 4.2 Violin Plot - Densidad y Distribución"
   ]
  },
  {
   "cell_type": "code",
   "execution_count": null,
   "id": "23729aba",
   "metadata": {},
   "outputs": [],
   "source": [
    "plt.figure(figsize=(14, 7))\n",
    "sns.violinplot(data=ventas, x='metodo_pago', y='total', palette='muted', inner='quartile')\n",
    "plt.title('🎻 Distribución de Montos por Método de Pago', fontsize=16, fontweight='bold', pad=20)\n",
    "plt.xlabel('Método de Pago', fontsize=12)\n",
    "plt.ylabel('Total ($)', fontsize=12)\n",
    "plt.xticks(rotation=30)\n",
    "plt.grid(axis='y', alpha=0.3)\n",
    "plt.tight_layout()\n",
    "plt.show()"
   ]
  },
  {
   "cell_type": "markdown",
   "id": "f24d1c44",
   "metadata": {},
   "source": [
    "### 🎻 Violin Plot: Densidad de Distribución\n",
    "\n",
    "**Concepto:** Combina box plot con gráfico de densidad (KDE) para mostrar forma completa de la distribución.\n",
    "\n",
    "**Componentes:**\n",
    "- **Forma externa:** densidad de probabilidad (ancho = frecuencia)\n",
    "- **Inner quartile:** muestra cuartiles como en box plot\n",
    "- **Área más ancha:** mayor concentración de datos\n",
    "\n",
    "**Ventaja:** Revela múltiples picos (distribuciones bimodales) que box plots ocultan.\n",
    "\n",
    "**Uso:** Análisis de segmentos de clientes, comparación de comportamientos entre grupos."
   ]
  },
  {
   "cell_type": "markdown",
   "id": "9d392e30",
   "metadata": {},
   "source": [
    "### 4.3 Heatmap - Matriz de Correlación"
   ]
  },
  {
   "cell_type": "code",
   "execution_count": null,
   "id": "ad969f44",
   "metadata": {},
   "outputs": [],
   "source": [
    "# Preparar datos para correlación\n",
    "ventas_productos['mes'] = ventas_productos['fecha_venta'].dt.month\n",
    "ventas_productos['dia_semana'] = ventas_productos['fecha_venta'].dt.dayofweek\n",
    "\n",
    "# Seleccionar columnas numéricas\n",
    "columnas_numericas = ['cantidad', 'precio_unitario', 'total', 'precio', 'stock', 'mes', 'dia_semana']\n",
    "correlacion = ventas_productos[columnas_numericas].corr()\n",
    "\n",
    "# Crear heatmap\n",
    "plt.figure(figsize=(10, 8))\n",
    "sns.heatmap(correlacion, annot=True, fmt='.2f', cmap='coolwarm', \n",
    "            center=0, square=True, linewidths=1, cbar_kws={\"shrink\": 0.8})\n",
    "plt.title('🔥 Matriz de Correlación - Variables de Ventas', fontsize=16, fontweight='bold', pad=20)\n",
    "plt.tight_layout()\n",
    "plt.show()\n",
    "\n",
    "print(\"\\n🔍 Correlaciones más fuertes:\")\n",
    "# Obtener correlaciones sin la diagonal\n",
    "corr_values = correlacion.abs().unstack()\n",
    "corr_values = corr_values[corr_values < 1]\n",
    "print(corr_values.sort_values(ascending=False).head(5))"
   ]
  },
  {
   "cell_type": "markdown",
   "id": "c2863c5f",
   "metadata": {},
   "source": [
    "### 🔥 Heatmap: Matriz de Correlación\n",
    "\n",
    "**Concepto:** Visualiza correlaciones entre variables numéricas mediante escala de color.\n",
    "\n",
    "**Interpretación:**\n",
    "- **Valores cercanos a +1:** correlación positiva fuerte (aumentan juntas)\n",
    "- **Valores cercanos a -1:** correlación negativa fuerte (una sube, otra baja)\n",
    "- **Valores cercanos a 0:** sin correlación lineal\n",
    "\n",
    "**Parámetros clave:**\n",
    "- `annot=True`: muestra valores numéricos\n",
    "- `cmap='coolwarm'`: paleta divergente (rojo-azul)\n",
    "- `center=0`: centra escala en cero\n",
    "\n",
    "**Uso:** Feature selection para ML, análisis de multicolinealidad, exploración de relaciones."
   ]
  },
  {
   "cell_type": "markdown",
   "id": "88523b3b",
   "metadata": {},
   "source": [
    "### 4.4 Pair Plot - Relaciones entre Variables"
   ]
  },
  {
   "cell_type": "code",
   "execution_count": null,
   "id": "60d88b8f",
   "metadata": {},
   "outputs": [],
   "source": [
    "# Crear subset de datos\n",
    "datos_pairplot = ventas_productos[['cantidad', 'precio_unitario', 'total', 'estado']].copy()\n",
    "\n",
    "# Crear pairplot\n",
    "sns.pairplot(datos_pairplot, hue='estado', palette='Set1', diag_kind='kde', corner=True)\n",
    "plt.suptitle('📊 Análisis de Relaciones entre Variables', y=1.02, fontsize=16, fontweight='bold')\n",
    "plt.tight_layout()\n",
    "plt.show()"
   ]
  },
  {
   "cell_type": "markdown",
   "id": "3bbfce04",
   "metadata": {},
   "source": [
    "### 🔍 Pair Plot: Relaciones Múltiples\n",
    "\n",
    "**Concepto:** Matriz de scatter plots mostrando todas las combinaciones de variables numéricas.\n",
    "\n",
    "**Componentes:**\n",
    "- **Diagonal:** distribución de cada variable (histograma o KDE)\n",
    "- **Fuera diagonal:** scatter plots entre pares de variables\n",
    "- **Parámetro `hue`:** colorea por categoría revelando patrones por grupo\n",
    "\n",
    "**Ventaja:** Identifica rápidamente relaciones y clusters en datasets multivariables.\n",
    "\n",
    "**Uso:** Análisis exploratorio inicial, selección de features, detección de separabilidad entre clases."
   ]
  },
  {
   "cell_type": "markdown",
   "id": "1bfe411b",
   "metadata": {},
   "source": [
    "### 4.5 Count Plot - Frecuencia de Categorías"
   ]
  },
  {
   "cell_type": "code",
   "execution_count": null,
   "id": "b2917400",
   "metadata": {},
   "outputs": [],
   "source": [
    "plt.figure(figsize=(12, 6))\n",
    "sns.countplot(data=clientes, x='segmento', hue='pais', palette='pastel')\n",
    "plt.title('👥 Distribución de Clientes por Segmento y País', fontsize=16, fontweight='bold', pad=20)\n",
    "plt.xlabel('Segmento', fontsize=12)\n",
    "plt.ylabel('Cantidad de Clientes', fontsize=12)\n",
    "plt.legend(title='País', bbox_to_anchor=(1.05, 1), loc='upper left')\n",
    "plt.grid(axis='y', alpha=0.3)\n",
    "plt.tight_layout()\n",
    "plt.show()"
   ]
  },
  {
   "cell_type": "markdown",
   "id": "aa4101c7",
   "metadata": {},
   "source": [
    "## 5. Plotly: Gráficos Interactivos\n",
    "\n",
    "Plotly permite crear visualizaciones interactivas para dashboards web."
   ]
  },
  {
   "cell_type": "markdown",
   "id": "542b2813",
   "metadata": {},
   "source": [
    "### 5.1 Scatter Plot Interactivo"
   ]
  },
  {
   "cell_type": "code",
   "execution_count": null,
   "id": "456b0cb6",
   "metadata": {},
   "outputs": [],
   "source": [
    "fig = px.scatter(ventas_productos, \n",
    "                 x='precio', \n",
    "                 y='total',\n",
    "                 size='cantidad',\n",
    "                 color='categoria',\n",
    "                 hover_data=['producto', 'metodo_pago'],\n",
    "                 title='💎 Relación Precio vs Total de Venta (Interactivo)',\n",
    "                 labels={'precio': 'Precio Unitario ($)', 'total': 'Total de Venta ($)'},\n",
    "                 template='plotly_white')\n",
    "\n",
    "fig.update_layout(height=600, font=dict(size=12))\n",
    "fig.show()\n",
    "\n",
    "print(\"💡 Tip: Pasa el mouse sobre los puntos para ver detalles\")"
   ]
  },
  {
   "cell_type": "markdown",
   "id": "cf8152dc",
   "metadata": {},
   "source": [
    "### 💎 Plotly: Gráficos Interactivos\n",
    "\n",
    "**Concepto:** Plotly genera visualizaciones HTML interactivas con zoom, pan, hover y exportación.\n",
    "\n",
    "**Ventajas sobre Matplotlib:**\n",
    "- **Interactividad:** exploración dinámica de datos\n",
    "- **Tooltips:** información detallada al pasar el mouse\n",
    "- **Zoom/Pan:** navegación fluida en grandes datasets\n",
    "- **Exportación:** PNG, SVG directamente del navegador\n",
    "\n",
    "**API Principal:**\n",
    "- `plotly.express (px)`: interfaz simple estilo ggplot\n",
    "- `graph_objects (go)`: control granular avanzado\n",
    "\n",
    "**Uso ideal:** Dashboards web, reportes ejecutivos interactivos, aplicaciones de datos."
   ]
  },
  {
   "cell_type": "markdown",
   "id": "b8a9f8b4",
   "metadata": {},
   "source": [
    "### 5.2 Gráfico de Líneas con Animación"
   ]
  },
  {
   "cell_type": "code",
   "execution_count": null,
   "id": "c9f144dd",
   "metadata": {},
   "outputs": [],
   "source": [
    "# Preparar datos para serie temporal\n",
    "ventas_diarias_completo = ventas.copy()\n",
    "ventas_diarias_completo['mes'] = ventas_diarias_completo['fecha_venta'].dt.to_period('M').astype(str)\n",
    "ventas_diarias_completo = ventas_diarias_completo.sort_values('fecha_venta')\n",
    "\n",
    "fig = px.line(ventas_diarias_completo, \n",
    "              x='fecha_venta', \n",
    "              y='total',\n",
    "              color='metodo_pago',\n",
    "              title='📈 Evolución de Ventas por Método de Pago',\n",
    "              labels={'fecha_venta': 'Fecha', 'total': 'Total ($)', 'metodo_pago': 'Método de Pago'},\n",
    "              template='plotly_dark')\n",
    "\n",
    "fig.update_traces(mode='lines+markers')\n",
    "fig.update_layout(height=600, hovermode='x unified')\n",
    "fig.show()"
   ]
  },
  {
   "cell_type": "markdown",
   "id": "710016a2",
   "metadata": {},
   "source": [
    "### 5.3 Gráfico de Barras Apiladas"
   ]
  },
  {
   "cell_type": "code",
   "execution_count": null,
   "id": "3bad6d2d",
   "metadata": {},
   "outputs": [],
   "source": [
    "# Agrupar por categoría y estado\n",
    "ventas_cat_estado = ventas_productos.groupby(['categoria', 'estado'])['total'].sum().reset_index()\n",
    "\n",
    "fig = px.bar(ventas_cat_estado, \n",
    "             x='categoria', \n",
    "             y='total',\n",
    "             color='estado',\n",
    "             title='📊 Ventas por Categoría y Estado (Apiladas)',\n",
    "             labels={'categoria': 'Categoría', 'total': 'Total Ventas ($)', 'estado': 'Estado'},\n",
    "             template='seaborn',\n",
    "             barmode='stack')\n",
    "\n",
    "fig.update_layout(height=600, xaxis_tickangle=-45)\n",
    "fig.show()"
   ]
  },
  {
   "cell_type": "markdown",
   "id": "d276bbef",
   "metadata": {},
   "source": [
    "### 📊 Barras Apiladas: Composición por Categorías\n",
    "\n",
    "**Concepto:** Muestra contribución de subcategorías al total de cada categoría principal.\n",
    "\n",
    "**Parámetro clave:**\n",
    "- `barmode='stack'`: apila barras verticalmente\n",
    "- `barmode='group'`: barras lado a lado (comparación directa)\n",
    "\n",
    "**Ventaja:** Revela simultáneamente total por categoría y composición interna.\n",
    "\n",
    "**Uso:** Análisis de composición, desglose de métricas por múltiples dimensiones."
   ]
  },
  {
   "cell_type": "markdown",
   "id": "ad0d7cd7",
   "metadata": {},
   "source": [
    "### 5.4 Sunburst Chart - Jerarquía de Ventas"
   ]
  },
  {
   "cell_type": "code",
   "execution_count": null,
   "id": "654b7325",
   "metadata": {},
   "outputs": [],
   "source": [
    "# Preparar datos jerárquicos\n",
    "jerarquia_ventas = ventas_productos.groupby(['categoria', 'producto'])['total'].sum().reset_index()\n",
    "\n",
    "fig = px.sunburst(jerarquia_ventas, \n",
    "                  path=['categoria', 'producto'], \n",
    "                  values='total',\n",
    "                  title='☀️ Jerarquía de Ventas: Categoría → Producto',\n",
    "                  template='ggplot2')\n",
    "\n",
    "fig.update_layout(height=700)\n",
    "fig.show()\n",
    "\n",
    "print(\"💡 Tip: Haz clic en las secciones para explorar la jerarquía\")"
   ]
  },
  {
   "cell_type": "markdown",
   "id": "82bf3ff3",
   "metadata": {},
   "source": [
    "### ☀️ Sunburst Chart: Visualización Jerárquica\n",
    "\n",
    "**Concepto:** Gráfico circular que muestra jerarquías anidadas, cada nivel representa un nivel de agregación.\n",
    "\n",
    "**Características:**\n",
    "- **Centro:** nivel más alto de jerarquía (categorías)\n",
    "- **Anillos exteriores:** niveles más detallados (subcategorías, productos)\n",
    "- **Tamaño de sector:** proporcional al valor de la métrica\n",
    "- **Interactividad:** clic para drill-down\n",
    "\n",
    "**Uso:** Estructuras organizacionales, presupuestos jerárquicos, taxonomías de productos."
   ]
  },
  {
   "cell_type": "markdown",
   "id": "6db2431c",
   "metadata": {},
   "source": [
    "### 5.5 Dashboard con Múltiples Gráficos"
   ]
  },
  {
   "cell_type": "code",
   "execution_count": null,
   "id": "506cc3cb",
   "metadata": {},
   "outputs": [],
   "source": [
    "# Crear subplot con 4 gráficos\n",
    "fig = make_subplots(\n",
    "    rows=2, cols=2,\n",
    "    subplot_titles=('Ventas Diarias', 'Métodos de Pago', 'Top Productos', 'Ventas por Estado'),\n",
    "    specs=[[{'type': 'scatter'}, {'type': 'pie'}],\n",
    "           [{'type': 'bar'}, {'type': 'bar'}]]\n",
    ")\n",
    "\n",
    "# 1. Línea de ventas diarias\n",
    "ventas_dia = ventas.groupby('fecha_venta')['total'].sum().reset_index()\n",
    "fig.add_trace(\n",
    "    go.Scatter(x=ventas_dia['fecha_venta'], y=ventas_dia['total'], mode='lines+markers', name='Ventas'),\n",
    "    row=1, col=1\n",
    ")\n",
    "\n",
    "# 2. Pie chart de métodos de pago\n",
    "metodos = ventas['metodo_pago'].value_counts()\n",
    "fig.add_trace(\n",
    "    go.Pie(labels=metodos.index, values=metodos.values, name='Métodos'),\n",
    "    row=1, col=2\n",
    ")\n",
    "\n",
    "# 3. Top productos\n",
    "top_productos = ventas_productos.groupby('producto')['total'].sum().nlargest(5)\n",
    "fig.add_trace(\n",
    "    go.Bar(x=top_productos.values, y=top_productos.index, orientation='h', name='Top Productos'),\n",
    "    row=2, col=1\n",
    ")\n",
    "\n",
    "# 4. Ventas por estado\n",
    "ventas_estado = ventas.groupby('estado')['total'].sum()\n",
    "fig.add_trace(\n",
    "    go.Bar(x=ventas_estado.index, y=ventas_estado.values, name='Estados'),\n",
    "    row=2, col=2\n",
    ")\n",
    "\n",
    "# Actualizar layout\n",
    "fig.update_layout(\n",
    "    title_text='📊 Dashboard Ejecutivo de Ventas',\n",
    "    title_font_size=20,\n",
    "    showlegend=False,\n",
    "    height=800,\n",
    "    template='plotly_white'\n",
    ")\n",
    "\n",
    "fig.show()\n",
    "\n",
    "print(\"✅ Dashboard interactivo generado correctamente\")"
   ]
  },
  {
   "cell_type": "markdown",
   "id": "93bec11d",
   "metadata": {},
   "source": [
    "## 6. Mejores Prácticas de Visualización\n",
    "\n",
    "### 6.1 Principios de Diseño"
   ]
  },
  {
   "cell_type": "code",
   "execution_count": null,
   "id": "62e44969",
   "metadata": {},
   "outputs": [],
   "source": [
    "print(\"\"\"\n",
    "✅ MEJORES PRÁCTICAS PARA VISUALIZACIÓN DE DATOS\n",
    "\n",
    "1. 🎯 CLARIDAD\n",
    "   • Título descriptivo y claro\n",
    "   • Etiquetas en los ejes\n",
    "   • Leyendas cuando sea necesario\n",
    "   • Unidades explícitas\n",
    "\n",
    "2. 🎨 COLOR\n",
    "   • Usar paletas accesibles (color-blind friendly)\n",
    "   • Máximo 5-7 colores diferentes\n",
    "   • Colores consistentes entre gráficos\n",
    "   • Alto contraste para legibilidad\n",
    "\n",
    "3. 📊 TIPO DE GRÁFICO ADECUADO\n",
    "   • Líneas: Tendencias temporales\n",
    "   • Barras: Comparaciones entre categorías\n",
    "   • Scatter: Relaciones entre variables\n",
    "   • Pie: Proporciones (máximo 5 categorías)\n",
    "   • Heatmap: Matrices y correlaciones\n",
    "\n",
    "4. 📏 ESCALAS\n",
    "   • Empezar eje Y en cero (barras)\n",
    "   • Escala logarítmica para rangos amplios\n",
    "   • Evitar distorsiones\n",
    "\n",
    "5. 📝 ANOTACIONES\n",
    "   • Resaltar puntos importantes\n",
    "   • Agregar contexto cuando sea necesario\n",
    "   • Líneas de referencia (promedios, metas)\n",
    "\n",
    "6. 🎭 SIMPLICIDAD\n",
    "   • Eliminar elementos innecesarios\n",
    "   • Una idea principal por gráfico\n",
    "   • Evitar 3D sin motivo\n",
    "   • Reducir chartjunk\n",
    "\n",
    "7. 📱 INTERACTIVIDAD (Web)\n",
    "   • Tooltips informativos\n",
    "   • Zoom y pan cuando sea útil\n",
    "   • Filtros dinámicos\n",
    "   • Exportación de datos\n",
    "\"\"\")"
   ]
  },
  {
   "cell_type": "markdown",
   "id": "f7248548",
   "metadata": {},
   "source": [
    "### 6.2 Comparación: Gráfico Malo vs Bueno"
   ]
  },
  {
   "cell_type": "code",
   "execution_count": null,
   "id": "957f17f7",
   "metadata": {},
   "outputs": [],
   "source": [
    "# Datos de ejemplo\n",
    "ventas_mes = ventas_productos.groupby(ventas_productos['fecha_venta'].dt.to_period('M').astype(str))['total'].sum()\n",
    "\n",
    "# MALO: Sin contexto, colores inapropiados, sin etiquetas\n",
    "fig, (ax1, ax2) = plt.subplots(1, 2, figsize=(16, 6))\n",
    "\n",
    "# Gráfico MALO\n",
    "ax1.bar(range(len(ventas_mes)), ventas_mes.values, color='red')\n",
    "ax1.set_title('Ventas')\n",
    "ax1.text(0.5, 0.95, '❌ MALO', transform=ax1.transAxes, \n",
    "         fontsize=16, fontweight='bold', color='red', ha='center')\n",
    "\n",
    "# Gráfico BUENO\n",
    "ax2.bar(ventas_mes.index, ventas_mes.values, color='#2E86AB', edgecolor='black', alpha=0.8)\n",
    "ax2.set_title('📊 Evolución de Ventas Mensuales', fontsize=14, fontweight='bold', pad=15)\n",
    "ax2.set_xlabel('Mes', fontsize=11)\n",
    "ax2.set_ylabel('Total Ventas ($)', fontsize=11)\n",
    "ax2.grid(axis='y', alpha=0.3)\n",
    "ax2.axhline(y=ventas_mes.mean(), color='red', linestyle='--', alpha=0.7, label='Promedio')\n",
    "\n",
    "# Agregar valores en las barras\n",
    "for i, v in enumerate(ventas_mes.values):\n",
    "    ax2.text(i, v, f'${v:.0f}', ha='center', va='bottom', fontweight='bold')\n",
    "\n",
    "ax2.legend()\n",
    "ax2.text(0.5, 0.95, '✅ BUENO', transform=ax2.transAxes, \n",
    "         fontsize=16, fontweight='bold', color='green', ha='center')\n",
    "\n",
    "plt.tight_layout()\n",
    "plt.show()\n",
    "\n",
    "print(\"\"\"\n",
    "🔍 Diferencias clave:\n",
    "\n",
    "❌ MALO:\n",
    "  • Sin etiquetas en ejes\n",
    "  • Título genérico\n",
    "  • Color agresivo sin contraste\n",
    "  • Sin contexto (promedio, valores)\n",
    "  • Sin grid para referencia\n",
    "\n",
    "✅ BUENO:\n",
    "  • Título descriptivo con emoji\n",
    "  • Etiquetas claras con unidades\n",
    "  • Color profesional con contraste\n",
    "  • Línea de promedio para contexto\n",
    "  • Grid para facilitar lectura\n",
    "  • Valores anotados\n",
    "\"\"\")"
   ]
  },
  {
   "cell_type": "markdown",
   "id": "1bb3c5e2",
   "metadata": {},
   "source": [
    "## 7. Caso Práctico: Dashboard Completo"
   ]
  },
  {
   "cell_type": "code",
   "execution_count": null,
   "id": "1553bb3f",
   "metadata": {},
   "outputs": [],
   "source": [
    "# Función para crear dashboard profesional\n",
    "def crear_dashboard_ventas(ventas_df, productos_df, clientes_df):\n",
    "    \"\"\"\n",
    "    Crea un dashboard completo de análisis de ventas.\n",
    "    \"\"\"\n",
    "    # Merge de datos\n",
    "    datos_completos = ventas_df.merge(\n",
    "        productos_df, left_on='producto_id', right_on='producto'\n",
    "    ).merge(\n",
    "        clientes_df, left_on='cliente_id', right_on='cliente_id'\n",
    "    )\n",
    "    \n",
    "    # Crear figura\n",
    "    fig = plt.figure(figsize=(18, 12))\n",
    "    gs = fig.add_gridspec(3, 3, hspace=0.3, wspace=0.3)\n",
    "    \n",
    "    # 1. KPIs principales (arriba)\n",
    "    ax_kpi = fig.add_subplot(gs[0, :])\n",
    "    ax_kpi.axis('off')\n",
    "    \n",
    "    # Calcular KPIs\n",
    "    total_ventas = datos_completos['total'].sum()\n",
    "    num_transacciones = len(datos_completos)\n",
    "    ticket_promedio = total_ventas / num_transacciones\n",
    "    num_clientes = datos_completos['cliente_id'].nunique()\n",
    "    \n",
    "    kpis = [\n",
    "        ('💰 Total Ventas', f'${total_ventas:,.2f}'),\n",
    "        ('🛒 Transacciones', f'{num_transacciones:,}'),\n",
    "        ('📊 Ticket Promedio', f'${ticket_promedio:.2f}'),\n",
    "        ('👥 Clientes Únicos', f'{num_clientes:,}')\n",
    "    ]\n",
    "    \n",
    "    for i, (titulo, valor) in enumerate(kpis):\n",
    "        x_pos = 0.125 + i * 0.25\n",
    "        ax_kpi.text(x_pos, 0.7, titulo, ha='center', fontsize=12, fontweight='bold')\n",
    "        ax_kpi.text(x_pos, 0.3, valor, ha='center', fontsize=18, fontweight='bold', color='#2E86AB')\n",
    "    \n",
    "    # 2. Evolución temporal\n",
    "    ax1 = fig.add_subplot(gs[1, :])\n",
    "    ventas_diarias = datos_completos.groupby('fecha_venta')['total'].sum()\n",
    "    ax1.plot(ventas_diarias.index, ventas_diarias.values, marker='o', linewidth=2, markersize=6)\n",
    "    ax1.fill_between(ventas_diarias.index, ventas_diarias.values, alpha=0.3)\n",
    "    ax1.set_title('📈 Evolución Diaria de Ventas', fontsize=14, fontweight='bold', pad=15)\n",
    "    ax1.set_xlabel('Fecha')\n",
    "    ax1.set_ylabel('Total ($)')\n",
    "    ax1.grid(alpha=0.3)\n",
    "    ax1.tick_params(axis='x', rotation=45)\n",
    "    \n",
    "    # 3. Top productos\n",
    "    ax2 = fig.add_subplot(gs[2, 0])\n",
    "    top_prods = datos_completos.groupby('producto')['total'].sum().nlargest(5)\n",
    "    ax2.barh(top_prods.index, top_prods.values, color='#6C5CE7')\n",
    "    ax2.set_title('🏆 Top 5 Productos', fontsize=12, fontweight='bold')\n",
    "    ax2.set_xlabel('Ventas ($)')\n",
    "    ax2.grid(axis='x', alpha=0.3)\n",
    "    \n",
    "    # 4. Segmentos de clientes\n",
    "    ax3 = fig.add_subplot(gs[2, 1])\n",
    "    segmentos_ventas = datos_completos.groupby('segmento')['total'].sum()\n",
    "    ax3.pie(segmentos_ventas.values, labels=segmentos_ventas.index, autopct='%1.1f%%', startangle=90)\n",
    "    ax3.set_title('👥 Ventas por Segmento', fontsize=12, fontweight='bold')\n",
    "    \n",
    "    # 5. Métodos de pago\n",
    "    ax4 = fig.add_subplot(gs[2, 2])\n",
    "    metodos = datos_completos['metodo_pago'].value_counts()\n",
    "    ax4.bar(metodos.index, metodos.values, color='#00B894')\n",
    "    ax4.set_title('💳 Métodos de Pago', fontsize=12, fontweight='bold')\n",
    "    ax4.set_ylabel('Frecuencia')\n",
    "    ax4.tick_params(axis='x', rotation=45)\n",
    "    ax4.grid(axis='y', alpha=0.3)\n",
    "    \n",
    "    # Título principal\n",
    "    fig.suptitle('📊 DASHBOARD DE ANÁLISIS DE VENTAS', \n",
    "                 fontsize=20, fontweight='bold', y=0.98)\n",
    "    \n",
    "    plt.show()\n",
    "    \n",
    "    # Resumen estadístico\n",
    "    print(\"\\n\" + \"=\"*60)\n",
    "    print(\"📊 RESUMEN EJECUTIVO\")\n",
    "    print(\"=\"*60)\n",
    "    print(f\"\\n💰 Ventas Totales: ${total_ventas:,.2f}\")\n",
    "    print(f\"🛒 Total Transacciones: {num_transacciones:,}\")\n",
    "    print(f\"📊 Ticket Promedio: ${ticket_promedio:.2f}\")\n",
    "    print(f\"👥 Clientes Únicos: {num_clientes:,}\")\n",
    "    print(f\"\\n🏆 Producto más vendido: {top_prods.index[0]} (${top_prods.values[0]:.2f})\")\n",
    "    print(f\"💳 Método de pago preferido: {metodos.index[0]} ({metodos.values[0]} transacciones)\")\n",
    "    print(f\"👔 Segmento con más ventas: {segmentos_ventas.idxmax()} (${segmentos_ventas.max():.2f})\")\n",
    "    print(\"\\n\" + \"=\"*60)\n",
    "\n",
    "# Ejecutar dashboard\n",
    "crear_dashboard_ventas(ventas, productos, clientes)"
   ]
  },
  {
   "cell_type": "markdown",
   "id": "1c9b6ef4",
   "metadata": {},
   "source": [
    "## 8. Exportación de Gráficos"
   ]
  },
  {
   "cell_type": "code",
   "execution_count": null,
   "id": "3ee3c001",
   "metadata": {},
   "outputs": [],
   "source": [
    "# Crear directorio de salida si no existe\n",
    "import os\n",
    "output_dir = '../../outputs/visualizaciones'\n",
    "os.makedirs(output_dir, exist_ok=True)\n",
    "\n",
    "# Ejemplo: Guardar gráfico en alta resolución\n",
    "plt.figure(figsize=(12, 6))\n",
    "ventas_categoria = ventas_productos.groupby('categoria')['total'].sum().sort_values()\n",
    "plt.barh(ventas_categoria.index, ventas_categoria.values, color='#2E86AB')\n",
    "plt.title('Ventas por Categoría', fontsize=16, fontweight='bold')\n",
    "plt.xlabel('Total Ventas ($)')\n",
    "plt.tight_layout()\n",
    "\n",
    "# Guardar en diferentes formatos\n",
    "plt.savefig(f'{output_dir}/ventas_categoria.png', dpi=300, bbox_inches='tight')\n",
    "plt.savefig(f'{output_dir}/ventas_categoria.pdf', bbox_inches='tight')\n",
    "plt.savefig(f'{output_dir}/ventas_categoria.svg', bbox_inches='tight')\n",
    "plt.show()\n",
    "\n",
    "print(f\"✅ Gráficos exportados a: {output_dir}\")\n",
    "print(\"📁 Formatos: PNG (300 DPI), PDF, SVG\")"
   ]
  },
  {
   "cell_type": "markdown",
   "id": "84361677",
   "metadata": {},
   "source": [
    "## 🎯 Ejercicios Prácticos\n",
    "\n",
    "### Ejercicio 1: Dashboard Personalizado\n",
    "Crea un dashboard con los siguientes gráficos:\n",
    "1. Histograma de distribución de edades de clientes\n",
    "2. Box plot de ventas por país\n",
    "3. Heatmap de ventas por día de la semana y hora\n",
    "4. Sunburst de categoría → producto → método de pago"
   ]
  },
  {
   "cell_type": "code",
   "execution_count": null,
   "id": "a75284fd",
   "metadata": {},
   "outputs": [],
   "source": [
    "# TU CÓDIGO AQUÍ"
   ]
  },
  {
   "cell_type": "markdown",
   "id": "29725e07",
   "metadata": {},
   "source": [
    "### Ejercicio 2: Análisis Temporal\n",
    "Crea una visualización que muestre:\n",
    "- Ventas acumuladas a lo largo del tiempo\n",
    "- Promedio móvil de 7 días\n",
    "- Identificar tendencias alcistas/bajistas"
   ]
  },
  {
   "cell_type": "code",
   "execution_count": null,
   "id": "54d57ef4",
   "metadata": {},
   "outputs": [],
   "source": [
    "# TU CÓDIGO AQUÍ"
   ]
  },
  {
   "cell_type": "markdown",
   "id": "c5525936",
   "metadata": {},
   "source": [
    "### Ejercicio 3: Visualización Interactiva\n",
    "Usa Plotly para crear un dashboard interactivo con:\n",
    "- Filtros por categoría y rango de fechas\n",
    "- Gráficos que se actualicen dinámicamente\n",
    "- Tooltips personalizados con información relevante"
   ]
  },
  {
   "cell_type": "code",
   "execution_count": null,
   "id": "bbc063e3",
   "metadata": {},
   "outputs": [],
   "source": [
    "# TU CÓDIGO AQUÍ"
   ]
  },
  {
   "cell_type": "markdown",
   "id": "4021ef3d",
   "metadata": {},
   "source": [
    "## 📚 Recursos Adicionales\n",
    "\n",
    "### Documentación\n",
    "- [Matplotlib Documentation](https://matplotlib.org/stable/contents.html)\n",
    "- [Seaborn Gallery](https://seaborn.pydata.org/examples/index.html)\n",
    "- [Plotly Python](https://plotly.com/python/)\n",
    "\n",
    "### Inspiración\n",
    "- [From Data to Viz](https://www.data-to-viz.com/)\n",
    "- [Python Graph Gallery](https://www.python-graph-gallery.com/)\n",
    "- [Storytelling with Data](http://www.storytellingwithdata.com/)\n",
    "\n",
    "### Librerías Avanzadas\n",
    "- **Altair**: Visualización declarativa\n",
    "- **Bokeh**: Gráficos interactivos para web\n",
    "- **Plotnine**: Gráficos estilo ggplot2\n",
    "- **Dash**: Frameworks para dashboards\n",
    "\n",
    "---\n",
    "\n",
    "## ✅ Resumen\n",
    "\n",
    "En este notebook aprendiste:\n",
    "\n",
    "1. ✅ **Matplotlib**: Gráficos estáticos personalizables (líneas, barras, pie, subplots)\n",
    "2. ✅ **Seaborn**: Visualizaciones estadísticas (boxplot, violin, heatmap, pairplot)\n",
    "3. ✅ **Plotly**: Gráficos interactivos para dashboards web\n",
    "4. ✅ **Mejores prácticas**: Claridad, colores, tipos de gráficos, anotaciones\n",
    "5. ✅ **Dashboards**: Combinar múltiples visualizaciones\n",
    "6. ✅ **Exportación**: Guardar gráficos en alta calidad\n",
    "\n",
    "**🎯 Próximo paso**: Control de versiones con Git\n",
    "\n",
    "---"
   ]
  }
 ],
 "metadata": {
  "language_info": {
   "name": "python"
  }
 },
 "nbformat": 4,
 "nbformat_minor": 5
}
