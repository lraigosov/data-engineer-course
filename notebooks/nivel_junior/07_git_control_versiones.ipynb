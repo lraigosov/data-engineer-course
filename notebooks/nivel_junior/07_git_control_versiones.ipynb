{
 "cells": [
  {
   "cell_type": "markdown",
   "id": "2072a4b6",
   "metadata": {},
   "source": [
    "# 🔄 Git y Control de Versiones para Ingeniería de Datos\n",
    "\n",
    "## Objetivos de Aprendizaje\n",
    "\n",
    "Al finalizar este notebook, serás capaz de:\n",
    "\n",
    "1. ✅ Entender qué es Git y por qué es esencial\n",
    "2. ✅ Configurar Git en tu sistema\n",
    "3. ✅ Crear y gestionar repositorios\n",
    "4. ✅ Usar comandos básicos (add, commit, push, pull)\n",
    "5. ✅ Trabajar con ramas (branches)\n",
    "6. ✅ Colaborar con GitHub/GitLab\n",
    "7. ✅ Aplicar mejores prácticas en proyectos de datos\n",
    "\n",
    "---"
   ]
  },
  {
   "cell_type": "markdown",
   "id": "a80d19b6",
   "metadata": {},
   "source": [
    "## 1. ¿Qué es Git y Por Qué es Importante?\n",
    "\n",
    "### 🤔 ¿Qué es Git?\n",
    "\n",
    "**Git** es un sistema de control de versiones distribuido que permite:\n",
    "\n",
    "- 📜 **Historial completo**: Rastrear todos los cambios en el código\n",
    "- 🔄 **Reversión**: Volver a versiones anteriores\n",
    "- 👥 **Colaboración**: Múltiples personas trabajando en paralelo\n",
    "- 🌿 **Branching**: Trabajar en features sin afectar el código principal\n",
    "- 🔍 **Auditoría**: Saber quién cambió qué y cuándo\n",
    "\n",
    "### 💡 ¿Por Qué es Crucial en Ingeniería de Datos?\n",
    "\n",
    "1. **Pipelines de datos** son código → necesitan versionado\n",
    "2. **Colaboración** en equipos distribuidos\n",
    "3. **Reproducibilidad** de análisis y transformaciones\n",
    "4. **Integración** con CI/CD para despliegues automáticos\n",
    "5. **Documentación** implícita a través de commits\n",
    "\n",
    "---"
   ]
  },
  {
   "cell_type": "markdown",
   "id": "abe65421",
   "metadata": {},
   "source": [
    "## 2. Conceptos Fundamentales\n",
    "\n",
    "### 📚 Terminología Esencial\n",
    "\n",
    "| Término | Definición | Ejemplo |\n",
    "|---------|------------|----------|\n",
    "| **Repository (Repo)** | Proyecto con historial de Git | `mi-proyecto-datos/` |\n",
    "| **Commit** | Snapshot del código en un momento | `\"Agregado pipeline ETL\"` |\n",
    "| **Branch** | Línea de desarrollo paralela | `feature/nuevo-pipeline` |\n",
    "| **Merge** | Unir cambios de diferentes branches | Integrar feature a main |\n",
    "| **Remote** | Versión del repo en servidor | GitHub, GitLab |\n",
    "| **Clone** | Copiar repo remoto localmente | `git clone <url>` |\n",
    "| **Pull** | Traer cambios del remoto | `git pull origin main` |\n",
    "| **Push** | Enviar cambios al remoto | `git push origin main` |\n",
    "| **Staging Area** | Área intermedia antes de commit | Archivos con `git add` |\n",
    "\n",
    "### 🔄 Flujo de Trabajo Básico\n",
    "\n",
    "```\n",
    "Working Directory → Staging Area → Local Repository → Remote Repository\n",
    "     (edit)            (add)          (commit)            (push)\n",
    "```\n",
    "\n",
    "---"
   ]
  },
  {
   "cell_type": "markdown",
   "id": "eba23c53",
   "metadata": {},
   "source": [
    "## 3. Configuración Inicial de Git"
   ]
  },
  {
   "cell_type": "code",
   "execution_count": null,
   "id": "d30b8b68",
   "metadata": {},
   "outputs": [],
   "source": [
    "# Verificar si Git está instalado\n",
    "!git --version"
   ]
  },
  {
   "cell_type": "markdown",
   "id": "6bd98de9",
   "metadata": {},
   "source": [
    "### 3.1 Configuración de Usuario"
   ]
  },
  {
   "cell_type": "code",
   "execution_count": null,
   "id": "27d934dc",
   "metadata": {},
   "outputs": [],
   "source": [
    "# Configurar nombre de usuario (CAMBIAR CON TUS DATOS)\n",
    "!git config --global user.name \"Tu Nombre\"\n",
    "\n",
    "# Configurar email (CAMBIAR CON TU EMAIL)\n",
    "!git config --global user.email \"tu.email@ejemplo.com\"\n",
    "\n",
    "# Configurar editor por defecto (opcional)\n",
    "!git config --global core.editor \"code --wait\"  # Para VS Code\n",
    "\n",
    "# Verificar configuración\n",
    "!git config --list"
   ]
  },
  {
   "cell_type": "markdown",
   "id": "bcc589c4",
   "metadata": {},
   "source": [
    "### 3.2 Configuraciones Útiles Adicionales"
   ]
  },
  {
   "cell_type": "code",
   "execution_count": null,
   "id": "c808ce4d",
   "metadata": {},
   "outputs": [],
   "source": [
    "# Colorear la salida de Git para mejor legibilidad\n",
    "!git config --global color.ui auto\n",
    "\n",
    "# Configurar el nombre de la rama principal (recomendado: main)\n",
    "!git config --global init.defaultBranch main\n",
    "\n",
    "# Configurar autocorrección de comandos\n",
    "!git config --global help.autocorrect 1\n",
    "\n",
    "# Configurar alias útiles\n",
    "!git config --global alias.st status\n",
    "!git config --global alias.co checkout\n",
    "!git config --global alias.br branch\n",
    "!git config --global alias.cm \"commit -m\"\n",
    "!git config --global alias.lg \"log --oneline --graph --all\"\n",
    "\n",
    "print(\"✅ Configuración completada\")"
   ]
  },
  {
   "cell_type": "markdown",
   "id": "2cec75cd",
   "metadata": {},
   "source": [
    "## 4. Crear y Gestionar Repositorios\n",
    "\n",
    "### 4.1 Inicializar un Repositorio Nuevo"
   ]
  },
  {
   "cell_type": "code",
   "execution_count": null,
   "id": "3ddef233",
   "metadata": {},
   "outputs": [],
   "source": [
    "import os\n",
    "\n",
    "# Crear directorio de ejemplo\n",
    "proyecto_dir = '../../ejemplos/mi_proyecto_git'\n",
    "os.makedirs(proyecto_dir, exist_ok=True)\n",
    "os.chdir(proyecto_dir)\n",
    "\n",
    "# Inicializar repositorio Git\n",
    "!git init\n",
    "\n",
    "print(f\"✅ Repositorio creado en: {os.getcwd()}\")"
   ]
  },
  {
   "cell_type": "markdown",
   "id": "b392257d",
   "metadata": {},
   "source": [
    "### 4.2 Crear Archivo .gitignore"
   ]
  },
  {
   "cell_type": "code",
   "execution_count": null,
   "id": "db50e3ea",
   "metadata": {},
   "outputs": [],
   "source": [
    "# Contenido típico de .gitignore para proyectos de datos\n",
    "gitignore_content = \"\"\"\n",
    "# Python\n",
    "__pycache__/\n",
    "*.py[cod]\n",
    "*$py.class\n",
    "*.so\n",
    ".Python\n",
    "venv/\n",
    "env/\n",
    ".env\n",
    "\n",
    "# Jupyter Notebook\n",
    ".ipynb_checkpoints\n",
    "\n",
    "# Datos sensibles\n",
    "*.csv\n",
    "*.xlsx\n",
    "*.db\n",
    "*.sqlite\n",
    "data/raw/\n",
    "data/processed/\n",
    "!data/raw/.gitkeep\n",
    "!data/processed/.gitkeep\n",
    "\n",
    "# Credenciales\n",
    "config/credentials.yaml\n",
    "config/*.key\n",
    "*.pem\n",
    ".env.local\n",
    "\n",
    "# Logs\n",
    "*.log\n",
    "logs/\n",
    "\n",
    "# IDE\n",
    ".vscode/\n",
    ".idea/\n",
    "*.swp\n",
    "*.swo\n",
    "\n",
    "# Sistema\n",
    ".DS_Store\n",
    "Thumbs.db\n",
    "\n",
    "# Outputs temporales\n",
    "outputs/\n",
    "temp/\n",
    "cache/\n",
    "\"\"\"\n",
    "\n",
    "with open('.gitignore', 'w') as f:\n",
    "    f.write(gitignore_content)\n",
    "\n",
    "print(\"✅ Archivo .gitignore creado\")\n",
    "print(\"\\n📋 Contenido:\")\n",
    "!cat .gitignore"
   ]
  },
  {
   "cell_type": "markdown",
   "id": "2c167991",
   "metadata": {},
   "source": [
    "## 5. Comandos Básicos de Git\n",
    "\n",
    "### 5.1 Verificar Estado del Repositorio"
   ]
  },
  {
   "cell_type": "code",
   "execution_count": null,
   "id": "d629e156",
   "metadata": {},
   "outputs": [],
   "source": [
    "# Ver estado actual\n",
    "!git status"
   ]
  },
  {
   "cell_type": "markdown",
   "id": "ccb0c680",
   "metadata": {},
   "source": [
    "### 5.2 Agregar Archivos al Staging Area"
   ]
  },
  {
   "cell_type": "code",
   "execution_count": null,
   "id": "a90daaa3",
   "metadata": {},
   "outputs": [],
   "source": [
    "# Crear un script de ejemplo\n",
    "script_content = \"\"\"\n",
    "# Pipeline de datos simple\n",
    "import pandas as pd\n",
    "\n",
    "def extraer_datos(fuente):\n",
    "    \"\"\"Extrae datos de una fuente.\"\"\"\n",
    "    print(f\"Extrayendo datos de {fuente}\")\n",
    "    return pd.DataFrame({'id': [1, 2, 3], 'valor': [10, 20, 30]})\n",
    "\n",
    "def transformar_datos(df):\n",
    "    \"\"\"Aplica transformaciones.\"\"\"\n",
    "    df['valor_doble'] = df['valor'] * 2\n",
    "    return df\n",
    "\n",
    "def cargar_datos(df, destino):\n",
    "    \"\"\"Carga datos transformados.\"\"\"\n",
    "    print(f\"Cargando datos a {destino}\")\n",
    "    df.to_csv(destino, index=False)\n",
    "\n",
    "if __name__ == \"__main__\":\n",
    "    datos = extraer_datos('api')\n",
    "    datos_transformados = transformar_datos(datos)\n",
    "    cargar_datos(datos_transformados, 'output.csv')\n",
    "\"\"\"\n",
    "\n",
    "with open('pipeline_etl.py', 'w') as f:\n",
    "    f.write(script_content)\n",
    "\n",
    "# Agregar archivo específico\n",
    "!git add pipeline_etl.py\n",
    "\n",
    "# Ver estado\n",
    "!git status"
   ]
  },
  {
   "cell_type": "code",
   "execution_count": null,
   "id": "17718909",
   "metadata": {},
   "outputs": [],
   "source": [
    "# Agregar TODOS los archivos\n",
    "!git add .\n",
    "\n",
    "# Ver estado nuevamente\n",
    "!git status"
   ]
  },
  {
   "cell_type": "markdown",
   "id": "9fae38f4",
   "metadata": {},
   "source": [
    "### 5.3 Hacer Commits"
   ]
  },
  {
   "cell_type": "code",
   "execution_count": null,
   "id": "e0b6cd1e",
   "metadata": {},
   "outputs": [],
   "source": [
    "# Primer commit\n",
    "!git commit -m \"Initial commit: Pipeline ETL básico y .gitignore\"\n",
    "\n",
    "# Ver historial\n",
    "!git log --oneline"
   ]
  },
  {
   "cell_type": "markdown",
   "id": "2ae4bc88",
   "metadata": {},
   "source": [
    "### 5.4 Convenciones para Mensajes de Commit\n",
    "\n",
    "**✅ Buenas Prácticas:**\n",
    "\n",
    "```bash\n",
    "# Formato recomendado:\n",
    "tipo(scope): descripción breve\n",
    "\n",
    "# Ejemplos:\n",
    "feat(pipeline): Agregar pipeline de ingesta de datos desde S3\n",
    "fix(etl): Corregir manejo de valores nulos en transformación\n",
    "docs(readme): Actualizar documentación de instalación\n",
    "refactor(utils): Mejorar función de limpieza de datos\n",
    "test(pipeline): Agregar tests unitarios para ETL\n",
    "chore(deps): Actualizar dependencias de pandas y numpy\n",
    "```\n",
    "\n",
    "**Tipos comunes:**\n",
    "- `feat`: Nueva funcionalidad\n",
    "- `fix`: Corrección de bug\n",
    "- `docs`: Documentación\n",
    "- `refactor`: Refactorización sin cambio de funcionalidad\n",
    "- `test`: Tests\n",
    "- `chore`: Tareas de mantenimiento\n",
    "- `perf`: Mejoras de performance\n",
    "\n",
    "---"
   ]
  },
  {
   "cell_type": "markdown",
   "id": "4c2d4d1c",
   "metadata": {},
   "source": [
    "## 6. Trabajar con Ramas (Branches)\n",
    "\n",
    "### 6.1 ¿Por Qué Usar Ramas?\n",
    "\n",
    "Las ramas permiten:\n",
    "- 🌿 Desarrollar features sin afectar el código principal\n",
    "- 🔧 Experimentar con cambios de manera segura\n",
    "- 👥 Colaborar en paralelo sin conflictos\n",
    "- 🚀 Implementar flujos de trabajo como GitFlow\n",
    "\n",
    "### 6.2 Comandos de Branches"
   ]
  },
  {
   "cell_type": "code",
   "execution_count": null,
   "id": "b8b9d8f8",
   "metadata": {},
   "outputs": [],
   "source": [
    "# Ver ramas existentes\n",
    "!git branch\n",
    "\n",
    "# Crear nueva rama\n",
    "!git branch feature/validacion-datos\n",
    "\n",
    "# Ver ramas nuevamente\n",
    "!git branch"
   ]
  },
  {
   "cell_type": "code",
   "execution_count": null,
   "id": "8643e393",
   "metadata": {},
   "outputs": [],
   "source": [
    "# Cambiar a la nueva rama\n",
    "!git checkout feature/validacion-datos\n",
    "\n",
    "# Alternativa: crear y cambiar en un solo comando\n",
    "# !git checkout -b feature/validacion-datos\n",
    "\n",
    "# Ver rama actual\n",
    "!git branch"
   ]
  },
  {
   "cell_type": "markdown",
   "id": "606de21a",
   "metadata": {},
   "source": [
    "### 6.3 Desarrollar en la Rama"
   ]
  },
  {
   "cell_type": "code",
   "execution_count": null,
   "id": "b55d1047",
   "metadata": {},
   "outputs": [],
   "source": [
    "# Crear módulo de validación\n",
    "validacion_content = \"\"\"\n",
    "# Módulo de validación de datos\n",
    "import pandas as pd\n",
    "from typing import List, Dict\n",
    "\n",
    "def validar_nulos(df: pd.DataFrame, columnas: List[str]) -> Dict[str, int]:\n",
    "    \"\"\"Valida valores nulos en columnas específicas.\"\"\"\n",
    "    nulos = {col: df[col].isnull().sum() for col in columnas}\n",
    "    return nulos\n",
    "\n",
    "def validar_tipos(df: pd.DataFrame, tipos_esperados: Dict[str, str]) -> bool:\n",
    "    \"\"\"Valida que las columnas tengan los tipos esperados.\"\"\"\n",
    "    for col, tipo in tipos_esperados.items():\n",
    "        if df[col].dtype != tipo:\n",
    "            print(f\"❌ Error: {col} debería ser {tipo}, es {df[col].dtype}\")\n",
    "            return False\n",
    "    return True\n",
    "\n",
    "def validar_rangos(df: pd.DataFrame, columna: str, min_val: float, max_val: float) -> bool:\n",
    "    \"\"\"Valida que los valores estén en un rango válido.\"\"\"\n",
    "    fuera_rango = df[(df[columna] < min_val) | (df[columna] > max_val)]\n",
    "    if len(fuera_rango) > 0:\n",
    "        print(f\"❌ {len(fuera_rango)} valores fuera de rango [{min_val}, {max_val}]\")\n",
    "        return False\n",
    "    return True\n",
    "\n",
    "def reporte_calidad(df: pd.DataFrame) -> None:\n",
    "    \"\"\"Genera reporte de calidad de datos.\"\"\"\n",
    "    print(\"\\n📊 REPORTE DE CALIDAD DE DATOS\")\n",
    "    print(\"=\" * 50)\n",
    "    print(f\"Total de registros: {len(df)}\")\n",
    "    print(f\"Total de columnas: {len(df.columns)}\")\n",
    "    print(f\"\\nNulos por columna:\")\n",
    "    for col in df.columns:\n",
    "        nulos = df[col].isnull().sum()\n",
    "        porcentaje = (nulos / len(df)) * 100\n",
    "        print(f\"  {col}: {nulos} ({porcentaje:.2f}%)\")\n",
    "    print(\"=\" * 50)\n",
    "\"\"\"\n",
    "\n",
    "with open('validacion_datos.py', 'w') as f:\n",
    "    f.write(validacion_content)\n",
    "\n",
    "# Agregar y commitear\n",
    "!git add validacion_datos.py\n",
    "!git commit -m \"feat(validacion): Agregar módulo de validación de calidad de datos\"\n",
    "\n",
    "# Ver log\n",
    "!git log --oneline --graph --all"
   ]
  },
  {
   "cell_type": "markdown",
   "id": "177c1eb1",
   "metadata": {},
   "source": [
    "### 6.4 Merge: Integrar Cambios"
   ]
  },
  {
   "cell_type": "code",
   "execution_count": null,
   "id": "c3cf8880",
   "metadata": {},
   "outputs": [],
   "source": [
    "# Volver a rama principal\n",
    "!git checkout main\n",
    "\n",
    "# Hacer merge de la feature\n",
    "!git merge feature/validacion-datos -m \"Merge: Integrar módulo de validación\"\n",
    "\n",
    "# Ver historial\n",
    "!git log --oneline --graph --all"
   ]
  },
  {
   "cell_type": "markdown",
   "id": "99fe0eed",
   "metadata": {},
   "source": [
    "### 6.5 Eliminar Rama Después de Merge"
   ]
  },
  {
   "cell_type": "code",
   "execution_count": null,
   "id": "0e99b21f",
   "metadata": {},
   "outputs": [],
   "source": [
    "# Eliminar rama local (ya integrada)\n",
    "!git branch -d feature/validacion-datos\n",
    "\n",
    "# Ver ramas restantes\n",
    "!git branch"
   ]
  },
  {
   "cell_type": "markdown",
   "id": "9f42e7f0",
   "metadata": {},
   "source": [
    "## 7. Trabajar con Repositorios Remotos\n",
    "\n",
    "### 7.1 Conectar con GitHub/GitLab"
   ]
  },
  {
   "cell_type": "code",
   "execution_count": null,
   "id": "912849f1",
   "metadata": {},
   "outputs": [],
   "source": [
    "# Agregar remote (CAMBIAR URL POR TU REPOSITORIO)\n",
    "# !git remote add origin https://github.com/tu-usuario/tu-repo.git\n",
    "\n",
    "# Ver remotes configurados\n",
    "!git remote -v\n",
    "\n",
    "print(\"\\n⚠️ Recuerda crear el repositorio en GitHub/GitLab primero\")"
   ]
  },
  {
   "cell_type": "markdown",
   "id": "32d79c58",
   "metadata": {},
   "source": [
    "### 7.2 Push: Subir Cambios"
   ]
  },
  {
   "cell_type": "code",
   "execution_count": null,
   "id": "a0467097",
   "metadata": {},
   "outputs": [],
   "source": [
    "# Primera vez: establecer upstream\n",
    "# !git push -u origin main\n",
    "\n",
    "# Posteriores push\n",
    "# !git push\n",
    "\n",
    "print(\"💡 Comando: git push -u origin main (primera vez)\")\n",
    "print(\"💡 Comando: git push (posteriores)\")"
   ]
  },
  {
   "cell_type": "markdown",
   "id": "81927dbb",
   "metadata": {},
   "source": [
    "### 7.3 Pull: Traer Cambios"
   ]
  },
  {
   "cell_type": "code",
   "execution_count": null,
   "id": "099973e7",
   "metadata": {},
   "outputs": [],
   "source": [
    "# Traer cambios del remoto\n",
    "# !git pull origin main\n",
    "\n",
    "print(\"💡 Comando: git pull origin main\")\n",
    "print(\"⚠️ Siempre haz pull antes de empezar a trabajar\")"
   ]
  },
  {
   "cell_type": "markdown",
   "id": "e38b2b05",
   "metadata": {},
   "source": [
    "### 7.4 Clone: Clonar Repositorio Existente"
   ]
  },
  {
   "cell_type": "code",
   "execution_count": null,
   "id": "3d15cde0",
   "metadata": {},
   "outputs": [],
   "source": [
    "# Clonar un repositorio\n",
    "# !git clone https://github.com/usuario/repositorio.git\n",
    "\n",
    "print(\"\"\"\n",
    "💡 Flujo típico al unirse a un proyecto:\n",
    "\n",
    "1. git clone https://github.com/empresa/proyecto-datos.git\n",
    "2. cd proyecto-datos\n",
    "3. git checkout -b feature/mi-cambio\n",
    "4. [hacer cambios]\n",
    "5. git add .\n",
    "6. git commit -m \"feat: Mi contribución\"\n",
    "7. git push origin feature/mi-cambio\n",
    "8. [Crear Pull Request en GitHub]\n",
    "\"\"\")"
   ]
  },
  {
   "cell_type": "markdown",
   "id": "d354f081",
   "metadata": {},
   "source": [
    "## 8. Flujo de Trabajo GitFlow\n",
    "\n",
    "### 🌊 GitFlow: Estrategia de Branching\n",
    "\n",
    "```\n",
    "main (producción)\n",
    "  |\n",
    "  ├── develop (desarrollo)\n",
    "  │     |\n",
    "  │     ├── feature/nueva-ingesta\n",
    "  │     ├── feature/transformacion-avanzada\n",
    "  │     └── feature/validacion-calidad\n",
    "  │\n",
    "  └── hotfix/correccion-critica\n",
    "```\n",
    "\n",
    "### Ramas Principales:\n",
    "\n",
    "- **main**: Código en producción\n",
    "- **develop**: Integración de features\n",
    "\n",
    "### Ramas de Soporte:\n",
    "\n",
    "- **feature/***: Nuevas funcionalidades\n",
    "- **hotfix/***: Correcciones urgentes\n",
    "- **release/***: Preparación de releases\n",
    "\n",
    "---"
   ]
  },
  {
   "cell_type": "markdown",
   "id": "825d1a9f",
   "metadata": {},
   "source": [
    "## 9. Comandos Útiles Avanzados\n",
    "\n",
    "### 9.1 Ver Diferencias"
   ]
  },
  {
   "cell_type": "code",
   "execution_count": null,
   "id": "ecb2384b",
   "metadata": {},
   "outputs": [],
   "source": [
    "# Ver cambios no staged\n",
    "!git diff\n",
    "\n",
    "# Ver cambios staged\n",
    "!git diff --staged\n",
    "\n",
    "# Ver diferencias entre branches\n",
    "# !git diff main..develop"
   ]
  },
  {
   "cell_type": "markdown",
   "id": "b5d7f7da",
   "metadata": {},
   "source": [
    "### 9.2 Deshacer Cambios"
   ]
  },
  {
   "cell_type": "code",
   "execution_count": null,
   "id": "4830dfd0",
   "metadata": {},
   "outputs": [],
   "source": [
    "print(\"\"\"\n",
    "🔄 COMANDOS PARA DESHACER CAMBIOS:\n",
    "\n",
    "1. Descartar cambios en working directory:\n",
    "   git checkout -- archivo.py\n",
    "\n",
    "2. Quitar archivo del staging area:\n",
    "   git reset HEAD archivo.py\n",
    "\n",
    "3. Modificar último commit (mensaje o archivos):\n",
    "   git commit --amend -m \"Nuevo mensaje\"\n",
    "\n",
    "4. Volver a un commit anterior (destructivo):\n",
    "   git reset --hard abc123\n",
    "\n",
    "5. Revertir un commit específico (seguro):\n",
    "   git revert abc123\n",
    "\n",
    "⚠️ CUIDADO: reset --hard elimina cambios permanentemente\n",
    "\"\"\")"
   ]
  },
  {
   "cell_type": "markdown",
   "id": "622b2d6f",
   "metadata": {},
   "source": [
    "### 9.3 Stash: Guardar Cambios Temporalmente"
   ]
  },
  {
   "cell_type": "code",
   "execution_count": null,
   "id": "19b595ec",
   "metadata": {},
   "outputs": [],
   "source": [
    "print(\"\"\"\n",
    "💾 GIT STASH - Guardar trabajo temporal:\n",
    "\n",
    "# Guardar cambios actuales\n",
    "git stash\n",
    "\n",
    "# Guardar con mensaje\n",
    "git stash save \"WIP: trabajando en pipeline\"\n",
    "\n",
    "# Ver lista de stashes\n",
    "git stash list\n",
    "\n",
    "# Aplicar último stash\n",
    "git stash apply\n",
    "\n",
    "# Aplicar y eliminar\n",
    "git stash pop\n",
    "\n",
    "# Aplicar stash específico\n",
    "git stash apply stash@{1}\n",
    "\n",
    "💡 Útil cuando necesitas cambiar de rama pero no quieres commitear\n",
    "\"\"\")"
   ]
  },
  {
   "cell_type": "markdown",
   "id": "814d57e2",
   "metadata": {},
   "source": [
    "### 9.4 Log Avanzado"
   ]
  },
  {
   "cell_type": "code",
   "execution_count": null,
   "id": "c965d63d",
   "metadata": {},
   "outputs": [],
   "source": [
    "# Log con gráfico\n",
    "!git log --oneline --graph --all --decorate\n",
    "\n",
    "# Log con estadísticas\n",
    "# !git log --stat\n",
    "\n",
    "# Buscar commits por autor\n",
    "# !git log --author=\"Tu Nombre\"\n",
    "\n",
    "# Buscar commits por mensaje\n",
    "# !git log --grep=\"pipeline\""
   ]
  },
  {
   "cell_type": "markdown",
   "id": "628204db",
   "metadata": {},
   "source": [
    "## 10. Resolución de Conflictos\n",
    "\n",
    "### ⚔️ ¿Cuándo Ocurren Conflictos?\n",
    "\n",
    "Cuando dos ramas modifican las mismas líneas de un archivo:\n",
    "\n",
    "```\n",
    "<<<<<<< HEAD\n",
    "def extraer_datos(fuente):\n",
    "    # Tu versión\n",
    "    return pd.read_csv(fuente)\n",
    "=======\n",
    "def extraer_datos(fuente):\n",
    "    # Versión del otro branch\n",
    "    return pd.read_parquet(fuente)\n",
    ">>>>>>> feature/nuevo-formato\n",
    "```\n",
    "\n",
    "### 📝 Pasos para Resolver:\n",
    "\n",
    "1. **Identificar** archivos con conflictos: `git status`\n",
    "2. **Abrir** archivo y buscar marcadores `<<<<<<<`, `=======`, `>>>>>>>`\n",
    "3. **Decidir** qué código mantener (o combinar ambos)\n",
    "4. **Eliminar** marcadores de conflicto\n",
    "5. **Agregar** archivo resuelto: `git add archivo.py`\n",
    "6. **Completar** merge: `git commit`\n",
    "\n",
    "---"
   ]
  },
  {
   "cell_type": "markdown",
   "id": "03afe61d",
   "metadata": {},
   "source": [
    "## 11. Mejores Prácticas para Proyectos de Datos\n",
    "\n",
    "### ✅ DO's (Hacer)"
   ]
  },
  {
   "cell_type": "code",
   "execution_count": null,
   "id": "b383dad6",
   "metadata": {},
   "outputs": [],
   "source": [
    "print(\"\"\"\n",
    "✅ MEJORES PRÁCTICAS:\n",
    "\n",
    "1. 📝 COMMITS ATÓMICOS\n",
    "   • Un cambio lógico por commit\n",
    "   • Mensajes descriptivos y concisos\n",
    "   • Usar convenciones (feat, fix, docs, etc.)\n",
    "\n",
    "2. 🔒 .GITIGNORE COMPLETO\n",
    "   • Excluir datos grandes (*.csv, *.parquet)\n",
    "   • Excluir credenciales y secrets\n",
    "   • Excluir archivos generados (cache, logs)\n",
    "   • Mantener .gitkeep para directorios vacíos\n",
    "\n",
    "3. 🌿 BRANCHING ESTRATÉGICO\n",
    "   • Usar ramas para cada feature\n",
    "   • Nombres descriptivos: feature/ingesta-s3\n",
    "   • Merge frecuente para evitar divergencias\n",
    "   • Eliminar ramas después de merge\n",
    "\n",
    "4. 📚 DOCUMENTACIÓN\n",
    "   • README.md actualizado\n",
    "   • Documentar estructura del proyecto\n",
    "   • Incluir instrucciones de setup\n",
    "   • Mantener CHANGELOG.md\n",
    "\n",
    "5. 🔄 PULL ANTES DE PUSH\n",
    "   • Siempre git pull antes de empezar\n",
    "   • Resolver conflictos localmente\n",
    "   • Testear antes de push\n",
    "\n",
    "6. 🏷️ TAGS PARA VERSIONES\n",
    "   • Etiquetar releases: git tag v1.0.0\n",
    "   • Usar versionado semántico\n",
    "   • Documentar cambios en cada versión\n",
    "\n",
    "7. 🧪 CI/CD INTEGRADO\n",
    "   • GitHub Actions para tests automáticos\n",
    "   • Validar código antes de merge\n",
    "   • Despliegues automáticos\n",
    "\"\"\")"
   ]
  },
  {
   "cell_type": "markdown",
   "id": "8baf6b22",
   "metadata": {},
   "source": [
    "### ❌ DON'Ts (Evitar)"
   ]
  },
  {
   "cell_type": "code",
   "execution_count": null,
   "id": "8ca71988",
   "metadata": {},
   "outputs": [],
   "source": [
    "print(\"\"\"\n",
    "❌ ERRORES COMUNES A EVITAR:\n",
    "\n",
    "1. 🚫 NUNCA commitear:\n",
    "   • Credenciales (passwords, API keys)\n",
    "   • Datos sensibles o personales\n",
    "   • Archivos grandes (>100MB)\n",
    "   • Archivos binarios compilados\n",
    "\n",
    "2. 🚫 EVITAR:\n",
    "   • Commits con mensaje \"fix\" o \"update\"\n",
    "   • Trabajar directamente en main\n",
    "   • Forzar push (git push --force) sin motivo\n",
    "   • Merge sin revisar cambios\n",
    "   • Ignorar conflictos\n",
    "\n",
    "3. 🚫 NO:\n",
    "   • Hacer commits gigantes con muchos cambios\n",
    "   • Dejar ramas sin mergear indefinidamente\n",
    "   • Commitear código que no funciona\n",
    "   • Olvidar hacer pull antes de trabajar\n",
    "\n",
    "4. 🚫 RIESGOS:\n",
    "   • git reset --hard en rama compartida\n",
    "   • Reescribir historial público (rebase)\n",
    "   • Eliminar .git sin backup\n",
    "   • Commitear sin revisar con git diff\n",
    "\"\"\")"
   ]
  },
  {
   "cell_type": "markdown",
   "id": "e638f15c",
   "metadata": {},
   "source": [
    "## 12. Estructura de Proyecto Recomendada\n",
    "\n",
    "### 📂 Template para Proyectos de Datos"
   ]
  },
  {
   "cell_type": "code",
   "execution_count": null,
   "id": "35722270",
   "metadata": {},
   "outputs": [],
   "source": [
    "# Crear estructura de proyecto\n",
    "import os\n",
    "\n",
    "estructura = [\n",
    "    'data/raw/.gitkeep',\n",
    "    'data/processed/.gitkeep',\n",
    "    'data/external/.gitkeep',\n",
    "    'notebooks/',\n",
    "    'src/pipelines/',\n",
    "    'src/utils/',\n",
    "    'tests/',\n",
    "    'config/',\n",
    "    'docs/',\n",
    "    'logs/.gitkeep',\n",
    "    'outputs/.gitkeep'\n",
    "]\n",
    "\n",
    "proyecto_template = '../../ejemplos/proyecto_template'\n",
    "os.makedirs(proyecto_template, exist_ok=True)\n",
    "\n",
    "for item in estructura:\n",
    "    path = os.path.join(proyecto_template, item)\n",
    "    if item.endswith('/'):\n",
    "        os.makedirs(path, exist_ok=True)\n",
    "    else:\n",
    "        os.makedirs(os.path.dirname(path), exist_ok=True)\n",
    "        open(path, 'a').close()\n",
    "\n",
    "# Crear README\n",
    "readme_content = \"\"\"\n",
    "# Proyecto de Ingeniería de Datos\n",
    "\n",
    "## Estructura del Proyecto\n",
    "\n",
    "```\n",
    ".\n",
    "├── data/\n",
    "│   ├── raw/          # Datos crudos sin modificar\n",
    "│   ├── processed/    # Datos procesados\n",
    "│   └── external/     # Datos externos\n",
    "├── notebooks/        # Jupyter notebooks para análisis\n",
    "├── src/\n",
    "│   ├── pipelines/    # Scripts de pipelines ETL\n",
    "│   └── utils/        # Utilidades y funciones auxiliares\n",
    "├── tests/            # Tests unitarios e integración\n",
    "├── config/           # Archivos de configuración\n",
    "├── docs/             # Documentación\n",
    "├── logs/             # Archivos de log\n",
    "├── outputs/          # Resultados y reportes\n",
    "├── .gitignore\n",
    "├── requirements.txt\n",
    "└── README.md\n",
    "```\n",
    "\n",
    "## Instalación\n",
    "\n",
    "```bash\n",
    "# Clonar repositorio\n",
    "git clone <url>\n",
    "cd proyecto\n",
    "\n",
    "# Crear entorno virtual\n",
    "python -m venv venv\n",
    "source venv/bin/activate  # Windows: venv\\Scripts\\activate\n",
    "\n",
    "# Instalar dependencias\n",
    "pip install -r requirements.txt\n",
    "```\n",
    "\n",
    "## Uso\n",
    "\n",
    "```bash\n",
    "# Ejecutar pipeline principal\n",
    "python src/pipelines/main_pipeline.py\n",
    "```\n",
    "\n",
    "## Contribuir\n",
    "\n",
    "1. Crear rama: `git checkout -b feature/nueva-funcionalidad`\n",
    "2. Hacer cambios y commit: `git commit -m \"feat: descripción\"`\n",
    "3. Push: `git push origin feature/nueva-funcionalidad`\n",
    "4. Crear Pull Request\n",
    "\"\"\"\n",
    "\n",
    "with open(os.path.join(proyecto_template, 'README.md'), 'w') as f:\n",
    "    f.write(readme_content)\n",
    "\n",
    "print(f\"✅ Estructura de proyecto creada en: {proyecto_template}\")"
   ]
  },
  {
   "cell_type": "markdown",
   "id": "fd16fdab",
   "metadata": {},
   "source": [
    "## 13. Integración con GitHub\n",
    "\n",
    "### 🐙 Características de GitHub\n",
    "\n",
    "1. **Pull Requests (PR)**\n",
    "   - Revisar código antes de merge\n",
    "   - Discutir cambios en equipo\n",
    "   - CI/CD automático\n",
    "\n",
    "2. **Issues**\n",
    "   - Tracking de bugs y features\n",
    "   - Organización con labels\n",
    "   - Vinculación con commits\n",
    "\n",
    "3. **GitHub Actions**\n",
    "   - Tests automáticos\n",
    "   - Despliegues\n",
    "   - Validaciones de código\n",
    "\n",
    "4. **Wiki y Documentación**\n",
    "   - Documentación colaborativa\n",
    "   - Versionado automático\n",
    "\n",
    "---"
   ]
  },
  {
   "cell_type": "markdown",
   "id": "fdc216c9",
   "metadata": {},
   "source": [
    "## 🎯 Ejercicios Prácticos\n",
    "\n",
    "### Ejercicio 1: Crear Repositorio Completo\n",
    "1. Crea un nuevo repositorio para un proyecto de datos\n",
    "2. Agrega .gitignore apropiado\n",
    "3. Crea estructura de directorios\n",
    "4. Implementa un pipeline simple\n",
    "5. Haz al menos 3 commits significativos"
   ]
  },
  {
   "cell_type": "code",
   "execution_count": null,
   "id": "71090050",
   "metadata": {},
   "outputs": [],
   "source": [
    "# TU CÓDIGO AQUÍ"
   ]
  },
  {
   "cell_type": "markdown",
   "id": "da86fd7f",
   "metadata": {},
   "source": [
    "### Ejercicio 2: Trabajo con Branches\n",
    "1. Crea una rama para una nueva feature\n",
    "2. Implementa la feature (ej: módulo de logging)\n",
    "3. Haz commits incrementales\n",
    "4. Merge a main\n",
    "5. Elimina la rama"
   ]
  },
  {
   "cell_type": "code",
   "execution_count": null,
   "id": "f0e0f07b",
   "metadata": {},
   "outputs": [],
   "source": [
    "# TU CÓDIGO AQUÍ"
   ]
  },
  {
   "cell_type": "markdown",
   "id": "c4726714",
   "metadata": {},
   "source": [
    "### Ejercicio 3: Simulación de Conflicto\n",
    "1. Crea dos ramas diferentes\n",
    "2. Modifica el mismo archivo en ambas\n",
    "3. Intenta merge\n",
    "4. Resuelve el conflicto manualmente\n",
    "5. Completa el merge"
   ]
  },
  {
   "cell_type": "code",
   "execution_count": null,
   "id": "0b19826c",
   "metadata": {},
   "outputs": [],
   "source": [
    "# TU CÓDIGO AQUÍ"
   ]
  },
  {
   "cell_type": "markdown",
   "id": "c3c09aab",
   "metadata": {},
   "source": [
    "## 📚 Recursos Adicionales\n",
    "\n",
    "### Documentación Oficial\n",
    "- [Pro Git Book](https://git-scm.com/book/es/v2) - Libro completo gratis\n",
    "- [GitHub Docs](https://docs.github.com/es)\n",
    "- [GitLab Docs](https://docs.gitlab.com/)\n",
    "\n",
    "### Tutoriales Interactivos\n",
    "- [Learn Git Branching](https://learngitbranching.js.org/) - Tutorial visual\n",
    "- [Git Immersion](https://gitimmersion.com/) - Práctica guiada\n",
    "- [Oh My Git!](https://ohmygit.org/) - Juego educativo\n",
    "\n",
    "### Cheat Sheets\n",
    "- [Git Cheat Sheet](https://education.github.com/git-cheat-sheet-education.pdf)\n",
    "- [Visual Git Cheat Sheet](https://ndpsoftware.com/git-cheatsheet.html)\n",
    "\n",
    "### Herramientas GUI\n",
    "- **GitKraken**: Cliente visual completo\n",
    "- **SourceTree**: GUI gratuito\n",
    "- **GitHub Desktop**: Integración con GitHub\n",
    "- **VS Code**: Integración nativa de Git\n",
    "\n",
    "---\n",
    "\n",
    "## ✅ Resumen\n",
    "\n",
    "En este notebook aprendiste:\n",
    "\n",
    "1. ✅ **Fundamentos de Git**: Repositorios, commits, branches\n",
    "2. ✅ **Comandos esenciales**: init, add, commit, push, pull, merge\n",
    "3. ✅ **Branching**: Crear, mergear y eliminar ramas\n",
    "4. ✅ **Colaboración**: Trabajo con remotes, GitHub/GitLab\n",
    "5. ✅ **Mejores prácticas**: .gitignore, mensajes de commit, flujo GitFlow\n",
    "6. ✅ **Resolución de conflictos**: Identificar y resolver merges problemáticos\n",
    "7. ✅ **Estructura de proyecto**: Templates para proyectos de datos\n",
    "\n",
    "**🎯 Próximo paso**: APIs y Web Scraping\n",
    "\n",
    "---"
   ]
  }
 ],
 "metadata": {
  "language_info": {
   "name": "python"
  }
 },
 "nbformat": 4,
 "nbformat_minor": 5
}
