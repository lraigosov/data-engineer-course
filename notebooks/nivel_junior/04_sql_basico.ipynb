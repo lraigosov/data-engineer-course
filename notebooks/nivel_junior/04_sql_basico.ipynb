{
 "cells": [
  {
   "cell_type": "markdown",
   "id": "1f675f92",
   "metadata": {},
   "source": [
    "# SQL Básico para Ingeniería de Datos\n",
    "\n",
    "## Objetivos de Aprendizaje\n",
    "- Comprender los conceptos fundamentales de bases de datos relacionales\n",
    "- Dominar las consultas SQL básicas (SELECT, WHERE, JOIN, GROUP BY)\n",
    "- Trabajar con SQLite desde Python\n",
    "- Realizar operaciones CRUD (Create, Read, Update, Delete)\n",
    "- Integrar SQL con Pandas para análisis de datos\n",
    "\n",
    "## Requisitos\n",
    "- Python 3.8+\n",
    "- sqlite3 (incluido en Python)\n",
    "- pandas\n",
    "- sqlalchemy"
   ]
  },
  {
   "cell_type": "code",
   "execution_count": null,
   "id": "b718b391",
   "metadata": {},
   "outputs": [],
   "source": [
    "# Instalación de dependencias\n",
    "import sys\n",
    "!{sys.executable} -m pip install pandas sqlalchemy -q"
   ]
  },
  {
   "cell_type": "code",
   "execution_count": null,
   "id": "99a50697",
   "metadata": {},
   "outputs": [],
   "source": [
    "import sqlite3\n",
    "import pandas as pd\n",
    "from sqlalchemy import create_engine\n",
    "from datetime import datetime, timedelta\n",
    "import os\n",
    "\n",
    "print(\"SQLite version:\", sqlite3.sqlite_version)\n",
    "print(\"Pandas version:\", pd.__version__)"
   ]
  },
  {
   "cell_type": "markdown",
   "id": "982efbc5",
   "metadata": {},
   "source": [
    "## 1. Conexión a Base de Datos SQLite"
   ]
  },
  {
   "cell_type": "code",
   "execution_count": null,
   "id": "7175747b",
   "metadata": {},
   "outputs": [],
   "source": [
    "# Crear conexión a base de datos SQLite (se crea si no existe)\n",
    "db_path = '../../datasets/raw/tienda.db'\n",
    "os.makedirs(os.path.dirname(db_path), exist_ok=True)\n",
    "\n",
    "conn = sqlite3.connect(db_path)\n",
    "cursor = conn.cursor()\n",
    "\n",
    "print(f\"Conexión establecida a: {db_path}\")"
   ]
  },
  {
   "cell_type": "markdown",
   "id": "f65783ad",
   "metadata": {},
   "source": [
    "## 2. Creación de Tablas"
   ]
  },
  {
   "cell_type": "code",
   "execution_count": null,
   "id": "c2ec0244",
   "metadata": {},
   "outputs": [],
   "source": [
    "# Crear tabla de clientes\n",
    "cursor.execute('''\n",
    "CREATE TABLE IF NOT EXISTS clientes (\n",
    "    cliente_id INTEGER PRIMARY KEY AUTOINCREMENT,\n",
    "    nombre TEXT NOT NULL,\n",
    "    email TEXT UNIQUE NOT NULL,\n",
    "    ciudad TEXT,\n",
    "    fecha_registro DATE,\n",
    "    activo INTEGER DEFAULT 1\n",
    ")\n",
    "''')\n",
    "\n",
    "print(\"Tabla 'clientes' creada\")"
   ]
  },
  {
   "cell_type": "code",
   "execution_count": null,
   "id": "6df8fac0",
   "metadata": {},
   "outputs": [],
   "source": [
    "# Crear tabla de productos\n",
    "cursor.execute('''\n",
    "CREATE TABLE IF NOT EXISTS productos (\n",
    "    producto_id INTEGER PRIMARY KEY AUTOINCREMENT,\n",
    "    nombre TEXT NOT NULL,\n",
    "    categoria TEXT,\n",
    "    precio REAL NOT NULL,\n",
    "    stock INTEGER DEFAULT 0,\n",
    "    fecha_creacion TIMESTAMP DEFAULT CURRENT_TIMESTAMP\n",
    ")\n",
    "''')\n",
    "\n",
    "print(\"Tabla 'productos' creada\")"
   ]
  },
  {
   "cell_type": "code",
   "execution_count": null,
   "id": "9f038633",
   "metadata": {},
   "outputs": [],
   "source": [
    "# Crear tabla de ventas\n",
    "cursor.execute('''\n",
    "CREATE TABLE IF NOT EXISTS ventas (\n",
    "    venta_id INTEGER PRIMARY KEY AUTOINCREMENT,\n",
    "    cliente_id INTEGER,\n",
    "    producto_id INTEGER,\n",
    "    cantidad INTEGER NOT NULL,\n",
    "    fecha_venta DATE,\n",
    "    total REAL,\n",
    "    FOREIGN KEY (cliente_id) REFERENCES clientes(cliente_id),\n",
    "    FOREIGN KEY (producto_id) REFERENCES productos(producto_id)\n",
    ")\n",
    "''')\n",
    "\n",
    "conn.commit()\n",
    "print(\"Tabla 'ventas' creada\")"
   ]
  },
  {
   "cell_type": "markdown",
   "id": "490351d2",
   "metadata": {},
   "source": [
    "## 3. Inserción de Datos (INSERT)"
   ]
  },
  {
   "cell_type": "code",
   "execution_count": null,
   "id": "0eeec2bf",
   "metadata": {},
   "outputs": [],
   "source": [
    "# Insertar clientes\n",
    "clientes_data = [\n",
    "    ('Juan Pérez', 'juan@email.com', 'Madrid', '2024-01-15'),\n",
    "    ('María García', 'maria@email.com', 'Barcelona', '2024-02-20'),\n",
    "    ('Pedro Martínez', 'pedro@email.com', 'Valencia', '2024-03-10'),\n",
    "    ('Ana López', 'ana@email.com', 'Madrid', '2024-04-05'),\n",
    "    ('Luis Rodríguez', 'luis@email.com', 'Sevilla', '2024-05-12')\n",
    "]\n",
    "\n",
    "cursor.executemany('''\n",
    "INSERT OR IGNORE INTO clientes (nombre, email, ciudad, fecha_registro)\n",
    "VALUES (?, ?, ?, ?)\n",
    "''', clientes_data)\n",
    "\n",
    "conn.commit()\n",
    "print(f\"Insertados {cursor.rowcount} clientes\")"
   ]
  },
  {
   "cell_type": "code",
   "execution_count": null,
   "id": "295ccd3c",
   "metadata": {},
   "outputs": [],
   "source": [
    "# Insertar productos\n",
    "productos_data = [\n",
    "    ('Laptop Dell XPS', 'Electrónica', 1200.00, 15),\n",
    "    ('Mouse Logitech', 'Accesorios', 25.00, 50),\n",
    "    ('Teclado Mecánico', 'Accesorios', 75.00, 30),\n",
    "    ('Monitor Samsung 27\"', 'Electrónica', 300.00, 20),\n",
    "    ('Webcam HD', 'Accesorios', 80.00, 25),\n",
    "    ('SSD 1TB', 'Almacenamiento', 150.00, 40),\n",
    "    ('RAM 16GB', 'Componentes', 100.00, 35)\n",
    "]\n",
    "\n",
    "cursor.executemany('''\n",
    "INSERT OR IGNORE INTO productos (nombre, categoria, precio, stock)\n",
    "VALUES (?, ?, ?, ?)\n",
    "''', productos_data)\n",
    "\n",
    "conn.commit()\n",
    "print(f\"Insertados {len(productos_data)} productos\")"
   ]
  },
  {
   "cell_type": "code",
   "execution_count": null,
   "id": "bced811a",
   "metadata": {},
   "outputs": [],
   "source": [
    "# Insertar ventas\n",
    "ventas_data = [\n",
    "    (1, 1, 1, '2024-06-01', 1200.00),\n",
    "    (2, 2, 2, '2024-06-02', 50.00),\n",
    "    (3, 3, 3, '2024-06-03', 225.00),\n",
    "    (1, 4, 1, '2024-06-04', 300.00),\n",
    "    (4, 5, 2, '2024-06-05', 160.00),\n",
    "    (2, 6, 1, '2024-06-06', 150.00),\n",
    "    (5, 2, 5, '2024-06-07', 125.00),\n",
    "    (3, 1, 2, '2024-06-08', 2400.00),\n",
    "    (1, 3, 1, '2024-06-09', 75.00),\n",
    "    (4, 7, 3, '2024-06-10', 300.00)\n",
    "]\n",
    "\n",
    "cursor.executemany('''\n",
    "INSERT OR IGNORE INTO ventas (cliente_id, producto_id, cantidad, fecha_venta, total)\n",
    "VALUES (?, ?, ?, ?, ?)\n",
    "''', ventas_data)\n",
    "\n",
    "conn.commit()\n",
    "print(f\"Insertadas {len(ventas_data)} ventas\")"
   ]
  },
  {
   "cell_type": "markdown",
   "id": "b0036616",
   "metadata": {},
   "source": [
    "## 4. Consultas Básicas (SELECT)"
   ]
  },
  {
   "cell_type": "code",
   "execution_count": null,
   "id": "d95f9c31",
   "metadata": {},
   "outputs": [],
   "source": [
    "# SELECT simple - Todos los clientes\n",
    "query = \"SELECT * FROM clientes\"\n",
    "df_clientes = pd.read_sql_query(query, conn)\n",
    "print(\"Todos los clientes:\")\n",
    "print(df_clientes)"
   ]
  },
  {
   "cell_type": "code",
   "execution_count": null,
   "id": "01d0b846",
   "metadata": {},
   "outputs": [],
   "source": [
    "# SELECT con columnas específicas\n",
    "query = \"SELECT nombre, email, ciudad FROM clientes\"\n",
    "df = pd.read_sql_query(query, conn)\n",
    "print(\"Clientes - Nombre, Email, Ciudad:\")\n",
    "print(df)"
   ]
  },
  {
   "cell_type": "code",
   "execution_count": null,
   "id": "84e14aec",
   "metadata": {},
   "outputs": [],
   "source": [
    "# SELECT con WHERE - Filtrado\n",
    "query = \"SELECT * FROM productos WHERE categoria = 'Accesorios'\"\n",
    "df = pd.read_sql_query(query, conn)\n",
    "print(\"Productos de categoría 'Accesorios':\")\n",
    "print(df)"
   ]
  },
  {
   "cell_type": "code",
   "execution_count": null,
   "id": "619171a8",
   "metadata": {},
   "outputs": [],
   "source": [
    "# SELECT con múltiples condiciones\n",
    "query = '''\n",
    "SELECT nombre, precio, stock\n",
    "FROM productos\n",
    "WHERE precio > 100 AND stock > 20\n",
    "'''\n",
    "df = pd.read_sql_query(query, conn)\n",
    "print(\"Productos con precio > $100 y stock > 20:\")\n",
    "print(df)"
   ]
  },
  {
   "cell_type": "code",
   "execution_count": null,
   "id": "dfb6f5c7",
   "metadata": {},
   "outputs": [],
   "source": [
    "# SELECT con ORDER BY\n",
    "query = '''\n",
    "SELECT nombre, precio\n",
    "FROM productos\n",
    "ORDER BY precio DESC\n",
    "LIMIT 5\n",
    "'''\n",
    "df = pd.read_sql_query(query, conn)\n",
    "print(\"Top 5 productos más caros:\")\n",
    "print(df)"
   ]
  },
  {
   "cell_type": "markdown",
   "id": "ab3a7b0a",
   "metadata": {},
   "source": [
    "## 5. Funciones de Agregación"
   ]
  },
  {
   "cell_type": "code",
   "execution_count": null,
   "id": "f75ff55b",
   "metadata": {},
   "outputs": [],
   "source": [
    "# COUNT, SUM, AVG, MAX, MIN\n",
    "query = '''\n",
    "SELECT \n",
    "    COUNT(*) as total_productos,\n",
    "    SUM(stock) as stock_total,\n",
    "    AVG(precio) as precio_promedio,\n",
    "    MAX(precio) as precio_maximo,\n",
    "    MIN(precio) as precio_minimo\n",
    "FROM productos\n",
    "'''\n",
    "df = pd.read_sql_query(query, conn)\n",
    "print(\"Estadísticas de productos:\")\n",
    "print(df)"
   ]
  },
  {
   "cell_type": "code",
   "execution_count": null,
   "id": "e5ad642f",
   "metadata": {},
   "outputs": [],
   "source": [
    "# GROUP BY - Agrupar por categoría\n",
    "query = '''\n",
    "SELECT \n",
    "    categoria,\n",
    "    COUNT(*) as num_productos,\n",
    "    AVG(precio) as precio_promedio,\n",
    "    SUM(stock) as stock_total\n",
    "FROM productos\n",
    "GROUP BY categoria\n",
    "ORDER BY num_productos DESC\n",
    "'''\n",
    "df = pd.read_sql_query(query, conn)\n",
    "print(\"Productos por categoría:\")\n",
    "print(df)"
   ]
  },
  {
   "cell_type": "code",
   "execution_count": null,
   "id": "a62986ed",
   "metadata": {},
   "outputs": [],
   "source": [
    "# GROUP BY con HAVING - Filtrar grupos\n",
    "query = '''\n",
    "SELECT \n",
    "    categoria,\n",
    "    COUNT(*) as num_productos,\n",
    "    AVG(precio) as precio_promedio\n",
    "FROM productos\n",
    "GROUP BY categoria\n",
    "HAVING COUNT(*) >= 2\n",
    "'''\n",
    "df = pd.read_sql_query(query, conn)\n",
    "print(\"Categorías con 2 o más productos:\")\n",
    "print(df)"
   ]
  },
  {
   "cell_type": "markdown",
   "id": "c10e4cfb",
   "metadata": {},
   "source": [
    "## 6. JOINs - Combinar Tablas"
   ]
  },
  {
   "cell_type": "code",
   "execution_count": null,
   "id": "281b2f51",
   "metadata": {},
   "outputs": [],
   "source": [
    "# INNER JOIN - Ventas con información de clientes\n",
    "query = '''\n",
    "SELECT \n",
    "    v.venta_id,\n",
    "    c.nombre as cliente,\n",
    "    v.cantidad,\n",
    "    v.total,\n",
    "    v.fecha_venta\n",
    "FROM ventas v\n",
    "INNER JOIN clientes c ON v.cliente_id = c.cliente_id\n",
    "ORDER BY v.fecha_venta\n",
    "'''\n",
    "df = pd.read_sql_query(query, conn)\n",
    "print(\"Ventas con información de clientes:\")\n",
    "print(df)"
   ]
  },
  {
   "cell_type": "code",
   "execution_count": null,
   "id": "fcf22037",
   "metadata": {},
   "outputs": [],
   "source": [
    "# JOIN múltiple - Ventas completas\n",
    "query = '''\n",
    "SELECT \n",
    "    v.venta_id,\n",
    "    c.nombre as cliente,\n",
    "    p.nombre as producto,\n",
    "    p.categoria,\n",
    "    v.cantidad,\n",
    "    v.total,\n",
    "    v.fecha_venta\n",
    "FROM ventas v\n",
    "INNER JOIN clientes c ON v.cliente_id = c.cliente_id\n",
    "INNER JOIN productos p ON v.producto_id = p.producto_id\n",
    "ORDER BY v.fecha_venta DESC\n",
    "'''\n",
    "df = pd.read_sql_query(query, conn)\n",
    "print(\"Información completa de ventas:\")\n",
    "print(df.head(10))"
   ]
  },
  {
   "cell_type": "code",
   "execution_count": null,
   "id": "5a646da4",
   "metadata": {},
   "outputs": [],
   "source": [
    "# LEFT JOIN - Todos los clientes con sus ventas\n",
    "query = '''\n",
    "SELECT \n",
    "    c.nombre as cliente,\n",
    "    COUNT(v.venta_id) as num_compras,\n",
    "    COALESCE(SUM(v.total), 0) as total_gastado\n",
    "FROM clientes c\n",
    "LEFT JOIN ventas v ON c.cliente_id = v.cliente_id\n",
    "GROUP BY c.cliente_id, c.nombre\n",
    "ORDER BY total_gastado DESC\n",
    "'''\n",
    "df = pd.read_sql_query(query, conn)\n",
    "print(\"Resumen de compras por cliente:\")\n",
    "print(df)"
   ]
  },
  {
   "cell_type": "markdown",
   "id": "a943973a",
   "metadata": {},
   "source": [
    "## 7. Subconsultas"
   ]
  },
  {
   "cell_type": "code",
   "execution_count": null,
   "id": "297035e3",
   "metadata": {},
   "outputs": [],
   "source": [
    "# Subconsulta en WHERE\n",
    "query = '''\n",
    "SELECT nombre, precio\n",
    "FROM productos\n",
    "WHERE precio > (SELECT AVG(precio) FROM productos)\n",
    "ORDER BY precio DESC\n",
    "'''\n",
    "df = pd.read_sql_query(query, conn)\n",
    "print(\"Productos con precio mayor al promedio:\")\n",
    "print(df)"
   ]
  },
  {
   "cell_type": "code",
   "execution_count": null,
   "id": "e3f3c291",
   "metadata": {},
   "outputs": [],
   "source": [
    "# Subconsulta en FROM\n",
    "query = '''\n",
    "SELECT \n",
    "    categoria,\n",
    "    AVG(precio) as precio_promedio\n",
    "FROM productos\n",
    "WHERE categoria IN (\n",
    "    SELECT DISTINCT categoria \n",
    "    FROM productos \n",
    "    WHERE stock > 20\n",
    ")\n",
    "GROUP BY categoria\n",
    "'''\n",
    "df = pd.read_sql_query(query, conn)\n",
    "print(\"Precio promedio por categoría (con stock > 20):\")\n",
    "print(df)"
   ]
  },
  {
   "cell_type": "markdown",
   "id": "77d6511f",
   "metadata": {},
   "source": [
    "## 8. Actualización de Datos (UPDATE)"
   ]
  },
  {
   "cell_type": "code",
   "execution_count": null,
   "id": "5953d525",
   "metadata": {},
   "outputs": [],
   "source": [
    "# UPDATE simple\n",
    "query = '''\n",
    "UPDATE productos\n",
    "SET stock = stock + 10\n",
    "WHERE categoria = 'Accesorios'\n",
    "'''\n",
    "cursor.execute(query)\n",
    "conn.commit()\n",
    "print(f\"Actualizado stock de {cursor.rowcount} productos\")\n",
    "\n",
    "# Verificar cambios\n",
    "df = pd.read_sql_query(\"SELECT nombre, stock FROM productos WHERE categoria = 'Accesorios'\", conn)\n",
    "print(\"\\nStock actualizado:\")\n",
    "print(df)"
   ]
  },
  {
   "cell_type": "markdown",
   "id": "70dab2af",
   "metadata": {},
   "source": [
    "## 9. Eliminación de Datos (DELETE)"
   ]
  },
  {
   "cell_type": "code",
   "execution_count": null,
   "id": "cdd329b6",
   "metadata": {},
   "outputs": [],
   "source": [
    "# Antes de eliminar, ver registros\n",
    "print(\"Productos antes de eliminar:\")\n",
    "df = pd.read_sql_query(\"SELECT COUNT(*) as total FROM productos\", conn)\n",
    "print(df)\n",
    "\n",
    "# DELETE con condición (comentado para no eliminar datos)\n",
    "# query = '''\n",
    "# DELETE FROM productos\n",
    "# WHERE stock = 0\n",
    "# '''\n",
    "# cursor.execute(query)\n",
    "# conn.commit()\n",
    "# print(f\"Eliminados {cursor.rowcount} productos sin stock\")"
   ]
  },
  {
   "cell_type": "markdown",
   "id": "8c692e17",
   "metadata": {},
   "source": [
    "## 10. Análisis de Datos con SQL y Pandas"
   ]
  },
  {
   "cell_type": "code",
   "execution_count": null,
   "id": "954c8615",
   "metadata": {},
   "outputs": [],
   "source": [
    "# Análisis 1: Productos más vendidos\n",
    "query = '''\n",
    "SELECT \n",
    "    p.nombre as producto,\n",
    "    p.categoria,\n",
    "    COUNT(v.venta_id) as num_ventas,\n",
    "    SUM(v.cantidad) as cantidad_total,\n",
    "    SUM(v.total) as ingresos_totales\n",
    "FROM productos p\n",
    "LEFT JOIN ventas v ON p.producto_id = v.producto_id\n",
    "GROUP BY p.producto_id, p.nombre, p.categoria\n",
    "HAVING num_ventas > 0\n",
    "ORDER BY ingresos_totales DESC\n",
    "'''\n",
    "df_productos_top = pd.read_sql_query(query, conn)\n",
    "print(\"Productos más vendidos:\")\n",
    "print(df_productos_top)"
   ]
  },
  {
   "cell_type": "code",
   "execution_count": null,
   "id": "f6e79af0",
   "metadata": {},
   "outputs": [],
   "source": [
    "# Análisis 2: Ventas por ciudad\n",
    "query = '''\n",
    "SELECT \n",
    "    c.ciudad,\n",
    "    COUNT(DISTINCT c.cliente_id) as num_clientes,\n",
    "    COUNT(v.venta_id) as num_ventas,\n",
    "    SUM(v.total) as ingresos_totales,\n",
    "    AVG(v.total) as ticket_promedio\n",
    "FROM clientes c\n",
    "LEFT JOIN ventas v ON c.cliente_id = v.cliente_id\n",
    "GROUP BY c.ciudad\n",
    "ORDER BY ingresos_totales DESC\n",
    "'''\n",
    "df_ciudades = pd.read_sql_query(query, conn)\n",
    "print(\"Análisis por ciudad:\")\n",
    "print(df_ciudades)"
   ]
  },
  {
   "cell_type": "code",
   "execution_count": null,
   "id": "22fb83c5",
   "metadata": {},
   "outputs": [],
   "source": [
    "# Análisis 3: Clientes más valiosos\n",
    "query = '''\n",
    "SELECT \n",
    "    c.nombre,\n",
    "    c.email,\n",
    "    c.ciudad,\n",
    "    COUNT(v.venta_id) as num_compras,\n",
    "    SUM(v.total) as total_gastado,\n",
    "    AVG(v.total) as ticket_promedio,\n",
    "    MAX(v.fecha_venta) as ultima_compra\n",
    "FROM clientes c\n",
    "INNER JOIN ventas v ON c.cliente_id = v.cliente_id\n",
    "GROUP BY c.cliente_id, c.nombre, c.email, c.ciudad\n",
    "ORDER BY total_gastado DESC\n",
    "LIMIT 5\n",
    "'''\n",
    "df_top_clientes = pd.read_sql_query(query, conn)\n",
    "print(\"Top 5 clientes por valor:\")\n",
    "print(df_top_clientes)"
   ]
  },
  {
   "cell_type": "code",
   "execution_count": null,
   "id": "ce3a25af",
   "metadata": {},
   "outputs": [],
   "source": [
    "# Visualización de resultados\n",
    "import matplotlib.pyplot as plt\n",
    "\n",
    "fig, axes = plt.subplots(1, 2, figsize=(14, 5))\n",
    "\n",
    "# Gráfico 1: Ingresos por categoría\n",
    "df_productos_top.groupby('categoria')['ingresos_totales'].sum().plot(\n",
    "    kind='bar', ax=axes[0], color='skyblue'\n",
    ")\n",
    "axes[0].set_title('Ingresos Totales por Categoría')\n",
    "axes[0].set_ylabel('Ingresos ($)')\n",
    "axes[0].set_xlabel('Categoría')\n",
    "\n",
    "# Gráfico 2: Ventas por ciudad\n",
    "df_ciudades.plot(x='ciudad', y='ingresos_totales', kind='bar', ax=axes[1], color='coral')\n",
    "axes[1].set_title('Ingresos por Ciudad')\n",
    "axes[1].set_ylabel('Ingresos ($)')\n",
    "axes[1].set_xlabel('Ciudad')\n",
    "axes[1].legend().set_visible(False)\n",
    "\n",
    "plt.tight_layout()\n",
    "plt.show()"
   ]
  },
  {
   "cell_type": "markdown",
   "id": "aa79c155",
   "metadata": {},
   "source": [
    "## 11. Ejercicios Prácticos"
   ]
  },
  {
   "cell_type": "code",
   "execution_count": null,
   "id": "91a9aeab",
   "metadata": {},
   "outputs": [],
   "source": [
    "# Ejercicio 1: Encuentra los productos que nunca se han vendido\n",
    "query = '''\n",
    "SELECT p.nombre, p.categoria, p.precio, p.stock\n",
    "FROM productos p\n",
    "LEFT JOIN ventas v ON p.producto_id = v.producto_id\n",
    "WHERE v.venta_id IS NULL\n",
    "'''\n",
    "df = pd.read_sql_query(query, conn)\n",
    "print(\"Productos sin ventas:\")\n",
    "print(df)"
   ]
  },
  {
   "cell_type": "code",
   "execution_count": null,
   "id": "e5f7484c",
   "metadata": {},
   "outputs": [],
   "source": [
    "# Ejercicio 2: Calcula el valor total del inventario\n",
    "query = '''\n",
    "SELECT \n",
    "    categoria,\n",
    "    SUM(precio * stock) as valor_inventario,\n",
    "    SUM(stock) as unidades_totales\n",
    "FROM productos\n",
    "GROUP BY categoria\n",
    "ORDER BY valor_inventario DESC\n",
    "'''\n",
    "df = pd.read_sql_query(query, conn)\n",
    "print(\"Valor del inventario por categoría:\")\n",
    "print(df)\n",
    "print(f\"\\nValor total del inventario: ${df['valor_inventario'].sum():,.2f}\")"
   ]
  },
  {
   "cell_type": "code",
   "execution_count": null,
   "id": "af3a070c",
   "metadata": {},
   "outputs": [],
   "source": [
    "# Ejercicio 3: Encuentra los días con más ventas\n",
    "query = '''\n",
    "SELECT \n",
    "    fecha_venta,\n",
    "    COUNT(*) as num_transacciones,\n",
    "    SUM(total) as total_dia\n",
    "FROM ventas\n",
    "GROUP BY fecha_venta\n",
    "ORDER BY total_dia DESC\n",
    "LIMIT 5\n",
    "'''\n",
    "df = pd.read_sql_query(query, conn)\n",
    "print(\"Top 5 días con más ventas:\")\n",
    "print(df)"
   ]
  },
  {
   "cell_type": "markdown",
   "id": "c2e49875",
   "metadata": {},
   "source": [
    "## 12. Uso de SQLAlchemy para mayor flexibilidad"
   ]
  },
  {
   "cell_type": "code",
   "execution_count": null,
   "id": "a8cf6f2e",
   "metadata": {},
   "outputs": [],
   "source": [
    "# Crear engine con SQLAlchemy\n",
    "engine = create_engine(f'sqlite:///{db_path}')\n",
    "\n",
    "# Leer datos con SQLAlchemy\n",
    "query = \"SELECT * FROM productos\"\n",
    "df_products = pd.read_sql_query(query, engine)\n",
    "print(\"Productos (usando SQLAlchemy):\")\n",
    "print(df_products.head())"
   ]
  },
  {
   "cell_type": "code",
   "execution_count": null,
   "id": "494ba1f0",
   "metadata": {},
   "outputs": [],
   "source": [
    "# Escribir DataFrame a SQL\n",
    "df_nuevo = pd.DataFrame({\n",
    "    'nombre': ['Nuevo Producto 1', 'Nuevo Producto 2'],\n",
    "    'categoria': ['Test', 'Test'],\n",
    "    'precio': [99.99, 149.99],\n",
    "    'stock': [10, 15]\n",
    "})\n",
    "\n",
    "# df_nuevo.to_sql('productos', engine, if_exists='append', index=False)\n",
    "print(\"DataFrame listo para insertar (comentado para no duplicar datos)\")\n",
    "print(df_nuevo)"
   ]
  },
  {
   "cell_type": "markdown",
   "id": "8d219c9a",
   "metadata": {},
   "source": [
    "## 13. Limpieza"
   ]
  },
  {
   "cell_type": "code",
   "execution_count": null,
   "id": "b9c1d234",
   "metadata": {},
   "outputs": [],
   "source": [
    "# Cerrar conexiones\n",
    "conn.close()\n",
    "print(\"Conexión cerrada\")"
   ]
  },
  {
   "cell_type": "markdown",
   "id": "a4059980",
   "metadata": {},
   "source": [
    "## Resumen y Mejores Prácticas\n",
    "\n",
    "### Conceptos Clave:\n",
    "1. **SELECT**: Consultar datos de una o más tablas\n",
    "2. **WHERE**: Filtrar resultados con condiciones\n",
    "3. **JOIN**: Combinar datos de múltiples tablas\n",
    "4. **GROUP BY**: Agrupar datos para agregaciones\n",
    "5. **ORDER BY**: Ordenar resultados\n",
    "6. **INSERT/UPDATE/DELETE**: Operaciones CRUD\n",
    "\n",
    "### Mejores Prácticas SQL:\n",
    "- Usar nombres descriptivos para tablas y columnas\n",
    "- Definir claves primarias y foráneas\n",
    "- Indexar columnas frecuentemente consultadas\n",
    "- Usar parámetros en lugar de concatenar strings (evitar SQL injection)\n",
    "- Siempre hacer COMMIT después de modificaciones\n",
    "- Cerrar conexiones cuando termines\n",
    "- Usar transacciones para operaciones críticas\n",
    "\n",
    "### Integración con Pandas:\n",
    "- `pd.read_sql_query()`: Ejecutar consultas y obtener DataFrame\n",
    "- `df.to_sql()`: Insertar DataFrame en base de datos\n",
    "- SQLAlchemy: Mayor flexibilidad y portabilidad\n",
    "\n",
    "### Recursos Adicionales:\n",
    "- [SQLite Tutorial](https://www.sqlitetutorial.net/)\n",
    "- [W3Schools SQL](https://www.w3schools.com/sql/)\n",
    "- [Pandas SQL](https://pandas.pydata.org/docs/user_guide/io.html#sql-queries)"
   ]
  }
 ],
 "metadata": {
  "language_info": {
   "name": "python"
  }
 },
 "nbformat": 4,
 "nbformat_minor": 5
}
