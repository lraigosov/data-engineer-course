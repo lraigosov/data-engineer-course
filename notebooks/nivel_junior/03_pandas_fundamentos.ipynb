{
 "cells": [
  {
   "cell_type": "markdown",
   "id": "37391fb6",
   "metadata": {},
   "source": [
    "# Pandas: Fundamentos para Análisis de Datos\n",
    "\n",
    "## Objetivos de Aprendizaje\n",
    "- Dominar las estructuras de datos de Pandas (Series y DataFrame)\n",
    "- Realizar operaciones de lectura y escritura de datos\n",
    "- Manipular y transformar DataFrames eficientemente\n",
    "- Aplicar filtros, agrupaciones y agregaciones\n",
    "- Trabajar con datos faltantes y duplicados\n",
    "\n",
    "## Requisitos\n",
    "- Python 3.8+\n",
    "- pandas\n",
    "- numpy"
   ]
  },
  {
   "cell_type": "code",
   "execution_count": null,
   "id": "42b11195",
   "metadata": {},
   "outputs": [],
   "source": [
    "# Instalación de dependencias\n",
    "import sys\n",
    "!{sys.executable} -m pip install pandas numpy matplotlib seaborn -q"
   ]
  },
  {
   "cell_type": "code",
   "execution_count": null,
   "id": "e68168ce",
   "metadata": {},
   "outputs": [],
   "source": [
    "import pandas as pd\n",
    "import numpy as np\n",
    "import matplotlib.pyplot as plt\n",
    "import seaborn as sns\n",
    "from datetime import datetime, timedelta\n",
    "\n",
    "# Configuración\n",
    "pd.set_option('display.max_columns', None)\n",
    "pd.set_option('display.max_rows', 100)\n",
    "sns.set_style('whitegrid')\n",
    "\n",
    "print(f\"Pandas version: {pd.__version__}\")\n",
    "print(f\"NumPy version: {np.__version__}\")"
   ]
  },
  {
   "cell_type": "markdown",
   "id": "8219c653",
   "metadata": {},
   "source": [
    "## 1. Series de Pandas\n",
    "\n",
    "Una Series es un array unidimensional etiquetado."
   ]
  },
  {
   "cell_type": "code",
   "execution_count": null,
   "id": "e5cf0973",
   "metadata": {},
   "outputs": [],
   "source": [
    "# Crear una Series desde una lista\n",
    "ventas = pd.Series([100, 150, 200, 175, 225], name='ventas_diarias')\n",
    "print(\"Series básica:\")\n",
    "print(ventas)\n",
    "print(f\"\\nTipo: {type(ventas)}\")\n",
    "print(f\"Shape: {ventas.shape}\")\n",
    "print(f\"Dtype: {ventas.dtype}\")"
   ]
  },
  {
   "cell_type": "code",
   "execution_count": null,
   "id": "fd6e497b",
   "metadata": {},
   "outputs": [],
   "source": [
    "# Series con índice personalizado\n",
    "temperaturas = pd.Series(\n",
    "    data=[22, 25, 28, 26, 24],\n",
    "    index=['Lunes', 'Martes', 'Miércoles', 'Jueves', 'Viernes'],\n",
    "    name='temperatura_celsius'\n",
    ")\n",
    "print(\"Series con índice personalizado:\")\n",
    "print(temperaturas)\n",
    "print(f\"\\nAcceso por índice: Miércoles = {temperaturas['Miércoles']}°C\")"
   ]
  },
  {
   "cell_type": "code",
   "execution_count": null,
   "id": "619527f7",
   "metadata": {},
   "outputs": [],
   "source": [
    "# Operaciones con Series\n",
    "print(\"Estadísticas descriptivas:\")\n",
    "print(f\"Media: {temperaturas.mean():.2f}°C\")\n",
    "print(f\"Mediana: {temperaturas.median()}°C\")\n",
    "print(f\"Desviación estándar: {temperaturas.std():.2f}°C\")\n",
    "print(f\"Mínimo: {temperaturas.min()}°C\")\n",
    "print(f\"Máximo: {temperaturas.max()}°C\")"
   ]
  },
  {
   "cell_type": "markdown",
   "id": "7730787e",
   "metadata": {},
   "source": [
    "## 2. DataFrames: La estructura principal\n",
    "\n",
    "Un DataFrame es una estructura bidimensional con columnas que pueden ser de diferentes tipos."
   ]
  },
  {
   "cell_type": "code",
   "execution_count": null,
   "id": "9bc2d875",
   "metadata": {},
   "outputs": [],
   "source": [
    "# Crear DataFrame desde diccionario\n",
    "datos_ventas = {\n",
    "    'producto': ['Laptop', 'Mouse', 'Teclado', 'Monitor', 'Webcam'],\n",
    "    'cantidad': [5, 25, 15, 8, 12],\n",
    "    'precio_unitario': [1200, 25, 75, 300, 80],\n",
    "    'categoria': ['Computadoras', 'Accesorios', 'Accesorios', 'Computadoras', 'Accesorios']\n",
    "}\n",
    "\n",
    "df_ventas = pd.DataFrame(datos_ventas)\n",
    "print(\"DataFrame de ventas:\")\n",
    "print(df_ventas)"
   ]
  },
  {
   "cell_type": "code",
   "execution_count": null,
   "id": "7603e7e0",
   "metadata": {},
   "outputs": [],
   "source": [
    "# Información del DataFrame\n",
    "print(\"Información del DataFrame:\")\n",
    "print(f\"Shape: {df_ventas.shape}\")\n",
    "print(f\"Columnas: {df_ventas.columns.tolist()}\")\n",
    "print(f\"\\nTipos de datos:\")\n",
    "print(df_ventas.dtypes)\n",
    "print(f\"\\nInformación detallada:\")\n",
    "df_ventas.info()"
   ]
  },
  {
   "cell_type": "code",
   "execution_count": null,
   "id": "fa396e0c",
   "metadata": {},
   "outputs": [],
   "source": [
    "# Crear nueva columna calculada\n",
    "df_ventas['total_venta'] = df_ventas['cantidad'] * df_ventas['precio_unitario']\n",
    "print(\"DataFrame con columna calculada:\")\n",
    "print(df_ventas)"
   ]
  },
  {
   "cell_type": "code",
   "execution_count": null,
   "id": "bfbdfe07",
   "metadata": {},
   "outputs": [],
   "source": [
    "# Estadísticas descriptivas\n",
    "print(\"Estadísticas del DataFrame:\")\n",
    "print(df_ventas.describe())"
   ]
  },
  {
   "cell_type": "markdown",
   "id": "5864a856",
   "metadata": {},
   "source": [
    "## 3. Selección y Filtrado de Datos"
   ]
  },
  {
   "cell_type": "code",
   "execution_count": null,
   "id": "36badc09",
   "metadata": {},
   "outputs": [],
   "source": [
    "# Seleccionar columnas\n",
    "print(\"Selección de una columna:\")\n",
    "print(df_ventas['producto'])\n",
    "print(f\"\\nTipo: {type(df_ventas['producto'])}\")\n",
    "\n",
    "print(\"\\nSelección de múltiples columnas:\")\n",
    "print(df_ventas[['producto', 'total_venta']])"
   ]
  },
  {
   "cell_type": "code",
   "execution_count": null,
   "id": "ab9017fc",
   "metadata": {},
   "outputs": [],
   "source": [
    "# Filtrado con condiciones\n",
    "print(\"Productos con ventas mayores a $1000:\")\n",
    "ventas_altas = df_ventas[df_ventas['total_venta'] > 1000]\n",
    "print(ventas_altas)\n",
    "\n",
    "print(\"\\nProductos de categoría 'Accesorios':\")\n",
    "accesorios = df_ventas[df_ventas['categoria'] == 'Accesorios']\n",
    "print(accesorios)"
   ]
  },
  {
   "cell_type": "code",
   "execution_count": null,
   "id": "598bee4d",
   "metadata": {},
   "outputs": [],
   "source": [
    "# Filtrado con múltiples condiciones\n",
    "print(\"Accesorios con ventas mayores a $500:\")\n",
    "filtro_complejo = df_ventas[\n",
    "    (df_ventas['categoria'] == 'Accesorios') & \n",
    "    (df_ventas['total_venta'] > 500)\n",
    "]\n",
    "print(filtro_complejo)"
   ]
  },
  {
   "cell_type": "code",
   "execution_count": null,
   "id": "b62f5bba",
   "metadata": {},
   "outputs": [],
   "source": [
    "# Uso de loc e iloc\n",
    "print(\"Uso de loc (etiquetas):\")\n",
    "print(df_ventas.loc[0:2, ['producto', 'cantidad']])\n",
    "\n",
    "print(\"\\nUso de iloc (posiciones):\")\n",
    "print(df_ventas.iloc[0:3, 0:2])"
   ]
  },
  {
   "cell_type": "markdown",
   "id": "02770366",
   "metadata": {},
   "source": [
    "## 4. Agrupaciones y Agregaciones"
   ]
  },
  {
   "cell_type": "code",
   "execution_count": null,
   "id": "57aabd4a",
   "metadata": {},
   "outputs": [],
   "source": [
    "# Crear dataset más grande para agrupaciones\n",
    "np.random.seed(42)\n",
    "n_registros = 100\n",
    "\n",
    "df_transacciones = pd.DataFrame({\n",
    "    'fecha': pd.date_range('2024-01-01', periods=n_registros, freq='D'),\n",
    "    'categoria': np.random.choice(['Electrónica', 'Ropa', 'Alimentos', 'Hogar'], n_registros),\n",
    "    'producto': [f'Producto_{i}' for i in range(n_registros)],\n",
    "    'cantidad': np.random.randint(1, 20, n_registros),\n",
    "    'precio': np.random.uniform(10, 500, n_registros).round(2),\n",
    "    'region': np.random.choice(['Norte', 'Sur', 'Este', 'Oeste'], n_registros)\n",
    "})\n",
    "\n",
    "df_transacciones['total'] = df_transacciones['cantidad'] * df_transacciones['precio']\n",
    "\n",
    "print(\"Dataset de transacciones:\")\n",
    "print(df_transacciones.head(10))"
   ]
  },
  {
   "cell_type": "code",
   "execution_count": null,
   "id": "01103bc4",
   "metadata": {},
   "outputs": [],
   "source": [
    "# Agrupación simple\n",
    "print(\"Ventas totales por categoría:\")\n",
    "ventas_por_categoria = df_transacciones.groupby('categoria')['total'].sum()\n",
    "print(ventas_por_categoria)\n",
    "print(f\"\\nTipo: {type(ventas_por_categoria)}\")"
   ]
  },
  {
   "cell_type": "code",
   "execution_count": null,
   "id": "8af6ae29",
   "metadata": {},
   "outputs": [],
   "source": [
    "# Múltiples agregaciones\n",
    "print(\"Estadísticas por categoría:\")\n",
    "stats_categoria = df_transacciones.groupby('categoria')['total'].agg([\n",
    "    ('total_ventas', 'sum'),\n",
    "    ('promedio', 'mean'),\n",
    "    ('num_transacciones', 'count'),\n",
    "    ('max_venta', 'max')\n",
    "])\n",
    "print(stats_categoria)"
   ]
  },
  {
   "cell_type": "code",
   "execution_count": null,
   "id": "cf7e32f0",
   "metadata": {},
   "outputs": [],
   "source": [
    "# Agrupación por múltiples columnas\n",
    "print(\"Ventas por categoría y región:\")\n",
    "ventas_categoria_region = df_transacciones.groupby(['categoria', 'region'])['total'].sum()\n",
    "print(ventas_categoria_region)"
   ]
  },
  {
   "cell_type": "code",
   "execution_count": null,
   "id": "546762a1",
   "metadata": {},
   "outputs": [],
   "source": [
    "# Usar pivot_table para análisis multidimensional\n",
    "print(\"Tabla dinámica: Ventas por categoría y región:\")\n",
    "pivot_ventas = df_transacciones.pivot_table(\n",
    "    values='total',\n",
    "    index='categoria',\n",
    "    columns='region',\n",
    "    aggfunc='sum',\n",
    "    fill_value=0\n",
    ")\n",
    "print(pivot_ventas)"
   ]
  },
  {
   "cell_type": "markdown",
   "id": "f0b31f74",
   "metadata": {},
   "source": [
    "## 5. Manejo de Datos Faltantes"
   ]
  },
  {
   "cell_type": "code",
   "execution_count": null,
   "id": "01a95b5c",
   "metadata": {},
   "outputs": [],
   "source": [
    "# Crear DataFrame con valores faltantes\n",
    "datos_clientes = {\n",
    "    'id': [1, 2, 3, 4, 5, 6],\n",
    "    'nombre': ['Juan', 'María', 'Pedro', None, 'Ana', 'Luis'],\n",
    "    'edad': [25, 30, None, 28, 35, None],\n",
    "    'email': ['juan@mail.com', None, 'pedro@mail.com', 'carlos@mail.com', None, 'luis@mail.com'],\n",
    "    'salario': [50000, 60000, 55000, None, 70000, 48000]\n",
    "}\n",
    "\n",
    "df_clientes = pd.DataFrame(datos_clientes)\n",
    "print(\"DataFrame con valores faltantes:\")\n",
    "print(df_clientes)"
   ]
  },
  {
   "cell_type": "code",
   "execution_count": null,
   "id": "704eb328",
   "metadata": {},
   "outputs": [],
   "source": [
    "# Detectar valores faltantes\n",
    "print(\"Valores nulos por columna:\")\n",
    "print(df_clientes.isnull().sum())\n",
    "\n",
    "print(\"\\nPorcentaje de valores nulos:\")\n",
    "print((df_clientes.isnull().sum() / len(df_clientes) * 100).round(2))"
   ]
  },
  {
   "cell_type": "code",
   "execution_count": null,
   "id": "411aacf9",
   "metadata": {},
   "outputs": [],
   "source": [
    "# Eliminar filas con valores faltantes\n",
    "df_sin_nulos = df_clientes.dropna()\n",
    "print(f\"Filas originales: {len(df_clientes)}\")\n",
    "print(f\"Filas después de dropna(): {len(df_sin_nulos)}\")\n",
    "print(\"\\nDataFrame sin nulos:\")\n",
    "print(df_sin_nulos)"
   ]
  },
  {
   "cell_type": "code",
   "execution_count": null,
   "id": "964d7f0d",
   "metadata": {},
   "outputs": [],
   "source": [
    "# Rellenar valores faltantes\n",
    "df_rellenado = df_clientes.copy()\n",
    "\n",
    "# Rellenar edad con la media\n",
    "df_rellenado['edad'].fillna(df_rellenado['edad'].mean(), inplace=True)\n",
    "\n",
    "# Rellenar nombre con un valor por defecto\n",
    "df_rellenado['nombre'].fillna('Desconocido', inplace=True)\n",
    "\n",
    "# Rellenar email con un valor específico\n",
    "df_rellenado['email'].fillna('sin_email@ejemplo.com', inplace=True)\n",
    "\n",
    "# Rellenar salario con la mediana\n",
    "df_rellenado['salario'].fillna(df_rellenado['salario'].median(), inplace=True)\n",
    "\n",
    "print(\"DataFrame con valores imputados:\")\n",
    "print(df_rellenado)"
   ]
  },
  {
   "cell_type": "markdown",
   "id": "87dc7771",
   "metadata": {},
   "source": [
    "## 6. Manejo de Duplicados"
   ]
  },
  {
   "cell_type": "code",
   "execution_count": null,
   "id": "ed810cf2",
   "metadata": {},
   "outputs": [],
   "source": [
    "# Crear DataFrame con duplicados\n",
    "datos_duplicados = {\n",
    "    'id': [1, 2, 3, 2, 4, 3, 5],\n",
    "    'producto': ['A', 'B', 'C', 'B', 'D', 'C', 'E'],\n",
    "    'cantidad': [10, 20, 15, 20, 25, 15, 30]\n",
    "}\n",
    "\n",
    "df_dup = pd.DataFrame(datos_duplicados)\n",
    "print(\"DataFrame con duplicados:\")\n",
    "print(df_dup)"
   ]
  },
  {
   "cell_type": "code",
   "execution_count": null,
   "id": "ce7873fc",
   "metadata": {},
   "outputs": [],
   "source": [
    "# Detectar duplicados\n",
    "print(\"Filas duplicadas:\")\n",
    "print(df_dup[df_dup.duplicated()])\n",
    "\n",
    "print(f\"\\nNúmero de duplicados: {df_dup.duplicated().sum()}\")"
   ]
  },
  {
   "cell_type": "code",
   "execution_count": null,
   "id": "0317c45f",
   "metadata": {},
   "outputs": [],
   "source": [
    "# Eliminar duplicados\n",
    "df_sin_dup = df_dup.drop_duplicates()\n",
    "print(\"DataFrame sin duplicados:\")\n",
    "print(df_sin_dup)\n",
    "print(f\"\\nFilas originales: {len(df_dup)}\")\n",
    "print(f\"Filas sin duplicados: {len(df_sin_dup)}\")"
   ]
  },
  {
   "cell_type": "markdown",
   "id": "1471feba",
   "metadata": {},
   "source": [
    "## 7. Ordenamiento de Datos"
   ]
  },
  {
   "cell_type": "code",
   "execution_count": null,
   "id": "e4cf66c7",
   "metadata": {},
   "outputs": [],
   "source": [
    "# Ordenar por una columna\n",
    "print(\"Ventas ordenadas por total (descendente):\")\n",
    "df_ordenado = df_ventas.sort_values('total_venta', ascending=False)\n",
    "print(df_ordenado)"
   ]
  },
  {
   "cell_type": "code",
   "execution_count": null,
   "id": "0fdbcfc4",
   "metadata": {},
   "outputs": [],
   "source": [
    "# Ordenar por múltiples columnas\n",
    "print(\"Transacciones ordenadas por categoría y total:\")\n",
    "df_multi_orden = df_transacciones.sort_values(\n",
    "    ['categoria', 'total'],\n",
    "    ascending=[True, False]\n",
    ").head(10)\n",
    "print(df_multi_orden[['categoria', 'producto', 'total']])"
   ]
  },
  {
   "cell_type": "markdown",
   "id": "fa7012ca",
   "metadata": {},
   "source": [
    "## 8. Concatenación y Merge de DataFrames"
   ]
  },
  {
   "cell_type": "code",
   "execution_count": null,
   "id": "e5be325b",
   "metadata": {},
   "outputs": [],
   "source": [
    "# Concatenación vertical\n",
    "df1 = pd.DataFrame({\n",
    "    'id': [1, 2, 3],\n",
    "    'valor': [10, 20, 30]\n",
    "})\n",
    "\n",
    "df2 = pd.DataFrame({\n",
    "    'id': [4, 5, 6],\n",
    "    'valor': [40, 50, 60]\n",
    "})\n",
    "\n",
    "df_concat = pd.concat([df1, df2], ignore_index=True)\n",
    "print(\"Concatenación vertical:\")\n",
    "print(df_concat)"
   ]
  },
  {
   "cell_type": "code",
   "execution_count": null,
   "id": "038ec37d",
   "metadata": {},
   "outputs": [],
   "source": [
    "# Merge (Join)\n",
    "df_productos = pd.DataFrame({\n",
    "    'producto_id': [1, 2, 3, 4],\n",
    "    'nombre': ['Laptop', 'Mouse', 'Teclado', 'Monitor']\n",
    "})\n",
    "\n",
    "df_precios = pd.DataFrame({\n",
    "    'producto_id': [1, 2, 3, 5],\n",
    "    'precio': [1200, 25, 75, 150]\n",
    "})\n",
    "\n",
    "print(\"Productos:\")\n",
    "print(df_productos)\n",
    "print(\"\\nPrecios:\")\n",
    "print(df_precios)"
   ]
  },
  {
   "cell_type": "code",
   "execution_count": null,
   "id": "9c12bbcb",
   "metadata": {},
   "outputs": [],
   "source": [
    "# Inner join\n",
    "df_inner = pd.merge(df_productos, df_precios, on='producto_id', how='inner')\n",
    "print(\"Inner Join:\")\n",
    "print(df_inner)"
   ]
  },
  {
   "cell_type": "code",
   "execution_count": null,
   "id": "c4d7c5e8",
   "metadata": {},
   "outputs": [],
   "source": [
    "# Left join\n",
    "df_left = pd.merge(df_productos, df_precios, on='producto_id', how='left')\n",
    "print(\"Left Join:\")\n",
    "print(df_left)"
   ]
  },
  {
   "cell_type": "markdown",
   "id": "afd2a2b4",
   "metadata": {},
   "source": [
    "## 9. Visualización con Pandas"
   ]
  },
  {
   "cell_type": "code",
   "execution_count": null,
   "id": "6d98c929",
   "metadata": {},
   "outputs": [],
   "source": [
    "# Gráficos básicos\n",
    "fig, axes = plt.subplots(2, 2, figsize=(14, 10))\n",
    "\n",
    "# Gráfico de barras\n",
    "ventas_por_categoria.plot(kind='bar', ax=axes[0, 0], color='skyblue')\n",
    "axes[0, 0].set_title('Ventas Totales por Categoría')\n",
    "axes[0, 0].set_ylabel('Total ($)')\n",
    "\n",
    "# Gráfico de líneas\n",
    "df_transacciones.groupby('fecha')['total'].sum().plot(ax=axes[0, 1], color='green')\n",
    "axes[0, 1].set_title('Evolución de Ventas Diarias')\n",
    "axes[0, 1].set_ylabel('Total ($)')\n",
    "\n",
    "# Histograma\n",
    "df_transacciones['precio'].plot(kind='hist', bins=20, ax=axes[1, 0], color='coral')\n",
    "axes[1, 0].set_title('Distribución de Precios')\n",
    "axes[1, 0].set_xlabel('Precio')\n",
    "\n",
    "# Box plot\n",
    "df_transacciones.boxplot(column='total', by='categoria', ax=axes[1, 1])\n",
    "axes[1, 1].set_title('Distribución de Ventas por Categoría')\n",
    "axes[1, 1].set_ylabel('Total ($)')\n",
    "\n",
    "plt.tight_layout()\n",
    "plt.show()"
   ]
  },
  {
   "cell_type": "markdown",
   "id": "465460c2",
   "metadata": {},
   "source": [
    "## 10. Ejercicios Prácticos"
   ]
  },
  {
   "cell_type": "code",
   "execution_count": null,
   "id": "57c5445a",
   "metadata": {},
   "outputs": [],
   "source": [
    "# Ejercicio 1: Análisis de ventas mensuales\n",
    "print(\"=== Ejercicio 1: Análisis de Ventas Mensuales ===\")\n",
    "\n",
    "# Agregar columna de mes\n",
    "df_transacciones['mes'] = df_transacciones['fecha'].dt.month\n",
    "df_transacciones['mes_nombre'] = df_transacciones['fecha'].dt.month_name()\n",
    "\n",
    "# Ventas por mes\n",
    "ventas_mensuales = df_transacciones.groupby('mes_nombre')['total'].agg([\n",
    "    ('total', 'sum'),\n",
    "    ('promedio', 'mean'),\n",
    "    ('transacciones', 'count')\n",
    "])\n",
    "\n",
    "print(ventas_mensuales)"
   ]
  },
  {
   "cell_type": "code",
   "execution_count": null,
   "id": "53760b93",
   "metadata": {},
   "outputs": [],
   "source": [
    "# Ejercicio 2: Top 5 productos más vendidos\n",
    "print(\"=== Ejercicio 2: Top 5 Productos ===\")\n",
    "\n",
    "top_productos = df_transacciones.groupby('producto').agg({\n",
    "    'cantidad': 'sum',\n",
    "    'total': 'sum'\n",
    "}).sort_values('total', ascending=False).head(5)\n",
    "\n",
    "print(top_productos)"
   ]
  },
  {
   "cell_type": "code",
   "execution_count": null,
   "id": "9859cb7b",
   "metadata": {},
   "outputs": [],
   "source": [
    "# Ejercicio 3: Análisis por región\n",
    "print(\"=== Ejercicio 3: Rendimiento por Región ===\")\n",
    "\n",
    "analisis_region = df_transacciones.groupby('region').agg({\n",
    "    'total': ['sum', 'mean', 'count'],\n",
    "    'cantidad': 'sum'\n",
    "})\n",
    "\n",
    "analisis_region.columns = ['_'.join(col) for col in analisis_region.columns]\n",
    "analisis_region = analisis_region.sort_values('total_sum', ascending=False)\n",
    "\n",
    "print(analisis_region)"
   ]
  },
  {
   "cell_type": "markdown",
   "id": "2f71b5f7",
   "metadata": {},
   "source": [
    "## Resumen y Mejores Prácticas\n",
    "\n",
    "### Puntos Clave:\n",
    "1. **Series y DataFrames**: Estructuras fundamentales de pandas\n",
    "2. **Selección**: Usar `loc` para etiquetas, `iloc` para posiciones\n",
    "3. **Filtrado**: Combinar condiciones con `&` (AND) y `|` (OR)\n",
    "4. **Agrupaciones**: `groupby()` para análisis agregado\n",
    "5. **Datos faltantes**: Detectar con `isnull()`, manejar con `fillna()` o `dropna()`\n",
    "6. **Duplicados**: Detectar con `duplicated()`, eliminar con `drop_duplicates()`\n",
    "\n",
    "### Mejores Prácticas:\n",
    "- Siempre explorar los datos con `head()`, `info()`, `describe()`\n",
    "- Verificar tipos de datos antes de operaciones\n",
    "- Manejar valores faltantes apropiadamente según el contexto\n",
    "- Usar nombres descriptivos para variables\n",
    "- Documentar transformaciones complejas\n",
    "- Validar resultados después de cada transformación\n",
    "\n",
    "### Recursos Adicionales:\n",
    "- [Documentación oficial de Pandas](https://pandas.pydata.org/docs/)\n",
    "- [10 minutes to pandas](https://pandas.pydata.org/docs/user_guide/10min.html)\n",
    "- [Pandas Cheat Sheet](https://pandas.pydata.org/Pandas_Cheat_Sheet.pdf)"
   ]
  }
 ],
 "metadata": {
  "language_info": {
   "name": "python"
  }
 },
 "nbformat": 4,
 "nbformat_minor": 5
}
