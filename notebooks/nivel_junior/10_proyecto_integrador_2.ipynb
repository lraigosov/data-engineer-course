{
 "cells": [
  {
   "cell_type": "markdown",
   "id": "ef5740a4",
   "metadata": {},
   "source": [
    "# 🚀 Proyecto Integrador 2: Pipeline Near Real-Time, Scheduling y Alertas\n",
    "\n",
    "Este proyecto consolida el nivel Junior con un pipeline que monitorea una carpeta de entrada, valida y transforma nuevos archivos CSV en tiempo casi real, carga resultados, genera métricas, registra logs, implementa reintentos con backoff y envía notificaciones (stub).\n",
    "\n",
    "Objetivos:\n",
    "- ✅ Monitoreo de archivos nuevos (file watcher)\n",
    "- ✅ Validación de esquema y calidad\n",
    "- ✅ Transformación y enriquecimiento\n",
    "- ✅ Carga a SQLite y Parquet\n",
    "- ✅ Métricas y logging estructurado\n",
    "- ✅ Reintentos con backoff e idempotencia\n",
    "- ✅ Notificaciones (Slack/Email stub)\n",
    "- ✅ Scheduling simple sin dependencias externas"
   ]
  },
  {
   "cell_type": "markdown",
   "id": "a74c6ee1",
   "metadata": {},
   "source": [
    "## 1. Configuración y Estructura"
   ]
  },
  {
   "cell_type": "code",
   "execution_count": null,
   "id": "31f3676b",
   "metadata": {},
   "outputs": [],
   "source": [
    "import os, json, time, sqlite3, logging, traceback, hashlib\n",
    "from datetime import datetime\n",
    "from typing import Dict, List, Optional, Tuple\n",
    "import pandas as pd\n",
    "import numpy as np\n",
    "\n",
    "BASE_DIR = os.path.abspath(os.path.join(os.getcwd(), '..', '..'))\n",
    "INPUT_DIR = os.path.join(BASE_DIR, 'ingest', 'incoming')\n",
    "CHKPT_DIR = os.path.join(BASE_DIR, 'ingest', 'checkpoints')\n",
    "OUT_DIR = os.path.join(BASE_DIR, 'outputs', 'proyecto_2')\n",
    "LOGS_DIR = os.path.join(BASE_DIR, 'logs')\n",
    "\n",
    "for d in [INPUT_DIR, CHKPT_DIR, OUT_DIR, LOGS_DIR]:\n",
    "    os.makedirs(d, exist_ok=True)\n",
    "\n",
    "DB_PATH = os.path.join(OUT_DIR, 'near_rt_analytics.db')\n",
    "PARQUET_DIR = os.path.join(OUT_DIR, 'parquet')\n",
    "os.makedirs(PARQUET_DIR, exist_ok=True)\n",
    "\n",
    "# Logging\n",
    "logging.basicConfig(level=logging.INFO,\n",
    "    format='%(asctime)s %(levelname)s %(message)s',\n",
    "    handlers=[\n",
    "        logging.FileHandler(os.path.join(LOGS_DIR, 'proyecto_integrador_2.log'), encoding='utf-8'),\n",
    "        logging.StreamHandler()\n",
    "    ])\n",
    "logger = logging.getLogger('near_rt_pipeline')\n",
    "logger.info('✅ Entorno inicializado')\n",
    "print('BASE_DIR:', BASE_DIR)\n",
    "print('INPUT_DIR:', INPUT_DIR)\n",
    "print('OUT_DIR:', OUT_DIR)"
   ]
  },
  {
   "cell_type": "markdown",
   "id": "8d977538",
   "metadata": {},
   "source": [
    "## 2. Utilidades: Hash, Checkpoints, Notificaciones (stub)"
   ]
  },
  {
   "cell_type": "code",
   "execution_count": null,
   "id": "af116418",
   "metadata": {},
   "outputs": [],
   "source": [
    "def file_md5(path: str) -> str:\n",
    "    h = hashlib.md5()\n",
    "    with open(path, 'rb') as f:\n",
    "        for chunk in iter(lambda: f.read(8192), b''):\n",
    "            h.update(chunk)\n",
    "    return h.hexdigest()\n",
    "\n",
    "def chkpt_path(filename: str) -> str:\n",
    "    base = os.path.basename(filename)\n",
    "    return os.path.join(CHKPT_DIR, base + '.json')\n",
    "\n",
    "def is_processed(filename: str, md5sum: str) -> bool:\n",
    "    p = chkpt_path(filename)\n",
    "    if not os.path.exists(p):\n",
    "        return False\n",
    "    try:\n",
    "        data = json.load(open(p, 'r', encoding='utf-8'))\n",
    "        return data.get('md5') == md5sum\n",
    "    except Exception:\n",
    "        return False\n",
    "\n",
    "def save_chkpt(filename: str, md5sum: str, rows: int, status: str, error: Optional[str]=None):\n",
    "    p = chkpt_path(filename)\n",
    "    payload = {\n",
    "        'filename': os.path.basename(filename),\n",
    "        'md5': md5sum,\n",
    "        'rows': rows,\n",
    "        'status': status,\n",
    "        'error': error,\n",
    "        'timestamp': datetime.utcnow().isoformat()\n",
    "    }\n",
    "    json.dump(payload, open(p, 'w', encoding='utf-8'), ensure_ascii=False, indent=2)\n",
    "\n",
    "def notify(message: str, level: str = 'info') -> None:\n",
    "    \"\"\"\n",
    "    Stub de notificación: aquí iría Slack webhook o email SMTP.\n",
    "    Para Slack: POST a https://hooks.slack.com/services/... con {'text': message}\n",
    "    Para Email: usar smtplib con credenciales seguras (no hardcodear).\n",
    "    \"\"\"\n",
    "    levels = {'info': logging.INFO, 'warning': logging.WARNING, 'error': logging.ERROR}\n",
    "    logger.log(levels.get(level, logging.INFO), f'🔔 {message}')\n",
    "\n",
    "print('✅ Utilidades listas')"
   ]
  },
  {
   "cell_type": "markdown",
   "id": "522ab90b",
   "metadata": {},
   "source": [
    "## 3. Validación de Esquema y Transformación"
   ]
  },
  {
   "cell_type": "code",
   "execution_count": null,
   "id": "85db423a",
   "metadata": {},
   "outputs": [],
   "source": [
    "EXPECTED_COLUMNS = {\n",
    "    'venta_id': 'int64',\n",
    "    'cliente_id': 'int64',\n",
    "    'producto_id': 'int64',\n",
    "    'cantidad': 'int64',\n",
    "    'precio_unitario': 'float64',\n",
    "    'total': 'float64',\n",
    "    'fecha_venta': 'datetime64[ns]',\n",
    "    'metodo_pago': 'object',\n",
    "    'estado': 'object'\n",
    "}\n",
    "\n",
    "def read_csv_safe(path: str) -> pd.DataFrame:\n",
    "    df = pd.read_csv(path)\n",
    "    # Normalización mínima\n",
    "    if 'fecha_venta' in df.columns:\n",
    "        df['fecha_venta'] = pd.to_datetime(df['fecha_venta'], errors='coerce')\n",
    "    return df\n",
    "\n",
    "def validate_schema(df: pd.DataFrame) -> Tuple[bool, List[str]]:\n",
    "    errors = []\n",
    "    for col, dtype in EXPECTED_COLUMNS.items():\n",
    "        if col not in df.columns:\n",
    "            errors.append(f\n",
    "        else:\n",
    "            # Validación de tipo (suave)\n",
    "            if dtype.startswith('datetime'):\n",
    "                if not np.issubdtype(df[col].dtype, np.datetime64):\n",
    "                    errors.append(f\"Tipo inválido en {col}: {df[col].dtype}\")\n",
    "            elif dtype == 'object':\n",
    "                pass\n",
    "            else:\n",
    "                if str(df[col].dtype) != dtype:\n",
    "                    errors.append(f\"Tipo inválido en {col}: {df[col].dtype} (esperado {dtype})\")\n",
    "    return (len(errors) == 0, errors)\n",
    "\n",
    "def transform(df: pd.DataFrame) -> pd.DataFrame:\n",
    "    out = df.copy()\n",
    "    out['anio'] = out['fecha_venta'].dt.year\n",
    "    out['mes'] = out['fecha_venta'].dt.to_period('M').astype(str)\n",
    "    out['ticket_unitario'] = out['total'] / out['cantidad']\n",
    "    return out\n",
    "\n",
    "print('✅ Validadores definidos')"
   ]
  },
  {
   "cell_type": "markdown",
   "id": "5fe34a0f",
   "metadata": {},
   "source": [
    "## 4. Carga y Métricas"
   ]
  },
  {
   "cell_type": "code",
   "execution_count": null,
   "id": "a4f22f21",
   "metadata": {},
   "outputs": [],
   "source": [
    "def load_to_sqlite(df: pd.DataFrame, table: str = 'ventas_near_rt') -> None:\n",
    "    conn = sqlite3.connect(DB_PATH)\n",
    "    try:\n",
    "        df.to_sql(table, conn, if_exists='append', index=False)\n",
    "    finally:\n",
    "        conn.close()\n",
    "\n",
    "def export_parquet(df: pd.DataFrame, base_name: str) -> str:\n",
    "    ts = datetime.utcnow().strftime('%Y%m%dT%H%M%S')\n",
    "    out_path = os.path.join(PARQUET_DIR, f\n",
    ")\n",
    "    df.to_parquet(out_path, index=False)\n",
    "    return out_path\n",
    "\n",
    "def compute_metrics(df: pd.DataFrame) -> Dict:\n",
    "    return {\n",
    "        'rows': len(df),\n",
    "        'total_sum': float(df['total'].sum()),\n",
    "        'ticket_promedio': float(df['total'].mean()),\n",
    "        'clientes_unicos': int(df['cliente_id'].nunique())\n",
    "    }\n",
    "\n",
    "print('✅ Funciones de carga y métricas listas')"
   ]
  },
  {
   "cell_type": "markdown",
   "id": "f636c53d",
   "metadata": {},
   "source": [
    "## 5. Worker con Reintentos y Backoff"
   ]
  },
  {
   "cell_type": "code",
   "execution_count": null,
   "id": "f59624bd",
   "metadata": {},
   "outputs": [],
   "source": [
    "def process_file(path: str, max_retries: int = 3) -> bool:\n",
    "    md5sum = file_md5(path)\n",
    "    if is_processed(path, md5sum):\n",
    "        logger.info(f'⏭️ Ya procesado: {os.path.basename(path)}')\n",
    "        return True\n",
    "\n",
    "    sleep = 1.0\n",
    "    for attempt in range(1, max_retries+1):\n",
    "        try:\n",
    "            logger.info(f'📥 Procesando {os.path.basename(path)} (intento {attempt})')\n",
    "            df = read_csv_safe(path)\n",
    "            ok, errs = validate_schema(df)\n",
    "            if not ok:\n",
    "                raise ValueError('Esquema inválido: ' + '; '.join(errs))\n",
    "            df_t = transform(df)\n",
    "            load_to_sqlite(df_t)\n",
    "            pq = export_parquet(df_t, base_name=os.path.splitext(os.path.basename(path))[0])\n",
    "            m = compute_metrics(df_t)\n",
    "            save_chkpt(path, md5sum, rows=len(df_t), status='ok')\n",
    "            notify(f"
   ]
  },
  {
   "cell_type": "code",
   "execution_count": null,
   "id": "4e9dd599",
   "metadata": {},
   "outputs": [],
   "source": []
  },
  {
   "cell_type": "code",
   "execution_count": null,
   "id": "59be2bd2",
   "metadata": {},
   "outputs": [],
   "source": []
  },
  {
   "cell_type": "code",
   "execution_count": null,
   "id": "98394fc5",
   "metadata": {},
   "outputs": [],
   "source": []
  },
  {
   "cell_type": "code",
   "execution_count": null,
   "id": "251cc5d7",
   "metadata": {},
   "outputs": [],
   "source": []
  },
  {
   "cell_type": "code",
   "execution_count": null,
   "id": "8f3b0342",
   "metadata": {},
   "outputs": [],
   "source": []
  },
  {
   "cell_type": "code",
   "execution_count": null,
   "id": "ff48406a",
   "metadata": {},
   "outputs": [],
   "source": []
  },
  {
   "cell_type": "code",
   "execution_count": null,
   "id": "3ac789f9",
   "metadata": {},
   "outputs": [],
   "source": []
  },
  {
   "cell_type": "code",
   "execution_count": null,
   "id": "2e77b4bc",
   "metadata": {},
   "outputs": [],
   "source": []
  },
  {
   "cell_type": "code",
   "execution_count": null,
   "id": "4768a932",
   "metadata": {},
   "outputs": [],
   "source": []
  },
  {
   "cell_type": "code",
   "execution_count": null,
   "id": "f5211605",
   "metadata": {},
   "outputs": [],
   "source": []
  },
  {
   "cell_type": "code",
   "execution_count": null,
   "id": "cc12c999",
   "metadata": {},
   "outputs": [],
   "source": []
  },
  {
   "cell_type": "code",
   "execution_count": null,
   "id": "4e36db79",
   "metadata": {},
   "outputs": [],
   "source": []
  },
  {
   "cell_type": "code",
   "execution_count": null,
   "id": "1f018cac",
   "metadata": {},
   "outputs": [],
   "source": []
  }
 ],
 "metadata": {
  "language_info": {
   "name": "python"
  }
 },
 "nbformat": 4,
 "nbformat_minor": 5
}
